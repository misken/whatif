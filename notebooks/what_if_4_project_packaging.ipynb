{
 "cells": [
  {
   "cell_type": "code",
   "execution_count": 1,
   "metadata": {},
   "outputs": [],
   "source": [
    "%load_ext autoreload\n",
    "%autoreload 2"
   ]
  },
  {
   "cell_type": "code",
   "execution_count": 2,
   "metadata": {},
   "outputs": [],
   "source": [
    "import numpy as np\n",
    "import pandas as pd\n",
    "import matplotlib.pyplot as plt\n",
    "import seaborn as sns"
   ]
  },
  {
   "cell_type": "code",
   "execution_count": 3,
   "metadata": {},
   "outputs": [],
   "source": [
    "%matplotlib inline"
   ]
  },
  {
   "cell_type": "code",
   "execution_count": 1,
   "metadata": {},
   "outputs": [],
   "source": [
    "import sys"
   ]
  },
  {
   "cell_type": "code",
   "execution_count": 4,
   "metadata": {},
   "outputs": [
    {
     "name": "stdout",
     "output_type": "stream",
     "text": [
      "/home/mark/Documents/teaching/aap/creating_whatif\n",
      "/home/mark/anaconda3/envs/aap/lib/python39.zip\n",
      "/home/mark/anaconda3/envs/aap/lib/python3.9\n",
      "/home/mark/anaconda3/envs/aap/lib/python3.9/lib-dynload\n",
      "\n",
      "/home/mark/anaconda3/envs/aap/lib/python3.9/site-packages\n",
      "/home/mark/anaconda3/envs/aap/lib/python3.9/site-packages/IPython/extensions\n",
      "/home/mark/.ipython\n"
     ]
    }
   ],
   "source": [
    "print('\\n'.join(sys.path))"
   ]
  },
  {
   "cell_type": "markdown",
   "metadata": {},
   "source": [
    "https://packaging.python.org/overview/\n",
    "\n",
    "\n",
    "https://www.bernat.tech/pep-517-and-python-packaging/\n",
    "\n",
    "* very readable intro to this complex topic\n",
    "* very good high level diagrams of the packaging process\n",
    "\n",
    "https://docs.python-guide.org/writing/structure/ - Hitchhikers Guide\n",
    "\n",
    "https://blog.ionelmc.ro/2014/05/25/python-packaging/#the-structure\n",
    "\n",
    "https://packaging.python.org/tutorials/packaging-projects/\n",
    "\n",
    "https://packaging.python.org/guides/distributing-packages-using-setuptools/#working-in-development-mode\n",
    "\n",
    "\n",
    "https://realpython.com/python-application-layouts/\n",
    "\n",
    "https://github.com/yngvem/python-project-structure/\n",
    "\n",
    "https://www.martinalarcon.org/2018-12-31-a-reproducible-science/ - includes stuff on cookiecutter-datascience, Luigi for workflow, Docker. It's a great example of an approach to reproducible Python work."
   ]
  },
  {
   "cell_type": "markdown",
   "metadata": {},
   "source": [
    "src/ or not to src/\n",
    "\n",
    "https://github.com/pypa/packaging.python.org/issues/320\n",
    "https://github.com/pypa/packaging.python.org/issues/320#issuecomment-495990983"
   ]
  },
  {
   "cell_type": "markdown",
   "metadata": {},
   "source": [
    "Starting to think that cookiecutter-datascience is the right approach for package development projects like whatif. \n",
    "\n",
    "* uses src/ layout which seems to be gaining favor\n",
    "* seems simpler than the MOLSSI cms version. That one does a non src/ layout.\n",
    "* very simple setup.py file\n",
    "     - need to understand the `name='src'` line\n",
    "     - docs mention that can do editable pip installs and maybe this is related to that\n",
    "     - requirements.txt vs requires=[] in setup.py?\n",
    "* is from drivendata and thus has a very nice datasciencey layout\n",
    "* good documentation at a level suitable for data science folks who are learning to create better software\n",
    "\n",
    "https://drivendata.github.io/cookiecutter-data-science/\n",
    "\n",
    "    cookiecutter https://github.com/drivendata/cookiecutter-data-science"
   ]
  },
  {
   "cell_type": "markdown",
   "metadata": {},
   "source": [
    "## Excel \"What if?\" analysis with Python - Part 4: Project management and packaging\n"
   ]
  },
  {
   "cell_type": "markdown",
   "metadata": {},
   "source": [
    "In the first three parts of this series, we've developed some Python approaches to typical Excel \"what if?\" analyses. This whole series is aimed at those who might have a strong Excel based background, a basic familiarity with Python programming and a desire to increase their Python knowledge.\n",
    "\n",
    "* [Part 1: Models and Data Tables](http://hselab.org/excel-to-python-1-models-datatables.html)\n",
    "* [Part 2: Goal Seek](http://hselab.org/excel-to-python-2-goalseek.html)\n",
    "* [Part 3: Monte-carlo simulation](http://hselab.org/excel-to-python-3-simulation.html)\n",
    "\n",
    "Along the way we explored some slightly more advanced Python topics (for relative newcomers to Python) such as:\n",
    "\n",
    "* List comprehensions,\n",
    "* Basic OO programming, creating our own classes and using things like `setattr` and `getattr`,\n",
    "* Leveraging scikit-learn's `ParameterGrid` class,\n",
    "* Faceted plots using Seaborn and matplotlib,\n",
    "* Tuple unpacking, zip, and itertools,\n",
    "* Safely copying objects,\n",
    "* Root finding with, and without, `scipy.optimize`,\n",
    "* Partial function freezing and lambda functions,\n",
    "* Using `numpy.random` to generate random variates from various probability distributions,\n",
    "* Using `scipy.stats` to compute probabilities and percentiles,\n",
    "* Importing our `data_table`, `goal_seek` and `simulate` functions from a module.\n"
   ]
  },
  {
   "cell_type": "markdown",
   "metadata": {},
   "source": [
    "Now that we've got a critical mass of \"proof of concept\" code, let's figure out how to structure our project and create a deployable package. In addition, let's rethink our OO design and add some much needed documentation to the code.\n",
    "\n",
    "### Python packaging basics\n",
    "\n",
    "What is a Python module? What is a Python package? A simple way to think about it is that a module is a Python file containing programs and a package is a folder containing Python program files and perhaps subfolders that also contain Python program files (yes, there are many more details). \n",
    "\n",
    "\n",
    "\n",
    "There are tools for turning such a folder into something that can be uploaded to places like PyPi or conda-forge (if you've used R, think CRAN) and installed by package managers like pip or conda.\n",
    "\n",
    "**TODO** Diagram of a simple package\n",
    "\n",
    "If you are new to the world of Python modules and packages, a great place to start is the tutorial done by the folks at Real Python - [Python Modules and Packages - An Introduction](https://realpython.com/python-modules-packages/). After going through the tutorial you'll have some familiarity with concepts needed in our tutorial:\n",
    "\n",
    "* Python modules and how Python finds modules on your system,\n",
    "* the different ways of importing modules,\n",
    "* exploring the contents of modules,\n",
    "* executing modules as scripts and reloading modules,\n",
    "* Python packages, the __init__.py file, importing from packages, and subpackages.\n",
    "\n",
    "Another good high level introduction to modules, packages and project structure is [The Hitchhikers Guide to Python: Structuring Your Project](https://docs.python-guide.org/writing/structure/). Of course, one should also visit the official [Python Packaging User Guide](https://packaging.python.org/) (start with the [Overview](https://packaging.python.org/overview/)), especially with the ever evolving nature of this topic. \n",
    "\n",
    "With a basic and limited understanding of Python packages, let's get to turning `whatif.py` into a package. What could possibly go wrong?\n"
   ]
  },
  {
   "cell_type": "markdown",
   "metadata": {},
   "source": [
    "## Creating a simple Python project structure\n",
    "\n",
    "So far, we've taken a pretty typical approach to exploring and developing our what if tools:\n",
    "\n",
    "* use Jupyter notebooks to quickly try things out,\n",
    "* single folder for the project,\n",
    "* tried to use good filenames,\n",
    "* when we started moving code out of notebooks and into *whatif.py*, we put the script in the same folder as the notebook (makes it easy to do an `import whatif`).\n",
    "\n",
    "Many data analysis projects start in a similar way. In those, we usually at least would have a separate `data` folder. In terms of documentation, there are some scattered code comments and a README file with some notes to myself.\n",
    "\n",
    "I manually created the following really simple folder structure.\n",
    "\n",
    "    whatif\n",
    "    ├── data\n",
    "    ├── whatif\n",
    "        ├── what_if_1_model_datatable.ipynb\n",
    "        ├── what_if_2_goalseek.ipynb\n",
    "        ├── what_if_3_simulation.ipynb\n",
    "        └── whatif.py\n",
    "    ├── README.md\n",
    "\n",
    "Notice that for now, I've included the notebooks right in the main source code folder as opposed to in a notebooks folder. I'm doing that to put off some complexities around:\n",
    "\n",
    "* importing code while you are still developing it,\n",
    "* creating Python packages (for those who know about packaging, I've left out the `__init__.py` file for the same reasons).\n",
    "\n",
    "However, as the project has grown and we now want to turn `whatif.py` into a reusable Python package, we need to rethink the organization of the project. In particular,\n",
    "\n",
    "* the current structure is not what's needed for creating Python packages,\n",
    "* we should have real documentation,\n",
    "* the source code should be separate from example notebooks,\n",
    "* we want a structure that facilitates efficient workflows and reproducible analysis and development.\n",
    "\n",
    "We want a project structure that doesn't result in the all too common scenario of us going back to this project in six months and wondering what to make of the haphazard pile of files and folders we've created.\n",
    "\n",
    "Analytics or data science type projects are often a blend of analysis and software development. This parallels the situation that many scientists find themselves. Organizations such as [Software Carpentry](https://software-carpentry.org/) have arisen to address the growing need for scientists/analysts to be better software developers. They have developed very high quality introductory tutorials on numerous [scientific programming related topics](https://software-carpentry.org/lessons/) such as the basics of R/Python programming, version control, bash shell use, and reproducible scientific analysis.\n",
    "\n",
    "### So, how do you structure a Python project?\n",
    "\n",
    "There are no shortage of opinions on this question and there's no one right answer. As the Python packaging ecosystem has evolved over time, so has the way one can and/or should structure Python projects. In addition, different types of projects (e.g. single installable library package vs a web app) might call for [different types of project layouts](https://realpython.com/python-application-layouts/).\n",
    "\n",
    "### Enter, the Cookiecutter\n",
    "\n",
    "Arising from this need to have a simple way to quickly create good project structures for different types of projects was the [Cookiecutter](https://cookiecutter.readthedocs.io/en/1.7.2/). From the docs:\n",
    "\n",
    "> A command-line utility that creates projects from cookiecutters (project templates), e.g. creating a Python package project from a Python package project template.\n",
    "\n",
    "In a nutshell, from a simple json configuration file and an example folder and file structure, the cookiecutter program asks us a few questions and then generates a skeleton project structure (set of folders and files). It does this by using [Jinja2 templates](https://jinja.palletsprojects.com/en/2.11.x/). Here's what a simple *cookiecutter.json* file might look like:\n",
    "\n",
    "    {\n",
    "        \"project_name\": \"project name\",\n",
    "        \"repo_name\": \"{{ cookiecutter.project_name }}\",\n",
    "        \"author_name\": \"Your name (or your organization/company/team)\",\n",
    "        \"description\": \"A short description of the project.\",\n",
    "        \"open_source_license\": [\"MIT\", \"BSD-3-Clause\", \"No license file\"],\n",
    "    }\n",
    "\n",
    "The key values are the cookiecutter attributes that you want to define and the values are the default values and/or options. The `{{ SOMETHING }}` are the templates. Notice that the default value for `repo_name` is just the project name you entered. These templates are then used throughout the specific cookiecutter's example folder structure and cookiecutter program is just doing a big Search and Replace and filling in templates with their values. That's it. Simple but very powerful.\n",
    "\n",
    "Different types of Python people created different cookiecutters (i.e. templates) designed for their type of projects and their workflow and tool preferences. The most relevant for our purposes is the [Cookiecutter Data Science project](https://drivendata.github.io/cookiecutter-data-science/)\n",
    "\n",
    "\n",
    "\n",
    "https://education.molssi.org/python-package-best-practices/\n",
    "\n",
    "\n",
    "\n",
    "\n",
    "We'll revisit the project structure later after we have made some improvements to our **whatif.py** module."
   ]
  },
  {
   "cell_type": "markdown",
   "metadata": {},
   "source": [
    "## Version control\n",
    "\n",
    "Initialized as a git repo \n",
    "\n",
    "```\n",
    "git init\n",
    "git add .\n",
    "git commit -m 'initial commit'\n",
    "```\n",
    "and created remote repo at Github.\n",
    "\n",
    "\n",
    "\n",
    "```\n",
    "git remote add origin https://github.com/misken/whatif.git\n",
    "git branch -M main\n",
    "git push -u origin main\n",
    "```\n",
    "\n",
    "https://github.com/misken/whatif"
   ]
  },
  {
   "cell_type": "markdown",
   "metadata": {},
   "source": [
    "## Source code editing\n",
    "For now, we are going to edit *whatif.py* with a good text editor. In Linux, I use Geany as it has some nice features for programming including syntax highlighting, setting indent to spaces, code folding, a visual code structure tree, and many more. Do a search for \"linux best code editors\" and you can find additional options for editors. If you want to spend some time on a long time point of contention, check out the [vim vs emacs](https://linuxhint.com/vim_vs_emacs/) debate. But to really even appreciate that debate, you should have [some familiarity with *vi*](https://www.ele.uri.edu/faculty/vetter/Other-stuff/vi/vi-intro.pdf), the precursor to *vim*. It's a whole different world that using a modern text editor. I used *vi* in grad school (decades ago), but any knowledge I had is long gone. Seriously, don't do this; just grab Geany or Atom (any platform) or Sublime Text or Notepad++ (Windows) or some other decent text editor.\n",
    "\n",
    "Later, we'll use the PyCharm (or Spyder) IDE, but for now, a good text editor is more than sufficient."
   ]
  },
  {
   "cell_type": "markdown",
   "metadata": {},
   "source": [
    "## The whatif.py module - initial design\n",
    "After completing Part 3 of this series, we had an example model class, `BookstoreModel`, and three functions that took such a model as one of the arguments and one utility function that was used to extract a Pandas `DataFrame` from the simulationoutput object (a list of dictionaries).\n",
    "\n",
    "* `data_table` - a generalized version of Excel's Data Table tool,\n",
    "* `goal_seek` - very similar in purpose to Excel's Goal Seek tool,\n",
    "* `simulate` - basic Monte-Carlo simulation capabilities,\n",
    "* `get_sim_results_df` - converts output of `simulate` to a pandas dataframe.\n",
    "\n",
    "All of these were copied and pasted from their respective Jupyter notebooks and consolidated in the *whatif.py* file. This module can be imported and its functions used. While this is workable, let's try to generalize things a bit and improve the design. "
   ]
  },
  {
   "cell_type": "markdown",
   "metadata": {},
   "source": [
    "## Creating a `Model` base class\n",
    "\n",
    "Everything we've done so far has used the one specific model class we created - `BookstoreModel`. In order to create a new model, we'd probably copy the code from this class and make the changes specific to the new model in terms of its variables (class attributes) and formulas (class methods). However, every model class (as we've conceived it so far) also needs to have an `update` method that takes a dictionary of model variable names (the keys) and their new values. Rather than the modeler having to remember to do this, it makes more sense to create a generic `Model` *base class* from which our specific model classes will *inherit* things like an `update` method. Also, all three of the analysis functions we created (`data_table`, `goal_seek` and `simulate`) relay on this specific implementation of `update` and require a model object as an input argument. Given that, it makes sense to move these functions from their current place as *module level* functions to class methods of new base class, `Model`.\n",
    "I also moved the `__str__` function into our new `Model` base class.\n",
    "\n",
    "If you are new to OOP, check out this [tutorial which discusses inheritance](https://www.python-course.eu/python3_inheritance.php)."
   ]
  },
  {
   "cell_type": "markdown",
   "metadata": {},
   "source": [
    "Here's our updated `BookstoreModel` class. A few things to note:\n",
    "\n",
    "* it includes the `Model` *base class* within the parentheses,\n",
    "* it no longer has an `update` method.\n",
    "* it no longer has a `__str__` method.\n",
    "\n",
    "`BookstoreModel` will inherit `update` from the `Model` class. It also inherits `__str__`, but we could certainly include an `__str__` method in `BookstoreModel` if we wanted some custom string representation or just didn't like the one in the `Model` base class. This is called *method overriding*."
   ]
  },
  {
   "cell_type": "code",
   "execution_count": 19,
   "metadata": {},
   "outputs": [],
   "source": [
    "class BookstoreModel(Model):\n",
    "    def __init__(self, unit_cost=0, selling_price=0, unit_refund=0,\n",
    "                 order_quantity=0, demand=0):\n",
    "        \n",
    "        self.unit_cost = unit_cost\n",
    "        self.selling_price = selling_price\n",
    "        self.unit_refund = unit_refund\n",
    "        self.order_quantity = order_quantity\n",
    "        self.demand = demand\n",
    "\n",
    "    def order_cost(self):\n",
    "        return self.unit_cost * self.order_quantity\n",
    "\n",
    "    def sales_revenue(self):\n",
    "        return np.minimum(self.order_quantity, self.demand) * self.selling_price\n",
    "\n",
    "    def refund_revenue(self):\n",
    "        return np.maximum(0, self.order_quantity - self.demand) * self.unit_refund\n",
    "\n",
    "    def total_revenue(self):\n",
    "        return self.sales_revenue() + self.refund_revenue() \n",
    "\n",
    "    def refund_revenue(self):\n",
    "        return np.maximum(0, self.order_quantity - self.demand)\n",
    "\n",
    "    def profit(self):\n",
    "        '''\n",
    "        Compute profit in bookstore model\n",
    "        '''\n",
    "        profit = self.sales_revenue() + self.refund_revenue() - self.order_cost()\n",
    "        return profit\n"
   ]
  },
  {
   "cell_type": "markdown",
   "metadata": {},
   "source": [
    "## Adding new methods to `BookstoreModel` \n",
    "Anyone who builds spreadsheet models knows that it's usually better to decompose large formulas into smaller peices. Not only does this help with model debugging and readability, it provides an easy way to analyze components of composite quantities. For example, `sales_revenue` is based on the number of units sold and the selling price per unit. The implementation above, buries the computation of number sold into the `sales_revenue` function. This makes it tough to do things like sensitivity analysis on number sold. So, we'll rework the class a bit to add a new method. Notice, I've also added basic docstrings - more on documentation later in this notebook."
   ]
  },
  {
   "cell_type": "code",
   "execution_count": null,
   "metadata": {},
   "outputs": [],
   "source": [
    "def num_sold(self):\n",
    "    \"\"\"Compute number of items sold\n",
    "\n",
    "    Assumes demand in excess of order quantity is lost.\n",
    "    \"\"\"\n",
    "    return np.minimum(self.order_quantity, self.demand)\n",
    "\n",
    "def sales_revenue(self):\n",
    "    \"\"\"Compute total sales revenue based on number sold and selling price\"\"\"\n",
    "    return self.num_sold() * self.selling_price"
   ]
  },
  {
   "cell_type": "code",
   "execution_count": null,
   "metadata": {},
   "outputs": [],
   "source": []
  },
  {
   "cell_type": "code",
   "execution_count": null,
   "metadata": {},
   "outputs": [],
   "source": []
  },
  {
   "cell_type": "markdown",
   "metadata": {},
   "source": [
    "Ok, small confession. I've already made these changes in **whatif.py**.\n",
    "\n",
    "As a simple example, let's create a model object that just implements a *power function*: $f(x) = ax^b$. [Power functions](https://en.wikipedia.org/wiki/Power_law) capture all sorts of interesting relationships."
   ]
  },
  {
   "cell_type": "code",
   "execution_count": 20,
   "metadata": {},
   "outputs": [],
   "source": [
    "class PowerFunctionModel(Model):\n",
    "    def __init__(self, x=0, a=1, b=-1):\n",
    "        \n",
    "        self.x = x\n",
    "        self.a = a\n",
    "        self.b = b\n",
    "\n",
    "\n",
    "    def f(self):\n",
    "        '''\n",
    "        Compute power function\n",
    "        '''\n",
    "        y = self.a * self.x ** self.b\n",
    "        return y\n",
    "    \n",
    "    def __call__(self):\n",
    "        '''\n",
    "        Compute power function\n",
    "        '''\n",
    "        y = self.f()\n",
    "        return y"
   ]
  },
  {
   "cell_type": "code",
   "execution_count": 21,
   "metadata": {},
   "outputs": [],
   "source": [
    "pf1 = PowerFunctionModel(x = np.linspace(1, 2, 25), a=1, b=-0.5)"
   ]
  },
  {
   "cell_type": "code",
   "execution_count": 22,
   "metadata": {},
   "outputs": [
    {
     "data": {
      "text/plain": [
       "array([1.        , 0.9797959 , 0.96076892, 0.94280904, 0.9258201 ,\n",
       "       0.90971765, 0.89442719, 0.87988269, 0.8660254 , 0.85280287,\n",
       "       0.84016805, 0.82807867, 0.81649658, 0.80538727, 0.79471941,\n",
       "       0.78446454, 0.77459667, 0.76509206, 0.75592895, 0.74708737,\n",
       "       0.73854895, 0.73029674, 0.72231512, 0.7145896 , 0.70710678])"
      ]
     },
     "execution_count": 22,
     "metadata": {},
     "output_type": "execute_result"
    }
   ],
   "source": [
    "pf1.f()"
   ]
  },
  {
   "cell_type": "code",
   "execution_count": 23,
   "metadata": {},
   "outputs": [
    {
     "data": {
      "text/plain": [
       "array([1.        , 0.9797959 , 0.96076892, 0.94280904, 0.9258201 ,\n",
       "       0.90971765, 0.89442719, 0.87988269, 0.8660254 , 0.85280287,\n",
       "       0.84016805, 0.82807867, 0.81649658, 0.80538727, 0.79471941,\n",
       "       0.78446454, 0.77459667, 0.76509206, 0.75592895, 0.74708737,\n",
       "       0.73854895, 0.73029674, 0.72231512, 0.7145896 , 0.70710678])"
      ]
     },
     "execution_count": 23,
     "metadata": {},
     "output_type": "execute_result"
    }
   ],
   "source": [
    "pf1()"
   ]
  },
  {
   "cell_type": "code",
   "execution_count": 24,
   "metadata": {},
   "outputs": [],
   "source": [
    "new_params = {'a': 2, 'b': 1.5}"
   ]
  },
  {
   "cell_type": "code",
   "execution_count": 25,
   "metadata": {},
   "outputs": [
    {
     "name": "stdout",
     "output_type": "stream",
     "text": [
      "{'x': array([1.        , 1.04166667, 1.08333333, 1.125     , 1.16666667,\n",
      "       1.20833333, 1.25      , 1.29166667, 1.33333333, 1.375     ,\n",
      "       1.41666667, 1.45833333, 1.5       , 1.54166667, 1.58333333,\n",
      "       1.625     , 1.66666667, 1.70833333, 1.75      , 1.79166667,\n",
      "       1.83333333, 1.875     , 1.91666667, 1.95833333, 2.        ]), 'a': 2, 'b': 1.5}\n"
     ]
    }
   ],
   "source": [
    "pf1.update(new_params)\n",
    "print(pf1)"
   ]
  },
  {
   "cell_type": "code",
   "execution_count": 26,
   "metadata": {},
   "outputs": [
    {
     "name": "stdout",
     "output_type": "stream",
     "text": [
      "{'x': 1, 'a': 3, 'b': 0.5}\n"
     ]
    }
   ],
   "source": [
    "pf1.x = 1\n",
    "pf1.a = 3\n",
    "pf1.b = 0.5\n",
    "print(pf1)"
   ]
  },
  {
   "cell_type": "code",
   "execution_count": null,
   "metadata": {},
   "outputs": [],
   "source": []
  },
  {
   "cell_type": "markdown",
   "metadata": {},
   "source": [
    "### PyCharm Project\n",
    "\n",
    "Created new project in PyCharm"
   ]
  },
  {
   "cell_type": "markdown",
   "metadata": {},
   "source": [
    "Creating Model superclass"
   ]
  },
  {
   "cell_type": "markdown",
   "metadata": {},
   "source": [
    "https://stackoverflow.com/questions/35064426/when-would-the-e-editable-option-be-useful-with-pip-install\n",
    "\n",
    "https://pip-python3.readthedocs.io/en/latest/reference/pip_install.html#vcs-support\n",
    "\n",
    "https://realpython.com/absolute-vs-relative-python-imports/"
   ]
  },
  {
   "cell_type": "markdown",
   "metadata": {},
   "source": [
    "https://ipython.readthedocs.io/en/stable/config/extensions/autoreload.html?highlight=autoreload"
   ]
  },
  {
   "cell_type": "code",
   "execution_count": null,
   "metadata": {},
   "outputs": [],
   "source": []
  },
  {
   "cell_type": "code",
   "execution_count": null,
   "metadata": {},
   "outputs": [],
   "source": []
  },
  {
   "cell_type": "code",
   "execution_count": null,
   "metadata": {},
   "outputs": [],
   "source": []
  },
  {
   "cell_type": "code",
   "execution_count": null,
   "metadata": {},
   "outputs": [],
   "source": []
  },
  {
   "cell_type": "code",
   "execution_count": null,
   "metadata": {},
   "outputs": [],
   "source": []
  },
  {
   "cell_type": "code",
   "execution_count": null,
   "metadata": {},
   "outputs": [],
   "source": []
  },
  {
   "cell_type": "code",
   "execution_count": null,
   "metadata": {},
   "outputs": [],
   "source": []
  },
  {
   "cell_type": "code",
   "execution_count": null,
   "metadata": {},
   "outputs": [],
   "source": []
  },
  {
   "cell_type": "code",
   "execution_count": null,
   "metadata": {},
   "outputs": [],
   "source": []
  },
  {
   "cell_type": "code",
   "execution_count": null,
   "metadata": {},
   "outputs": [],
   "source": []
  },
  {
   "cell_type": "code",
   "execution_count": null,
   "metadata": {},
   "outputs": [],
   "source": []
  },
  {
   "cell_type": "code",
   "execution_count": null,
   "metadata": {},
   "outputs": [],
   "source": []
  },
  {
   "cell_type": "markdown",
   "metadata": {},
   "source": [
    "Lot's more to do, but let's stop here for this post. The basic design seems ok and we can build on this in future installments."
   ]
  },
  {
   "cell_type": "markdown",
   "metadata": {},
   "source": [
    "## Wrap up and next steps\n",
    "We have added a basic `simulate` function to our `data_table` and `goal_seek` functions. Python is proving to be quite nice for doing Excel-style \"what if?\" analysis. \n",
    "\n",
    "In Part 4 of this series, we'll make some improvements and do some clean-up on our classes and functions. We'll move everything into a single **whatif.py** module and learn how to create a Python package to make it easy to use and share our new functions. We'll try out our package on a new model and sketch out some ideas for future enhancements to the package. It's important we also start creating some basic documentation and a user guide."
   ]
  },
  {
   "cell_type": "code",
   "execution_count": null,
   "metadata": {},
   "outputs": [],
   "source": []
  },
  {
   "cell_type": "markdown",
   "metadata": {},
   "source": [
    "### Create a model object"
   ]
  },
  {
   "cell_type": "code",
   "execution_count": 5,
   "metadata": {},
   "outputs": [],
   "source": [
    "import whatif"
   ]
  },
  {
   "cell_type": "code",
   "execution_count": 6,
   "metadata": {},
   "outputs": [],
   "source": [
    "base_inputs = {'unit_cost': 7.50,\n",
    "              'selling_price': 10.00,\n",
    "              'unit_refund': 2.50,\n",
    "              'order_quantity': 200,\n",
    "              'demand': 193}"
   ]
  },
  {
   "cell_type": "markdown",
   "metadata": {},
   "source": [
    "Since our example model class has all keyword args, we can use [dictionary unpacking](https://realpython.com/iterate-through-dictionary-python/#using-the-dictionary-unpacking-operator) to pass the arguments in."
   ]
  },
  {
   "cell_type": "code",
   "execution_count": 7,
   "metadata": {},
   "outputs": [
    {
     "name": "stdout",
     "output_type": "stream",
     "text": [
      "{'unit_cost': 7.5, 'selling_price': 10.0, 'unit_refund': 2.5, 'order_quantity': 200, 'demand': 193}\n"
     ]
    }
   ],
   "source": [
    "book_model = whatif.BookstoreModel(**base_inputs)\n",
    "\n",
    "# Instead of above, can also do using the update method of the class\n",
    "# book_model = whatif.BookstoreModel()\n",
    "# book_model.update(base_inputs)\n",
    "\n",
    "print(book_model)"
   ]
  },
  {
   "cell_type": "markdown",
   "metadata": {},
   "source": [
    "### Do some goal seeking\n",
    "\n",
    "Find the breakeven level of demand using `goal_seek`."
   ]
  },
  {
   "cell_type": "code",
   "execution_count": 8,
   "metadata": {},
   "outputs": [
    {
     "data": {
      "text/plain": [
       "\u001b[0;31mSignature:\u001b[0m \u001b[0mwhatif\u001b[0m\u001b[0;34m.\u001b[0m\u001b[0mgoal_seek\u001b[0m\u001b[0;34m(\u001b[0m\u001b[0mmodel\u001b[0m\u001b[0;34m,\u001b[0m \u001b[0mobj_fn\u001b[0m\u001b[0;34m,\u001b[0m \u001b[0mtarget\u001b[0m\u001b[0;34m,\u001b[0m \u001b[0mby_changing\u001b[0m\u001b[0;34m,\u001b[0m \u001b[0ma\u001b[0m\u001b[0;34m,\u001b[0m \u001b[0mb\u001b[0m\u001b[0;34m,\u001b[0m \u001b[0mN\u001b[0m\u001b[0;34m=\u001b[0m\u001b[0;36m100\u001b[0m\u001b[0;34m)\u001b[0m\u001b[0;34m\u001b[0m\u001b[0;34m\u001b[0m\u001b[0m\n",
       "\u001b[0;31mDocstring:\u001b[0m\n",
       "Approximate solution of f(x)=0 on interval [a,b] by bisection method.\n",
       "\n",
       "Parameters\n",
       "----------\n",
       "model : object\n",
       "    User defined object containing the appropriate methods and properties for doing the desired goal seek\n",
       "obj_fn : function\n",
       "    The function for which we are trying to approximate a solution f(x)=target.\n",
       "target : float\n",
       "    The goal\n",
       "by_changing : string\n",
       "    Name of the input variable in model\n",
       "a,b : numbers\n",
       "    The interval in which to search for a solution. The function returns\n",
       "    None if (f(a) - target) * (f(b) - target) >= 0 since a solution is not guaranteed.\n",
       "N : (positive) integer\n",
       "    The number of iterations to implement.\n",
       "\n",
       "Returns\n",
       "-------\n",
       "x_N : number\n",
       "    The midpoint of the Nth interval computed by the bisection method. The\n",
       "    initial interval [a_0,b_0] is given by [a,b]. If f(m_n) - target == 0 for some\n",
       "    midpoint m_n = (a_n + b_n)/2, then the function returns this solution.\n",
       "    If all signs of values f(a_n), f(b_n) and f(m_n) are the same at any\n",
       "    iteration, the bisection method fails and return None.\n",
       "\u001b[0;31mFile:\u001b[0m      ~/Documents/projects/whatif/whatif/whatif.py\n",
       "\u001b[0;31mType:\u001b[0m      function\n"
      ]
     },
     "metadata": {},
     "output_type": "display_data"
    }
   ],
   "source": [
    "whatif.goal_seek?"
   ]
  },
  {
   "cell_type": "code",
   "execution_count": 9,
   "metadata": {},
   "outputs": [
    {
     "data": {
      "text/plain": [
       "144.44444444444446"
      ]
     },
     "execution_count": 9,
     "metadata": {},
     "output_type": "execute_result"
    }
   ],
   "source": [
    "whatif.goal_seek(book_model, 'profit', 0.0, 'demand', 0, 2000)"
   ]
  },
  {
   "cell_type": "markdown",
   "metadata": {},
   "source": [
    "What if we wanted the break even points for several different order quantities?"
   ]
  },
  {
   "cell_type": "code",
   "execution_count": 10,
   "metadata": {},
   "outputs": [],
   "source": [
    "oq_scenarios = [100, 150, 200, 250, 300]"
   ]
  },
  {
   "cell_type": "code",
   "execution_count": 11,
   "metadata": {},
   "outputs": [
    {
     "name": "stdout",
     "output_type": "stream",
     "text": [
      "[ 72. 108. 144. 181. 217.]\n"
     ]
    },
    {
     "data": {
      "image/png": "[encoded data removed]",
      "text/plain": [
       "<Figure size 432x288 with 1 Axes>"
      ]
     },
     "metadata": {
      "needs_background": "light"
     },
     "output_type": "display_data"
    }
   ],
   "source": [
    "break_even_points = []\n",
    "for oq in oq_scenarios:\n",
    "    # Update the model with oq\n",
    "    book_model.order_quantity = oq\n",
    "    # Do the goal seek\n",
    "    break_even = whatif.goal_seek(book_model, 'profit', 0.0, 'demand', 0, 2000)\n",
    "    break_even_points.append(break_even)\n",
    "    \n",
    "print(np.around(break_even_points))\n",
    "\n",
    "plt.bar(x=oq_scenarios, height=break_even_points)\n",
    "plt.xlabel(\"Order Quantity\")\n",
    "plt.ylabel(\"Demand\")\n",
    "plt.title(\"Break even demand by order quantity\")\n",
    "plt.show();\n",
    "    "
   ]
  },
  {
   "cell_type": "markdown",
   "metadata": {},
   "source": [
    "Since we've made changes to the model object, we might want to reset its values to their initial values."
   ]
  },
  {
   "cell_type": "code",
   "execution_count": 12,
   "metadata": {},
   "outputs": [
    {
     "name": "stdout",
     "output_type": "stream",
     "text": [
      "{'unit_cost': 7.5, 'selling_price': 10.0, 'unit_refund': 2.5, 'order_quantity': 300, 'demand': 193}\n",
      "{'unit_cost': 7.5, 'selling_price': 10.0, 'unit_refund': 2.5, 'order_quantity': 200, 'demand': 193}\n"
     ]
    }
   ],
   "source": [
    "# See current attribute values\n",
    "print(book_model)\n",
    "\n",
    "# Hit the reset button\n",
    "book_model.update(base_inputs)\n",
    "\n",
    "# See current attribute values\n",
    "print(book_model)"
   ]
  },
  {
   "cell_type": "markdown",
   "metadata": {},
   "source": [
    "### Create a data table\n",
    "\n",
    "Let's do a quick 1-way data table using the order quantities as our input variable."
   ]
  },
  {
   "cell_type": "code",
   "execution_count": 13,
   "metadata": {},
   "outputs": [
    {
     "data": {
      "text/html": [
       "<div>\n",
       "<style scoped>\n",
       "    .dataframe tbody tr th:only-of-type {\n",
       "        vertical-align: middle;\n",
       "    }\n",
       "\n",
       "    .dataframe tbody tr th {\n",
       "        vertical-align: top;\n",
       "    }\n",
       "\n",
       "    .dataframe thead th {\n",
       "        text-align: right;\n",
       "    }\n",
       "</style>\n",
       "<table border=\"1\" class=\"dataframe\">\n",
       "  <thead>\n",
       "    <tr style=\"text-align: right;\">\n",
       "      <th></th>\n",
       "      <th>order_quantity</th>\n",
       "      <th>profit</th>\n",
       "      <th>total_revenue</th>\n",
       "    </tr>\n",
       "  </thead>\n",
       "  <tbody>\n",
       "    <tr>\n",
       "      <th>0</th>\n",
       "      <td>100</td>\n",
       "      <td>250.0</td>\n",
       "      <td>1000.0</td>\n",
       "    </tr>\n",
       "    <tr>\n",
       "      <th>1</th>\n",
       "      <td>150</td>\n",
       "      <td>375.0</td>\n",
       "      <td>1500.0</td>\n",
       "    </tr>\n",
       "    <tr>\n",
       "      <th>2</th>\n",
       "      <td>200</td>\n",
       "      <td>437.0</td>\n",
       "      <td>1937.0</td>\n",
       "    </tr>\n",
       "    <tr>\n",
       "      <th>3</th>\n",
       "      <td>250</td>\n",
       "      <td>112.0</td>\n",
       "      <td>1987.0</td>\n",
       "    </tr>\n",
       "    <tr>\n",
       "      <th>4</th>\n",
       "      <td>300</td>\n",
       "      <td>-213.0</td>\n",
       "      <td>2037.0</td>\n",
       "    </tr>\n",
       "  </tbody>\n",
       "</table>\n",
       "</div>"
      ],
      "text/plain": [
       "   order_quantity  profit  total_revenue\n",
       "0             100   250.0         1000.0\n",
       "1             150   375.0         1500.0\n",
       "2             200   437.0         1937.0\n",
       "3             250   112.0         1987.0\n",
       "4             300  -213.0         2037.0"
      ]
     },
     "execution_count": 13,
     "metadata": {},
     "output_type": "execute_result"
    }
   ],
   "source": [
    "scenario_inputs = {'order_quantity': oq_scenarios}\n",
    "outputs = ['profit', 'total_revenue']\n",
    "\n",
    "dt1_df = whatif.data_table(book_model, scenario_inputs, outputs)\n",
    "dt1_df"
   ]
  },
  {
   "cell_type": "markdown",
   "metadata": {},
   "source": [
    "### Run a simulation\n",
    "\n",
    "Let's assume we model demand with a normal distribution with a mean of 193 and a standard deviation of 40. First we need to create a random number generator from `numpy.random`."
   ]
  },
  {
   "cell_type": "code",
   "execution_count": 14,
   "metadata": {},
   "outputs": [],
   "source": [
    "from numpy.random import default_rng\n",
    "rg = default_rng(19)"
   ]
  },
  {
   "cell_type": "code",
   "execution_count": 15,
   "metadata": {},
   "outputs": [],
   "source": [
    "demand_mean = 193\n",
    "demand_sd = 40\n",
    "\n",
    "n_reps = 1000\n",
    "\n",
    "demand_sim = np.around(rg.normal(demand_mean, demand_sd, n_reps))\n",
    "\n",
    "random_inputs = {'demand': demand_sim}"
   ]
  },
  {
   "cell_type": "code",
   "execution_count": 16,
   "metadata": {},
   "outputs": [
    {
     "data": {
      "text/html": [
       "<div>\n",
       "<style scoped>\n",
       "    .dataframe tbody tr th:only-of-type {\n",
       "        vertical-align: middle;\n",
       "    }\n",
       "\n",
       "    .dataframe tbody tr th {\n",
       "        vertical-align: top;\n",
       "    }\n",
       "\n",
       "    .dataframe thead th {\n",
       "        text-align: right;\n",
       "    }\n",
       "</style>\n",
       "<table border=\"1\" class=\"dataframe\">\n",
       "  <thead>\n",
       "    <tr style=\"text-align: right;\">\n",
       "      <th></th>\n",
       "      <th>profit</th>\n",
       "      <th>total_revenue</th>\n",
       "      <th>scenario_num</th>\n",
       "      <th>order_quantity</th>\n",
       "    </tr>\n",
       "  </thead>\n",
       "  <tbody>\n",
       "    <tr>\n",
       "      <th>0</th>\n",
       "      <td>250.0</td>\n",
       "      <td>1000.0</td>\n",
       "      <td>0</td>\n",
       "      <td>100</td>\n",
       "    </tr>\n",
       "    <tr>\n",
       "      <th>1</th>\n",
       "      <td>250.0</td>\n",
       "      <td>1000.0</td>\n",
       "      <td>0</td>\n",
       "      <td>100</td>\n",
       "    </tr>\n",
       "    <tr>\n",
       "      <th>2</th>\n",
       "      <td>250.0</td>\n",
       "      <td>1000.0</td>\n",
       "      <td>0</td>\n",
       "      <td>100</td>\n",
       "    </tr>\n",
       "    <tr>\n",
       "      <th>3</th>\n",
       "      <td>250.0</td>\n",
       "      <td>1000.0</td>\n",
       "      <td>0</td>\n",
       "      <td>100</td>\n",
       "    </tr>\n",
       "    <tr>\n",
       "      <th>4</th>\n",
       "      <td>250.0</td>\n",
       "      <td>1000.0</td>\n",
       "      <td>0</td>\n",
       "      <td>100</td>\n",
       "    </tr>\n",
       "    <tr>\n",
       "      <th>...</th>\n",
       "      <td>...</td>\n",
       "      <td>...</td>\n",
       "      <td>...</td>\n",
       "      <td>...</td>\n",
       "    </tr>\n",
       "    <tr>\n",
       "      <th>995</th>\n",
       "      <td>39.0</td>\n",
       "      <td>2289.0</td>\n",
       "      <td>4</td>\n",
       "      <td>300</td>\n",
       "    </tr>\n",
       "    <tr>\n",
       "      <th>996</th>\n",
       "      <td>741.0</td>\n",
       "      <td>2991.0</td>\n",
       "      <td>4</td>\n",
       "      <td>300</td>\n",
       "    </tr>\n",
       "    <tr>\n",
       "      <th>997</th>\n",
       "      <td>-186.0</td>\n",
       "      <td>2064.0</td>\n",
       "      <td>4</td>\n",
       "      <td>300</td>\n",
       "    </tr>\n",
       "    <tr>\n",
       "      <th>998</th>\n",
       "      <td>-312.0</td>\n",
       "      <td>1938.0</td>\n",
       "      <td>4</td>\n",
       "      <td>300</td>\n",
       "    </tr>\n",
       "    <tr>\n",
       "      <th>999</th>\n",
       "      <td>3.0</td>\n",
       "      <td>2253.0</td>\n",
       "      <td>4</td>\n",
       "      <td>300</td>\n",
       "    </tr>\n",
       "  </tbody>\n",
       "</table>\n",
       "<p>5000 rows × 4 columns</p>\n",
       "</div>"
      ],
      "text/plain": [
       "     profit  total_revenue  scenario_num  order_quantity\n",
       "0     250.0         1000.0             0             100\n",
       "1     250.0         1000.0             0             100\n",
       "2     250.0         1000.0             0             100\n",
       "3     250.0         1000.0             0             100\n",
       "4     250.0         1000.0             0             100\n",
       "..      ...            ...           ...             ...\n",
       "995    39.0         2289.0             4             300\n",
       "996   741.0         2991.0             4             300\n",
       "997  -186.0         2064.0             4             300\n",
       "998  -312.0         1938.0             4             300\n",
       "999     3.0         2253.0             4             300\n",
       "\n",
       "[5000 rows x 4 columns]"
      ]
     },
     "execution_count": 16,
     "metadata": {},
     "output_type": "execute_result"
    }
   ],
   "source": [
    "sim_results = whatif.simulate(book_model, random_inputs, outputs, scenario_inputs)\n",
    "sim_results_df = whatif.get_sim_results_df(sim_results)\n",
    "sim_results_df"
   ]
  },
  {
   "cell_type": "code",
   "execution_count": 17,
   "metadata": {},
   "outputs": [
    {
     "data": {
      "image/png": "[encoded data removed]",
      "text/plain": [
       "<Figure size 432x288 with 1 Axes>"
      ]
     },
     "metadata": {
      "needs_background": "light"
     },
     "output_type": "display_data"
    }
   ],
   "source": [
    "sns.boxplot(x=\"order_quantity\", y=\"profit\", data=sim_results_df);"
   ]
  },
  {
   "cell_type": "markdown",
   "metadata": {},
   "source": [
    "Plenty of room for enhancements, but not bad. Pretty easy to use."
   ]
  }
 ],
 "metadata": {
  "kernelspec": {
   "display_name": "Python 3",
   "language": "python",
   "name": "python3"
  },
  "language_info": {
   "codemirror_mode": {
    "name": "ipython",
    "version": 3
   },
   "file_extension": ".py",
   "mimetype": "text/x-python",
   "name": "python",
   "nbconvert_exporter": "python",
   "pygments_lexer": "ipython3",
   "version": "3.9.1"
  }
 },
 "nbformat": 4,
 "nbformat_minor": 4
}
