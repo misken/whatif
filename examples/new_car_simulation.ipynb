{
 "cells": [
  {
   "cell_type": "code",
   "execution_count": 1,
   "id": "88d7fcbe",
   "metadata": {},
   "outputs": [],
   "source": [
    "%load_ext autoreload\n",
    "%autoreload 2"
   ]
  },
  {
   "cell_type": "markdown",
   "id": "eff41d7b",
   "metadata": {},
   "source": [
    "## New Car Simulation model\n",
    "\n",
    "This example is based on one in the textbook [Business Analytics: Data Analysis and Decision Making (Albright and Winston)](https://host.kelley.iu.edu/albrightbooks/). This example is in Section 16.3 in the 7th edition. Here's the basic problem (with a few modifications):\n",
    "\n",
    "* we are developing a new car,\n",
    "* there's a fixed development cost,\n",
    "* we have estimated a unit margin per car which decays at a known rate each year,\n",
    "* demand in the first year is uncertain and we will model it with a triangular distribution,\n",
    "* demand in years 2 through 5 are based on the previous years demand and a decay rate modeled with another triangular distribution,\n",
    "* depreciation is modeled using the straight line method and theirs a known fixed tax rate."
   ]
  },
  {
   "cell_type": "markdown",
   "id": "4c510346",
   "metadata": {},
   "source": [
    "### Imports"
   ]
  },
  {
   "cell_type": "code",
   "execution_count": 3,
   "id": "e7208770",
   "metadata": {},
   "outputs": [],
   "source": [
    "import numpy as np\n",
    "import pandas as pd\n",
    "import matplotlib.pyplot as plt\n",
    "import seaborn as sns\n",
    "from numpy.random import default_rng\n",
    "\n",
    "# Numpy financial functions have been removed to their own package\n",
    "# See https://numpy.org/numpy-financial/\n",
    "import numpy_financial as npf"
   ]
  },
  {
   "cell_type": "code",
   "execution_count": 4,
   "id": "c7c0a1a1",
   "metadata": {},
   "outputs": [],
   "source": [
    "from whatif import Model\n",
    "from whatif import get_sim_results_df"
   ]
  },
  {
   "cell_type": "code",
   "execution_count": 5,
   "id": "b170904f",
   "metadata": {},
   "outputs": [],
   "source": [
    "%matplotlib inline"
   ]
  },
  {
   "cell_type": "markdown",
   "id": "5747d5ed",
   "metadata": {},
   "source": [
    "## Developing the model\n",
    "\n",
    "This is the second example model we've created and the first in which computations play out over time. It wasn't exactly clear how to best develop the cash flow model while trying to leverage the foundation we've built with the `whatif.Model` class and using good model building principles.\n",
    "\n",
    "As with most simulation models, we'll start by building a deterministic model and then add randomness via the `whatif.simulate` function. This mimics the idea of creating a deterministic model in Excel and then modifying it with @Risk functions to do Monte-Carlo simulation.\n",
    "\n",
    "Typically, in spreadsheet financial models, time periods (e.g. years)\n",
    "go across the columns and the financial measures go down the rows. Let's\n",
    "do the same. Some complications that need to be thought through are common to many similar financial models:\n",
    "\n",
    "* The first year is based on base inputs or functions of other first year values. \n",
    "* Subsequent values are based either on previous year along with some multiplier or are functions of other values in the same year.\n",
    "\n",
    "While I originally thought that the computations would be done using Pandas `Series` and `DataFrame` objects, it ended up being more natural to work with Numpy arrays."
   ]
  },
  {
   "cell_type": "code",
   "execution_count": 25,
   "id": "95922b02",
   "metadata": {},
   "outputs": [],
   "source": [
    "class NewCarModel(Model):\n",
    "    \"\"\"New car model\n",
    "\n",
    "    This example is based on one in the textbook \n",
    "    [Business Analytics: Data Analysis and Decision Making (Albright and Winston)\n",
    "    This example is in Section 16.3 in the 7th edition. Here's the basic problem (with a few modifications):\n",
    "\n",
    "    * we are developing a new car,\n",
    "    * there's a fixed development cost,\n",
    "    * we have estimated a unit margin per car which decays at a known rate each year,\n",
    "    * demand in the first year is uncertain and we will model it with a triangular distribution,\n",
    "    * demand in years 2 through 5 are based on the previous years demand and a decay rate modeled with another triangular distribution,\n",
    "    * depreciation is modeled using the straight line method and theirs a known fixed tax rate.\n",
    "    \n",
    "    Attributes\n",
    "    ----------\n",
    "    fixed_dev_cost: float, optional\n",
    "        Development cost (default 600e+6)\n",
    "    base_margin : float, optional\n",
    "        Unit margin in year 1 (default 4e+3)\n",
    "    annual_margin_decr : float, optional\n",
    "        Fractional annual decrease in unit margin (default 0.04)\n",
    "    yr1_demand : float, optional\n",
    "        Number of items ordered in the one time we get to order (default 53560.0)\n",
    "    demand_decr : float or array-like of float, optional\n",
    "        Fractional annual decrease in demand (default 0.077)\n",
    "    tax_rate : float or array-like of float, optional\n",
    "        Tax rate (default 0.21)\n",
    "    discount_rate : float, optional\n",
    "        Used for NPV calculation (default 0.07)\n",
    "    num_years : int, optional\n",
    "        Number of years in the model (default 5)\n",
    "    \"\"\"\n",
    "    def __init__(self, fixed_dev_cost=600e+6, base_margin=4e+3, annual_margin_decr=0.04,\n",
    "                 yr1_demand=53560, demand_decr=0.077,\n",
    "                 tax_rate=0.21, discount_rate=0.07, num_years=5\n",
    "                ):\n",
    "        \n",
    "        self.fixed_dev_cost = fixed_dev_cost\n",
    "        self.base_margin = base_margin\n",
    "        self.annual_margin_decr = annual_margin_decr\n",
    "        \n",
    "        self.yr1_demand = yr1_demand\n",
    "        self.demand_decr = demand_decr\n",
    "\n",
    "        self.tax_rate = tax_rate\n",
    "        self.discount_rate = discount_rate\n",
    "        self.num_years = num_years\n",
    "\n",
    "    def sales(self):\n",
    "        \"\"\"Sales by year\n",
    "        \n",
    "        Depends on random base value in year 0 which is then modified by a percent decay rate that may\n",
    "        vary by year.\n",
    "        \"\"\"\n",
    "        \n",
    "        # Scalar to range (consider creating function for this)\n",
    "        if np.isscalar(self.demand_decr):\n",
    "            self.demand_decr = np.full((1, self.num_years - 1), self.demand_decr)\n",
    "       \n",
    "        # Year 1 demand\n",
    "        # This is the key to multi-period models - how to best do this?\n",
    "        if np.isscalar(self.yr1_demand):\n",
    "            sales_array = np.zeros((1, self.num_years))\n",
    "        else:\n",
    "            sales_array = np.zeros((len(self.yr1_demand), self.num_years))\n",
    "            \n",
    "        sales_array[:, 0] = self.yr1_demand\n",
    "\n",
    "        # Compute sales in subsequent years\n",
    "        for t in range(1, self.num_years):\n",
    "            sales_array[:, t] = (1 - self.demand_decr[:, t - 1]) * sales_array[:, t - 1]\n",
    "    \n",
    "        return sales_array\n",
    "    \n",
    "    \n",
    "    def unit_contribution(self):\n",
    "        \"\"\"Unit contribution by year\n",
    "        \n",
    "        Depends on random base value in year 0 which is then modified by a fixed percent decay rate.\n",
    "        \"\"\"\n",
    "        \n",
    "        _unit_contribution = np.array([self.base_margin * (1 - self.annual_margin_decr) ** n \n",
    "                     for n in range(self.num_years)])\n",
    "        \n",
    "        return _unit_contribution\n",
    "    \n",
    "    def net_revenue(self):\n",
    "        \"\"\"Net revenue by year\n",
    "        \n",
    "        Sales multiplied by unit_contribution for each year\n",
    "        \"\"\"\n",
    "        \n",
    "        _net_revenue = self.sales() * self.unit_contribution()\n",
    "        return _net_revenue\n",
    "    \n",
    "    def depreciation(self):\n",
    "        \"\"\"Depreciation by year\n",
    "        \n",
    "        Assumes straight line depreciation\n",
    "        \"\"\"\n",
    "        \n",
    "        _depreciation = np.full(self.num_years, self.fixed_dev_cost / self.num_years)\n",
    "        return _depreciation\n",
    "    \n",
    "    def before_tax_profit(self):\n",
    "        \"\"\"Before tax profit by year\n",
    "        \n",
    "        Net revenue minus depreciation\n",
    "        \"\"\"\n",
    "        \n",
    "        _before_tax_profit = self.net_revenue() - self.depreciation()\n",
    "        return _before_tax_profit\n",
    "    \n",
    "    def after_tax_profit(self):\n",
    "        \"\"\"After tax profit by year\n",
    "        \n",
    "        Before tax profit after taxes removed\n",
    "        \"\"\"        \n",
    "        _after_tax_profit = self.before_tax_profit() * (1 - self.tax_rate)\n",
    "        return _after_tax_profit\n",
    "\n",
    "    def cash_flow(self):\n",
    "        \"\"\"Cash flow by year\n",
    "        \n",
    "        After tax profit plus depreciation\n",
    "        \"\"\"        \n",
    "        _cash_flow = self.after_tax_profit() + self.depreciation()\n",
    "        return _cash_flow\n",
    "    \n",
    "    def npv(self):\n",
    "        \"\"\"NPV of cash flow adjusted for initial investment\n",
    "        \n",
    "        The `numpy_financial.npv()` function wants the initial investment as a\n",
    "        negative cash flow in year 1 or a zero cash flow in year 1 and then need to\n",
    "        subtract off the initial investment.\n",
    "        \"\"\"        \n",
    "        \n",
    "        cash_flow = self.cash_flow()\n",
    "        # If more than one row in cash_flow, we must be simulating or creating a\n",
    "        # data table.\n",
    "        nrows = cash_flow.shape[0]\n",
    "        \n",
    "        # Create an (nrows x 1) array filled with initial investment values\n",
    "        col0 = np.full(nrows, -self.fixed_dev_cost)\n",
    "        col0 = col0.reshape((nrows, 1))\n",
    "        \n",
    "        # Insert the initial investment at start of cash flow stream\n",
    "        adj_cash_flow = np.concatenate((col0, self.cash_flow()), axis=1)\n",
    "        \n",
    "        # Compute npv for each row of cash flow streams\n",
    "        _npv = np.array([npf.npv(self.discount_rate, adj_cash_flow[i, :]) for i in range(nrows)])\n",
    "        \n",
    "        return _npv\n",
    "    \n",
    "    def model_to_df(self, transpose=True):\n",
    "        \"\"\"Create DataFrame version of financial model table\n",
    "        \n",
    "        Financial model table is transposed so that financial measures are columns.\n",
    "        \"\"\"         \n",
    "        X = np.vstack([self.sales(), self.unit_contribution(),\n",
    "                                    self.net_revenue(), self.depreciation(),\n",
    "                                    self.before_tax_profit(), self.after_tax_profit(), self.cash_flow()])\n",
    "        \n",
    "        if transpose:\n",
    "            X = np.transpose(X)\n",
    "            df = pd.DataFrame(X, columns = ['sales', 'unit_contribution', 'net_revenue',\n",
    "                                       'depreciation', 'before_tax_profit', 'after_tax_profit',\n",
    "                                       'cash_flow'])\n",
    "        else:\n",
    "            df = pd.DataFrame(X, index = ['sales', 'unit_contribution', 'net_revenue',\n",
    "                                       'depreciation', 'before_tax_profit', 'after_tax_profit',\n",
    "                                       'cash_flow'])\n",
    "                         \n",
    "        return df\n"
   ]
  },
  {
   "cell_type": "markdown",
   "id": "e7d4fe45",
   "metadata": {},
   "source": [
    "## Using the model in deterministic mode\n",
    "\n",
    "Create a model instance with default parameter values."
   ]
  },
  {
   "cell_type": "code",
   "execution_count": 26,
   "id": "25ae4c27",
   "metadata": {},
   "outputs": [
    {
     "name": "stdout",
     "output_type": "stream",
     "text": [
      "{'fixed_dev_cost': 600000000.0, 'base_margin': 4000.0, 'annual_margin_decr': 0.04, 'yr1_demand': 53560, 'demand_decr': 0.077, 'tax_rate': 0.21, 'discount_rate': 0.07, 'num_years': 5}\n"
     ]
    }
   ],
   "source": [
    "model_default = NewCarModel()\n",
    "print(model_default)"
   ]
  },
  {
   "cell_type": "markdown",
   "id": "56cc2d0c",
   "metadata": {},
   "source": [
    "Let's explore some of the line items in the model. Notice that time is across columns and the different financial components make up the rows."
   ]
  },
  {
   "cell_type": "code",
   "execution_count": 27,
   "id": "3e8c1339",
   "metadata": {},
   "outputs": [
    {
     "name": "stdout",
     "output_type": "stream",
     "text": [
      "[[53560.         49435.88       45629.31724    42115.85981252\n",
      "  38872.93860696]]\n",
      "(1, 5)\n"
     ]
    }
   ],
   "source": [
    "print(model_default.sales())\n",
    "print(model_default.sales().shape)"
   ]
  },
  {
   "cell_type": "code",
   "execution_count": 28,
   "id": "ef99bb2e",
   "metadata": {},
   "outputs": [
    {
     "data": {
      "text/plain": [
       "array([4000.     , 3840.     , 3686.4    , 3538.944  , 3397.38624])"
      ]
     },
     "execution_count": 28,
     "metadata": {},
     "output_type": "execute_result"
    }
   ],
   "source": [
    "model_default.unit_contribution()"
   ]
  },
  {
   "cell_type": "code",
   "execution_count": 29,
   "id": "238896f7",
   "metadata": {},
   "outputs": [
    {
     "data": {
      "text/plain": [
       "array([[2.14240000e+08, 1.89833779e+08, 1.68207915e+08, 1.49045669e+08,\n",
       "        1.32066387e+08]])"
      ]
     },
     "execution_count": 29,
     "metadata": {},
     "output_type": "execute_result"
    }
   ],
   "source": [
    "model_default.net_revenue()"
   ]
  },
  {
   "cell_type": "code",
   "execution_count": 30,
   "id": "928ba53e",
   "metadata": {},
   "outputs": [
    {
     "data": {
      "text/plain": [
       "array([1.2e+08, 1.2e+08, 1.2e+08, 1.2e+08, 1.2e+08])"
      ]
     },
     "execution_count": 30,
     "metadata": {},
     "output_type": "execute_result"
    }
   ],
   "source": [
    "model_default.depreciation()"
   ]
  },
  {
   "cell_type": "code",
   "execution_count": 31,
   "id": "bfaa2375",
   "metadata": {},
   "outputs": [
    {
     "data": {
      "text/plain": [
       "array([[94240000.        , 69833779.20000002, 48207915.07353601,\n",
       "        29045669.38835877, 12066386.73163696]])"
      ]
     },
     "execution_count": 31,
     "metadata": {},
     "output_type": "execute_result"
    }
   ],
   "source": [
    "model_default.before_tax_profit()"
   ]
  },
  {
   "cell_type": "code",
   "execution_count": 32,
   "id": "e2577383",
   "metadata": {},
   "outputs": [
    {
     "data": {
      "text/plain": [
       "array([[74449600.        , 55168685.56800002, 38084252.90809345,\n",
       "        22946078.81680343,  9532445.5179932 ]])"
      ]
     },
     "execution_count": 32,
     "metadata": {},
     "output_type": "execute_result"
    }
   ],
   "source": [
    "model_default.after_tax_profit()"
   ]
  },
  {
   "cell_type": "code",
   "execution_count": 33,
   "id": "8be6e99b",
   "metadata": {},
   "outputs": [
    {
     "data": {
      "text/plain": [
       "array([[1.94449600e+08, 1.75168686e+08, 1.58084253e+08, 1.42946079e+08,\n",
       "        1.29532446e+08]])"
      ]
     },
     "execution_count": 33,
     "metadata": {},
     "output_type": "execute_result"
    }
   ],
   "source": [
    "model_default.cash_flow()"
   ]
  },
  {
   "cell_type": "code",
   "execution_count": 34,
   "id": "24faf592",
   "metadata": {},
   "outputs": [
    {
     "data": {
      "text/plain": [
       "array([65179274.66475619])"
      ]
     },
     "execution_count": 34,
     "metadata": {},
     "output_type": "execute_result"
    }
   ],
   "source": [
    "model_default.npv()"
   ]
  },
  {
   "cell_type": "markdown",
   "id": "aa27a49c",
   "metadata": {},
   "source": [
    "It's easier to view the model line items as a DataFrame."
   ]
  },
  {
   "cell_type": "code",
   "execution_count": 35,
   "id": "b9a3021c",
   "metadata": {},
   "outputs": [
    {
     "data": {
      "text/html": [
       "<div>\n",
       "<style scoped>\n",
       "    .dataframe tbody tr th:only-of-type {\n",
       "        vertical-align: middle;\n",
       "    }\n",
       "\n",
       "    .dataframe tbody tr th {\n",
       "        vertical-align: top;\n",
       "    }\n",
       "\n",
       "    .dataframe thead th {\n",
       "        text-align: right;\n",
       "    }\n",
       "</style>\n",
       "<table border=\"1\" class=\"dataframe\">\n",
       "  <thead>\n",
       "    <tr style=\"text-align: right;\">\n",
       "      <th></th>\n",
       "      <th>sales</th>\n",
       "      <th>unit_contribution</th>\n",
       "      <th>net_revenue</th>\n",
       "      <th>depreciation</th>\n",
       "      <th>before_tax_profit</th>\n",
       "      <th>after_tax_profit</th>\n",
       "      <th>cash_flow</th>\n",
       "    </tr>\n",
       "  </thead>\n",
       "  <tbody>\n",
       "    <tr>\n",
       "      <th>0</th>\n",
       "      <td>53560.000000</td>\n",
       "      <td>4000.00000</td>\n",
       "      <td>2.142400e+08</td>\n",
       "      <td>120000000.0</td>\n",
       "      <td>9.424000e+07</td>\n",
       "      <td>7.444960e+07</td>\n",
       "      <td>1.944496e+08</td>\n",
       "    </tr>\n",
       "    <tr>\n",
       "      <th>1</th>\n",
       "      <td>49435.880000</td>\n",
       "      <td>3840.00000</td>\n",
       "      <td>1.898338e+08</td>\n",
       "      <td>120000000.0</td>\n",
       "      <td>6.983378e+07</td>\n",
       "      <td>5.516869e+07</td>\n",
       "      <td>1.751687e+08</td>\n",
       "    </tr>\n",
       "    <tr>\n",
       "      <th>2</th>\n",
       "      <td>45629.317240</td>\n",
       "      <td>3686.40000</td>\n",
       "      <td>1.682079e+08</td>\n",
       "      <td>120000000.0</td>\n",
       "      <td>4.820792e+07</td>\n",
       "      <td>3.808425e+07</td>\n",
       "      <td>1.580843e+08</td>\n",
       "    </tr>\n",
       "    <tr>\n",
       "      <th>3</th>\n",
       "      <td>42115.859813</td>\n",
       "      <td>3538.94400</td>\n",
       "      <td>1.490457e+08</td>\n",
       "      <td>120000000.0</td>\n",
       "      <td>2.904567e+07</td>\n",
       "      <td>2.294608e+07</td>\n",
       "      <td>1.429461e+08</td>\n",
       "    </tr>\n",
       "    <tr>\n",
       "      <th>4</th>\n",
       "      <td>38872.938607</td>\n",
       "      <td>3397.38624</td>\n",
       "      <td>1.320664e+08</td>\n",
       "      <td>120000000.0</td>\n",
       "      <td>1.206639e+07</td>\n",
       "      <td>9.532446e+06</td>\n",
       "      <td>1.295324e+08</td>\n",
       "    </tr>\n",
       "  </tbody>\n",
       "</table>\n",
       "</div>"
      ],
      "text/plain": [
       "          sales  unit_contribution   net_revenue  depreciation  \\\n",
       "0  53560.000000         4000.00000  2.142400e+08   120000000.0   \n",
       "1  49435.880000         3840.00000  1.898338e+08   120000000.0   \n",
       "2  45629.317240         3686.40000  1.682079e+08   120000000.0   \n",
       "3  42115.859813         3538.94400  1.490457e+08   120000000.0   \n",
       "4  38872.938607         3397.38624  1.320664e+08   120000000.0   \n",
       "\n",
       "   before_tax_profit  after_tax_profit     cash_flow  \n",
       "0       9.424000e+07      7.444960e+07  1.944496e+08  \n",
       "1       6.983378e+07      5.516869e+07  1.751687e+08  \n",
       "2       4.820792e+07      3.808425e+07  1.580843e+08  \n",
       "3       2.904567e+07      2.294608e+07  1.429461e+08  \n",
       "4       1.206639e+07      9.532446e+06  1.295324e+08  "
      ]
     },
     "execution_count": 35,
     "metadata": {},
     "output_type": "execute_result"
    }
   ],
   "source": [
    "model_default.model_to_df()"
   ]
  },
  {
   "cell_type": "code",
   "execution_count": 36,
   "id": "2f957c80",
   "metadata": {},
   "outputs": [
    {
     "data": {
      "text/html": [
       "<div>\n",
       "<style scoped>\n",
       "    .dataframe tbody tr th:only-of-type {\n",
       "        vertical-align: middle;\n",
       "    }\n",
       "\n",
       "    .dataframe tbody tr th {\n",
       "        vertical-align: top;\n",
       "    }\n",
       "\n",
       "    .dataframe thead th {\n",
       "        text-align: right;\n",
       "    }\n",
       "</style>\n",
       "<table border=\"1\" class=\"dataframe\">\n",
       "  <thead>\n",
       "    <tr style=\"text-align: right;\">\n",
       "      <th></th>\n",
       "      <th>0</th>\n",
       "      <th>1</th>\n",
       "      <th>2</th>\n",
       "      <th>3</th>\n",
       "      <th>4</th>\n",
       "    </tr>\n",
       "  </thead>\n",
       "  <tbody>\n",
       "    <tr>\n",
       "      <th>sales</th>\n",
       "      <td>53560.0</td>\n",
       "      <td>4.943588e+04</td>\n",
       "      <td>4.562932e+04</td>\n",
       "      <td>4.211586e+04</td>\n",
       "      <td>3.887294e+04</td>\n",
       "    </tr>\n",
       "    <tr>\n",
       "      <th>unit_contribution</th>\n",
       "      <td>4000.0</td>\n",
       "      <td>3.840000e+03</td>\n",
       "      <td>3.686400e+03</td>\n",
       "      <td>3.538944e+03</td>\n",
       "      <td>3.397386e+03</td>\n",
       "    </tr>\n",
       "    <tr>\n",
       "      <th>net_revenue</th>\n",
       "      <td>214240000.0</td>\n",
       "      <td>1.898338e+08</td>\n",
       "      <td>1.682079e+08</td>\n",
       "      <td>1.490457e+08</td>\n",
       "      <td>1.320664e+08</td>\n",
       "    </tr>\n",
       "    <tr>\n",
       "      <th>depreciation</th>\n",
       "      <td>120000000.0</td>\n",
       "      <td>1.200000e+08</td>\n",
       "      <td>1.200000e+08</td>\n",
       "      <td>1.200000e+08</td>\n",
       "      <td>1.200000e+08</td>\n",
       "    </tr>\n",
       "    <tr>\n",
       "      <th>before_tax_profit</th>\n",
       "      <td>94240000.0</td>\n",
       "      <td>6.983378e+07</td>\n",
       "      <td>4.820792e+07</td>\n",
       "      <td>2.904567e+07</td>\n",
       "      <td>1.206639e+07</td>\n",
       "    </tr>\n",
       "    <tr>\n",
       "      <th>after_tax_profit</th>\n",
       "      <td>74449600.0</td>\n",
       "      <td>5.516869e+07</td>\n",
       "      <td>3.808425e+07</td>\n",
       "      <td>2.294608e+07</td>\n",
       "      <td>9.532446e+06</td>\n",
       "    </tr>\n",
       "    <tr>\n",
       "      <th>cash_flow</th>\n",
       "      <td>194449600.0</td>\n",
       "      <td>1.751687e+08</td>\n",
       "      <td>1.580843e+08</td>\n",
       "      <td>1.429461e+08</td>\n",
       "      <td>1.295324e+08</td>\n",
       "    </tr>\n",
       "  </tbody>\n",
       "</table>\n",
       "</div>"
      ],
      "text/plain": [
       "                             0             1             2             3  \\\n",
       "sales                  53560.0  4.943588e+04  4.562932e+04  4.211586e+04   \n",
       "unit_contribution       4000.0  3.840000e+03  3.686400e+03  3.538944e+03   \n",
       "net_revenue        214240000.0  1.898338e+08  1.682079e+08  1.490457e+08   \n",
       "depreciation       120000000.0  1.200000e+08  1.200000e+08  1.200000e+08   \n",
       "before_tax_profit   94240000.0  6.983378e+07  4.820792e+07  2.904567e+07   \n",
       "after_tax_profit    74449600.0  5.516869e+07  3.808425e+07  2.294608e+07   \n",
       "cash_flow          194449600.0  1.751687e+08  1.580843e+08  1.429461e+08   \n",
       "\n",
       "                              4  \n",
       "sales              3.887294e+04  \n",
       "unit_contribution  3.397386e+03  \n",
       "net_revenue        1.320664e+08  \n",
       "depreciation       1.200000e+08  \n",
       "before_tax_profit  1.206639e+07  \n",
       "after_tax_profit   9.532446e+06  \n",
       "cash_flow          1.295324e+08  "
      ]
     },
     "execution_count": 36,
     "metadata": {},
     "output_type": "execute_result"
    }
   ],
   "source": [
    "model_default.model_to_df(transpose=False)"
   ]
  },
  {
   "cell_type": "code",
   "execution_count": 37,
   "id": "d160ea1e",
   "metadata": {},
   "outputs": [
    {
     "data": {
      "text/plain": [
       "array([65179274.66475619])"
      ]
     },
     "execution_count": 37,
     "metadata": {},
     "output_type": "execute_result"
    }
   ],
   "source": [
    "model_default.npv()"
   ]
  },
  {
   "cell_type": "markdown",
   "id": "f249d0da",
   "metadata": {},
   "source": [
    "## Adding simulation"
   ]
  },
  {
   "cell_type": "code",
   "execution_count": 38,
   "id": "d8c060b0",
   "metadata": {},
   "outputs": [
    {
     "name": "stdout",
     "output_type": "stream",
     "text": [
      "Mean year 1 demand: 50000.0\n",
      "Mean annual demand decrease: 0.077\n"
     ]
    }
   ],
   "source": [
    "rg = default_rng(795)\n",
    "num_sim_reps = 100\n",
    "\n",
    "yr1_demand_tri = {\n",
    "    'min': 30e+3,\n",
    "    'mode': 55e+3,\n",
    "    'max': 65e+3\n",
    "}\n",
    "\n",
    "demand_decr_tri = {\n",
    "    'min': 0.05,\n",
    "    'mode': 0.08,\n",
    "    'max': 0.10\n",
    "}\n",
    "\n",
    "\n",
    "yr1_demand_sim = np.around(rg.triangular(yr1_demand_tri['min'], yr1_demand_tri['mode'], yr1_demand_tri['max'], \n",
    "                          size=(num_sim_reps)))\n",
    "\n",
    "demand_decr_sim = rg.triangular(demand_decr_tri['min'], demand_decr_tri['mode'], demand_decr_tri['max'], \n",
    "                          size=(num_sim_reps, model_default.num_years - 1))\n",
    "\n",
    "# Mean of a triangular dist is (min + mode + max) / 3\n",
    "\n",
    "yr1_demand_mean = (yr1_demand_tri['min'] + yr1_demand_tri['mode'] + yr1_demand_tri['max']) / 3 \n",
    "demand_decr_mean = (demand_decr_tri['min'] + demand_decr_tri['mode'] + demand_decr_tri['max']) / 3 \n",
    "\n",
    "print(f\"Mean year 1 demand: {yr1_demand_mean}\")\n",
    "print(f\"Mean annual demand decrease: {demand_decr_mean:.3f}\")"
   ]
  },
  {
   "cell_type": "code",
   "execution_count": 39,
   "id": "7ebbfd35",
   "metadata": {},
   "outputs": [
    {
     "data": {
      "text/plain": [
       "(100, 4)"
      ]
     },
     "execution_count": 39,
     "metadata": {},
     "output_type": "execute_result"
    }
   ],
   "source": [
    "demand_decr_sim.shape"
   ]
  },
  {
   "cell_type": "code",
   "execution_count": 40,
   "id": "6cbe9944",
   "metadata": {},
   "outputs": [],
   "source": [
    "random_inputs = {'yr1_demand': yr1_demand_sim,\n",
    "                'demand_decr': demand_decr_sim}"
   ]
  },
  {
   "cell_type": "code",
   "execution_count": 41,
   "id": "a0c4d003",
   "metadata": {},
   "outputs": [
    {
     "data": {
      "text/plain": [
       "array([53560., 42295., 48295., 45379., 55394., 58546., 47668., 53490.,\n",
       "       47324., 36639., 47231., 60466., 54142., 36789., 44906., 52916.,\n",
       "       50863., 41094., 50433., 55924., 52416., 43739., 56635., 38851.,\n",
       "       47567., 39608., 53148., 48757., 42375., 50909., 46340., 49577.,\n",
       "       31947., 58368., 41142., 59629., 46811., 61063., 49923., 50722.,\n",
       "       54740., 46604., 62035., 53550., 51151., 33417., 55987., 37038.,\n",
       "       50284., 38080., 56530., 42773., 50419., 57791., 35361., 59960.,\n",
       "       57249., 35354., 45165., 46964., 46848., 54536., 61249., 59775.,\n",
       "       48477., 49605., 45207., 53403., 40195., 56065., 48550., 44353.,\n",
       "       45236., 55223., 50672., 49357., 37454., 49609., 52551., 54287.,\n",
       "       56974., 56350., 56936., 53664., 54502., 38363., 43566., 56725.,\n",
       "       54865., 51980., 34918., 32924., 39687., 61384., 59015., 63936.,\n",
       "       51461., 49985., 63436., 52088.])"
      ]
     },
     "execution_count": 41,
     "metadata": {},
     "output_type": "execute_result"
    }
   ],
   "source": [
    "yr1_demand_sim"
   ]
  },
  {
   "cell_type": "code",
   "execution_count": 42,
   "id": "ce0ae896",
   "metadata": {},
   "outputs": [
    {
     "data": {
      "text/plain": [
       "array([[0.07668859, 0.08737063, 0.05289568, 0.05859609],\n",
       "       [0.08031054, 0.083696  , 0.08305816, 0.0884641 ],\n",
       "       [0.0843871 , 0.06915205, 0.08340061, 0.07432538],\n",
       "       [0.06016384, 0.07637175, 0.07915669, 0.07591774],\n",
       "       [0.08608151, 0.0795678 , 0.08232221, 0.05706969],\n",
       "       [0.06519027, 0.08600418, 0.07745827, 0.092755  ],\n",
       "       [0.06752407, 0.08114006, 0.08555013, 0.07660967],\n",
       "       [0.08291265, 0.07806109, 0.08327328, 0.07744616],\n",
       "       [0.06490827, 0.0779905 , 0.09373232, 0.09482139],\n",
       "       [0.06621712, 0.08884641, 0.08760106, 0.08084566],\n",
       "       [0.08319273, 0.0780147 , 0.0660278 , 0.06335583],\n",
       "       [0.07425593, 0.09572633, 0.08479558, 0.07235966],\n",
       "       [0.08556914, 0.0826827 , 0.08161804, 0.06590112],\n",
       "       [0.07979537, 0.06976684, 0.06525205, 0.08195101],\n",
       "       [0.0808542 , 0.07371046, 0.07579925, 0.07446469],\n",
       "       [0.09068217, 0.07098334, 0.09129477, 0.06798222],\n",
       "       [0.08149161, 0.07898154, 0.07817614, 0.08420425],\n",
       "       [0.08596364, 0.07255339, 0.09612774, 0.07737688],\n",
       "       [0.07330908, 0.07667265, 0.06872669, 0.06664001],\n",
       "       [0.09460053, 0.06867608, 0.07564014, 0.08461839],\n",
       "       [0.08151189, 0.08678466, 0.07245021, 0.09528012],\n",
       "       [0.08410415, 0.08333609, 0.0878712 , 0.07160082],\n",
       "       [0.07267165, 0.06844957, 0.08337747, 0.08978248],\n",
       "       [0.07568928, 0.06813883, 0.0707465 , 0.0807425 ],\n",
       "       [0.08321394, 0.06050465, 0.07010827, 0.09246564],\n",
       "       [0.08439879, 0.0871481 , 0.0748858 , 0.08381748],\n",
       "       [0.06348448, 0.09208726, 0.06802969, 0.07840787],\n",
       "       [0.07359795, 0.08268709, 0.07101435, 0.0835831 ],\n",
       "       [0.07589658, 0.07097509, 0.06468557, 0.08018996],\n",
       "       [0.08664034, 0.0729432 , 0.08434037, 0.08617027],\n",
       "       [0.07998917, 0.079362  , 0.06480575, 0.0828477 ],\n",
       "       [0.08305473, 0.08032978, 0.07960439, 0.0854072 ],\n",
       "       [0.05971665, 0.08714028, 0.07819164, 0.08371829],\n",
       "       [0.06499201, 0.08266448, 0.07352899, 0.06612486],\n",
       "       [0.06138285, 0.08781747, 0.08013222, 0.07160948],\n",
       "       [0.08444071, 0.08456161, 0.07125299, 0.07791107],\n",
       "       [0.0964451 , 0.07396555, 0.07106511, 0.09339893],\n",
       "       [0.07839891, 0.07699117, 0.08085479, 0.08372063],\n",
       "       [0.06077034, 0.07870916, 0.05693128, 0.05679157],\n",
       "       [0.09092158, 0.06990547, 0.08002292, 0.09354254],\n",
       "       [0.06810048, 0.06228893, 0.07383467, 0.08863536],\n",
       "       [0.07453943, 0.08198016, 0.07759926, 0.07392838],\n",
       "       [0.07659942, 0.07886484, 0.09805699, 0.0619265 ],\n",
       "       [0.06706071, 0.07306033, 0.08545832, 0.07882901],\n",
       "       [0.08775924, 0.0662359 , 0.08445509, 0.07981717],\n",
       "       [0.08774973, 0.07019863, 0.06783846, 0.08239838],\n",
       "       [0.07162226, 0.08538064, 0.0767666 , 0.06775471],\n",
       "       [0.0681847 , 0.07252446, 0.07503724, 0.07969091],\n",
       "       [0.07876085, 0.07073276, 0.07640466, 0.08059011],\n",
       "       [0.07953237, 0.09665911, 0.06574239, 0.08820301],\n",
       "       [0.08018941, 0.08967009, 0.08211545, 0.06970129],\n",
       "       [0.06540973, 0.07778485, 0.08428005, 0.07639231],\n",
       "       [0.08369802, 0.08800792, 0.07969251, 0.08169249],\n",
       "       [0.05908736, 0.06934729, 0.08062993, 0.09654331],\n",
       "       [0.09274155, 0.09127331, 0.0695069 , 0.08020401],\n",
       "       [0.08877287, 0.07323944, 0.08415577, 0.08116506],\n",
       "       [0.08707545, 0.07763902, 0.09332374, 0.07707626],\n",
       "       [0.08109774, 0.07360434, 0.08301029, 0.06248568],\n",
       "       [0.06976564, 0.08724558, 0.0773134 , 0.07432835],\n",
       "       [0.06953046, 0.08376019, 0.07764785, 0.096464  ],\n",
       "       [0.08022328, 0.06308989, 0.08298841, 0.09685533],\n",
       "       [0.08337386, 0.08514042, 0.0774828 , 0.08591051],\n",
       "       [0.07283826, 0.0798406 , 0.0635542 , 0.07795486],\n",
       "       [0.08628503, 0.06313814, 0.08401031, 0.08143116],\n",
       "       [0.07993917, 0.08165563, 0.06702651, 0.07707816],\n",
       "       [0.08611708, 0.06402712, 0.06677158, 0.06825738],\n",
       "       [0.07543028, 0.07226676, 0.07892114, 0.06909277],\n",
       "       [0.06078763, 0.06692366, 0.07108497, 0.0710075 ],\n",
       "       [0.07670924, 0.06710099, 0.07447507, 0.07154687],\n",
       "       [0.0743298 , 0.07799306, 0.07827226, 0.08327966],\n",
       "       [0.0835535 , 0.0834591 , 0.07933074, 0.07086012],\n",
       "       [0.09537958, 0.05444443, 0.06974365, 0.08081879],\n",
       "       [0.08141714, 0.08645691, 0.08497525, 0.07578459],\n",
       "       [0.07945381, 0.07848455, 0.05641422, 0.05965348],\n",
       "       [0.07946156, 0.07898172, 0.07270064, 0.08545872],\n",
       "       [0.09383149, 0.06289842, 0.07410088, 0.08642088],\n",
       "       [0.07381054, 0.08841029, 0.07182591, 0.09119482],\n",
       "       [0.08036869, 0.07707118, 0.05499064, 0.08364114],\n",
       "       [0.07465254, 0.08556409, 0.06249027, 0.06035642],\n",
       "       [0.05438279, 0.0742271 , 0.06474037, 0.08176039],\n",
       "       [0.08016682, 0.08951297, 0.09260234, 0.07893072],\n",
       "       [0.06968365, 0.07783548, 0.0711665 , 0.07222884],\n",
       "       [0.06765393, 0.07491479, 0.05539802, 0.0597769 ],\n",
       "       [0.07670786, 0.09268169, 0.05920045, 0.06994473],\n",
       "       [0.07879743, 0.07930538, 0.06134597, 0.08140131],\n",
       "       [0.08488301, 0.06555624, 0.06622136, 0.08493532],\n",
       "       [0.08125243, 0.06212571, 0.07357444, 0.06592451],\n",
       "       [0.093951  , 0.08095493, 0.08580284, 0.07216353],\n",
       "       [0.06357055, 0.08145679, 0.07260628, 0.07872349],\n",
       "       [0.08998239, 0.07830629, 0.09131239, 0.08359241],\n",
       "       [0.06638612, 0.08798297, 0.07669332, 0.06973731],\n",
       "       [0.07240448, 0.09055662, 0.054032  , 0.06704535],\n",
       "       [0.07986375, 0.07003465, 0.07555127, 0.08950416],\n",
       "       [0.0860242 , 0.07270644, 0.09608591, 0.05599857],\n",
       "       [0.08135839, 0.08982379, 0.07470307, 0.09093961],\n",
       "       [0.0944643 , 0.08691172, 0.06348059, 0.0848286 ],\n",
       "       [0.09407652, 0.0748993 , 0.06542805, 0.07486648],\n",
       "       [0.06332607, 0.08484325, 0.06779498, 0.08508833],\n",
       "       [0.05703166, 0.09005001, 0.065893  , 0.05380667],\n",
       "       [0.05613431, 0.07590774, 0.08105945, 0.07703754]])"
      ]
     },
     "execution_count": 42,
     "metadata": {},
     "output_type": "execute_result"
    }
   ],
   "source": [
    "demand_decr_sim"
   ]
  },
  {
   "cell_type": "code",
   "execution_count": 43,
   "id": "7813395c",
   "metadata": {},
   "outputs": [],
   "source": [
    "sim_default_results = model_default.simulate(random_inputs, ['npv'])"
   ]
  },
  {
   "cell_type": "code",
   "execution_count": 44,
   "id": "05d1dc0b",
   "metadata": {},
   "outputs": [
    {
     "data": {
      "text/plain": [
       "[{'scenario_base_vals': {'fixed_dev_cost': 600000000.0,\n",
       "   'base_margin': 4000.0,\n",
       "   'annual_margin_decr': 0.04,\n",
       "   'yr1_demand': 53560,\n",
       "   'demand_decr': array([[0.077, 0.077, 0.077, 0.077]]),\n",
       "   'tax_rate': 0.21,\n",
       "   'discount_rate': 0.07,\n",
       "   'num_years': 5},\n",
       "  'scenario_num': 0,\n",
       "  'scenario_vals': {},\n",
       "  'output': {'npv': array([ 6.79977064e+07, -5.72514921e+07,  8.27503000e+06, -1.44982952e+07,\n",
       "           8.01974400e+07,  1.18703477e+08,  4.62605637e+06,  6.04097191e+07,\n",
       "           2.50221819e+05, -1.13019093e+08, -1.18248248e+06,  1.31587769e+08,\n",
       "           6.58828110e+07, -1.08964355e+08, -2.58542174e+07,  5.24511553e+07,\n",
       "           3.37243652e+07, -7.02219148e+07,  3.61766357e+07,  8.40740070e+07,\n",
       "           4.77856110e+07, -4.31095533e+07,  9.98084410e+07, -8.62101196e+07,\n",
       "           4.17034254e+06, -8.58987471e+07,  6.37022207e+07,  1.50963658e+07,\n",
       "          -4.88226061e+07,  3.25631507e+07, -1.08372879e+07,  1.89975090e+07,\n",
       "          -1.59309166e+08,  1.21134603e+08, -6.24336394e+07,  1.23793163e+08,\n",
       "          -1.25201213e+07,  1.41797845e+08,  3.81193777e+07,  2.98426074e+07,\n",
       "           8.56244148e+07, -8.01556970e+06,  1.50688614e+08,  6.89212773e+07,\n",
       "           3.69345519e+07, -1.47079152e+08,  9.13140332e+07, -1.04457853e+08,\n",
       "           3.16522117e+07, -1.01358597e+08,  9.05884442e+07, -4.51249228e+07,\n",
       "           2.56422607e+07,  1.18046894e+08, -1.32328022e+08,  1.25997782e+08,\n",
       "           9.58933048e+07, -1.26267525e+08, -2.26562311e+07, -4.39152918e+06,\n",
       "          -5.23115489e+06,  6.93418942e+07,  1.49605828e+08,  1.28572173e+08,\n",
       "           1.10403840e+07,  2.58669235e+07, -2.04335168e+07,  7.52003004e+07,\n",
       "          -7.20559308e+07,  9.16042619e+07,  8.37840204e+06, -3.18365560e+07,\n",
       "          -2.72207052e+07,  8.62943682e+07,  3.33880210e+07,  1.78487536e+07,\n",
       "          -1.05324970e+08,  2.54562619e+07,  5.69566983e+07,  8.55491631e+07,\n",
       "           9.25377464e+07,  9.90612077e+07,  1.11265923e+08,  6.54458946e+07,\n",
       "           7.60254035e+07, -9.33949998e+07, -3.63759521e+07,  8.80926799e+07,\n",
       "           8.41812188e+07,  3.97922622e+07, -1.29075088e+08, -1.49547096e+08,\n",
       "          -8.03184078e+07,  1.42189047e+08,  1.15372162e+08,  1.63523243e+08,\n",
       "           3.86803819e+07,  3.19831071e+07,  1.79072677e+08,  5.82114049e+07])}}]"
      ]
     },
     "execution_count": 44,
     "metadata": {},
     "output_type": "execute_result"
    }
   ],
   "source": [
    "sim_default_results"
   ]
  },
  {
   "cell_type": "code",
   "execution_count": 45,
   "id": "6e00d4ab",
   "metadata": {},
   "outputs": [
    {
     "data": {
      "text/html": [
       "<div>\n",
       "<style scoped>\n",
       "    .dataframe tbody tr th:only-of-type {\n",
       "        vertical-align: middle;\n",
       "    }\n",
       "\n",
       "    .dataframe tbody tr th {\n",
       "        vertical-align: top;\n",
       "    }\n",
       "\n",
       "    .dataframe thead th {\n",
       "        text-align: right;\n",
       "    }\n",
       "</style>\n",
       "<table border=\"1\" class=\"dataframe\">\n",
       "  <thead>\n",
       "    <tr style=\"text-align: right;\">\n",
       "      <th></th>\n",
       "      <th>npv</th>\n",
       "      <th>scenario_num</th>\n",
       "    </tr>\n",
       "  </thead>\n",
       "  <tbody>\n",
       "    <tr>\n",
       "      <th>0</th>\n",
       "      <td>6.799771e+07</td>\n",
       "      <td>0</td>\n",
       "    </tr>\n",
       "    <tr>\n",
       "      <th>1</th>\n",
       "      <td>-5.725149e+07</td>\n",
       "      <td>0</td>\n",
       "    </tr>\n",
       "    <tr>\n",
       "      <th>2</th>\n",
       "      <td>8.275030e+06</td>\n",
       "      <td>0</td>\n",
       "    </tr>\n",
       "    <tr>\n",
       "      <th>3</th>\n",
       "      <td>-1.449830e+07</td>\n",
       "      <td>0</td>\n",
       "    </tr>\n",
       "    <tr>\n",
       "      <th>4</th>\n",
       "      <td>8.019744e+07</td>\n",
       "      <td>0</td>\n",
       "    </tr>\n",
       "    <tr>\n",
       "      <th>...</th>\n",
       "      <td>...</td>\n",
       "      <td>...</td>\n",
       "    </tr>\n",
       "    <tr>\n",
       "      <th>95</th>\n",
       "      <td>1.635232e+08</td>\n",
       "      <td>0</td>\n",
       "    </tr>\n",
       "    <tr>\n",
       "      <th>96</th>\n",
       "      <td>3.868038e+07</td>\n",
       "      <td>0</td>\n",
       "    </tr>\n",
       "    <tr>\n",
       "      <th>97</th>\n",
       "      <td>3.198311e+07</td>\n",
       "      <td>0</td>\n",
       "    </tr>\n",
       "    <tr>\n",
       "      <th>98</th>\n",
       "      <td>1.790727e+08</td>\n",
       "      <td>0</td>\n",
       "    </tr>\n",
       "    <tr>\n",
       "      <th>99</th>\n",
       "      <td>5.821140e+07</td>\n",
       "      <td>0</td>\n",
       "    </tr>\n",
       "  </tbody>\n",
       "</table>\n",
       "<p>100 rows × 2 columns</p>\n",
       "</div>"
      ],
      "text/plain": [
       "             npv  scenario_num\n",
       "0   6.799771e+07             0\n",
       "1  -5.725149e+07             0\n",
       "2   8.275030e+06             0\n",
       "3  -1.449830e+07             0\n",
       "4   8.019744e+07             0\n",
       "..           ...           ...\n",
       "95  1.635232e+08             0\n",
       "96  3.868038e+07             0\n",
       "97  3.198311e+07             0\n",
       "98  1.790727e+08             0\n",
       "99  5.821140e+07             0\n",
       "\n",
       "[100 rows x 2 columns]"
      ]
     },
     "execution_count": 45,
     "metadata": {},
     "output_type": "execute_result"
    }
   ],
   "source": [
    "sim_default_df = get_sim_results_df(sim_default_results)\n",
    "sim_default_df"
   ]
  },
  {
   "cell_type": "code",
   "execution_count": 46,
   "id": "6b373f91",
   "metadata": {},
   "outputs": [
    {
     "data": {
      "text/plain": [
       "{'npv': array([ 6.79977064e+07, -5.72514921e+07,  8.27503000e+06, -1.44982952e+07,\n",
       "         8.01974400e+07,  1.18703477e+08,  4.62605637e+06,  6.04097191e+07,\n",
       "         2.50221819e+05, -1.13019093e+08, -1.18248248e+06,  1.31587769e+08,\n",
       "         6.58828110e+07, -1.08964355e+08, -2.58542174e+07,  5.24511553e+07,\n",
       "         3.37243652e+07, -7.02219148e+07,  3.61766357e+07,  8.40740070e+07,\n",
       "         4.77856110e+07, -4.31095533e+07,  9.98084410e+07, -8.62101196e+07,\n",
       "         4.17034254e+06, -8.58987471e+07,  6.37022207e+07,  1.50963658e+07,\n",
       "        -4.88226061e+07,  3.25631507e+07, -1.08372879e+07,  1.89975090e+07,\n",
       "        -1.59309166e+08,  1.21134603e+08, -6.24336394e+07,  1.23793163e+08,\n",
       "        -1.25201213e+07,  1.41797845e+08,  3.81193777e+07,  2.98426074e+07,\n",
       "         8.56244148e+07, -8.01556970e+06,  1.50688614e+08,  6.89212773e+07,\n",
       "         3.69345519e+07, -1.47079152e+08,  9.13140332e+07, -1.04457853e+08,\n",
       "         3.16522117e+07, -1.01358597e+08,  9.05884442e+07, -4.51249228e+07,\n",
       "         2.56422607e+07,  1.18046894e+08, -1.32328022e+08,  1.25997782e+08,\n",
       "         9.58933048e+07, -1.26267525e+08, -2.26562311e+07, -4.39152918e+06,\n",
       "        -5.23115489e+06,  6.93418942e+07,  1.49605828e+08,  1.28572173e+08,\n",
       "         1.10403840e+07,  2.58669235e+07, -2.04335168e+07,  7.52003004e+07,\n",
       "        -7.20559308e+07,  9.16042619e+07,  8.37840204e+06, -3.18365560e+07,\n",
       "        -2.72207052e+07,  8.62943682e+07,  3.33880210e+07,  1.78487536e+07,\n",
       "        -1.05324970e+08,  2.54562619e+07,  5.69566983e+07,  8.55491631e+07,\n",
       "         9.25377464e+07,  9.90612077e+07,  1.11265923e+08,  6.54458946e+07,\n",
       "         7.60254035e+07, -9.33949998e+07, -3.63759521e+07,  8.80926799e+07,\n",
       "         8.41812188e+07,  3.97922622e+07, -1.29075088e+08, -1.49547096e+08,\n",
       "        -8.03184078e+07,  1.42189047e+08,  1.15372162e+08,  1.63523243e+08,\n",
       "         3.86803819e+07,  3.19831071e+07,  1.79072677e+08,  5.82114049e+07])}"
      ]
     },
     "execution_count": 46,
     "metadata": {},
     "output_type": "execute_result"
    }
   ],
   "source": [
    "sim_default_results[0]['output']"
   ]
  },
  {
   "cell_type": "code",
   "execution_count": 47,
   "id": "f18729bd",
   "metadata": {},
   "outputs": [
    {
     "data": {
      "image/png": "[encoded data removed]",
      "text/plain": [
       "<Figure size 432x288 with 1 Axes>"
      ]
     },
     "metadata": {
      "needs_background": "light"
     },
     "output_type": "display_data"
    }
   ],
   "source": [
    "plt.title(\"NPV histogram\")\n",
    "plt.xlabel(\"NPV\")\n",
    "plt.ylabel(\"Density\")\n",
    "plt.hist(sim_default_df['npv'], density=True);"
   ]
  },
  {
   "cell_type": "markdown",
   "id": "c1c86fde",
   "metadata": {},
   "source": [
    "## Evaluate multiple scenarios\n",
    "Now that the model is working for two random inputs and a multiperiod cash flow model, let's add a set of scenarios corresponding to different values of the fixed development cost."
   ]
  },
  {
   "cell_type": "code",
   "execution_count": 48,
   "id": "a2fd17ce",
   "metadata": {},
   "outputs": [],
   "source": [
    "scenario_inputs = {'fixed_dev_cost': [500e+6, 600e+6, 700e+6]}"
   ]
  },
  {
   "cell_type": "code",
   "execution_count": 49,
   "id": "fd658818",
   "metadata": {},
   "outputs": [],
   "source": [
    "sim_scenario_results = model_default.simulate(random_inputs, ['npv'], scenario_inputs)"
   ]
  },
  {
   "cell_type": "code",
   "execution_count": 50,
   "id": "d5eefc99",
   "metadata": {},
   "outputs": [
    {
     "data": {
      "text/plain": [
       "[{'scenario_base_vals': {'fixed_dev_cost': 600000000.0,\n",
       "   'base_margin': 4000.0,\n",
       "   'annual_margin_decr': 0.04,\n",
       "   'yr1_demand': 53560,\n",
       "   'demand_decr': array([[0.077, 0.077, 0.077, 0.077]]),\n",
       "   'tax_rate': 0.21,\n",
       "   'discount_rate': 0.07,\n",
       "   'num_years': 5},\n",
       "  'scenario_num': 0,\n",
       "  'scenario_vals': {'fixed_dev_cost': 500000000.0},\n",
       "  'output': {'npv': array([ 1.50776877e+08,  2.55276787e+07,  9.10542008e+07,  6.82808756e+07,\n",
       "           1.62976611e+08,  2.01482648e+08,  8.74052271e+07,  1.43188890e+08,\n",
       "           8.30293926e+07, -3.02399219e+07,  8.15966883e+07,  2.14366940e+08,\n",
       "           1.48661982e+08, -2.61851844e+07,  5.69249533e+07,  1.35230326e+08,\n",
       "           1.16503536e+08,  1.25572560e+07,  1.18955806e+08,  1.66853178e+08,\n",
       "           1.30564782e+08,  3.96696175e+07,  1.82587612e+08, -3.43094880e+06,\n",
       "           8.69495133e+07, -3.11957634e+06,  1.46481391e+08,  9.78755366e+07,\n",
       "           3.39565647e+07,  1.15342321e+08,  7.19418829e+07,  1.01776680e+08,\n",
       "          -7.65299954e+07,  2.03913773e+08,  2.03455314e+07,  2.06572333e+08,\n",
       "           7.02590495e+07,  2.24577016e+08,  1.20898548e+08,  1.12621778e+08,\n",
       "           1.68403586e+08,  7.47636011e+07,  2.33467785e+08,  1.51700448e+08,\n",
       "           1.19713723e+08, -6.42999808e+07,  1.74093204e+08, -2.16786818e+07,\n",
       "           1.14431382e+08, -1.85794263e+07,  1.73367615e+08,  3.76542480e+07,\n",
       "           1.08421431e+08,  2.00826064e+08, -4.95488509e+07,  2.08776953e+08,\n",
       "           1.78672476e+08, -4.34883544e+07,  6.01229397e+07,  7.83876416e+07,\n",
       "           7.75480159e+07,  1.52121065e+08,  2.32384999e+08,  2.11351344e+08,\n",
       "           9.38195547e+07,  1.08646094e+08,  6.23456540e+07,  1.57979471e+08,\n",
       "           1.07232399e+07,  1.74383433e+08,  9.11575728e+07,  5.09426148e+07,\n",
       "           5.55584656e+07,  1.69073539e+08,  1.16167192e+08,  1.00627924e+08,\n",
       "          -2.25457992e+07,  1.08235433e+08,  1.39735869e+08,  1.68328334e+08,\n",
       "           1.75316917e+08,  1.81840378e+08,  1.94045093e+08,  1.48225065e+08,\n",
       "           1.58804574e+08, -1.06158290e+07,  4.64032186e+07,  1.70871851e+08,\n",
       "           1.66960390e+08,  1.22571433e+08, -4.62959173e+07, -6.67679255e+07,\n",
       "           2.46076296e+06,  2.24968218e+08,  1.98151333e+08,  2.46302414e+08,\n",
       "           1.21459553e+08,  1.14762278e+08,  2.61851848e+08,  1.40990576e+08])}},\n",
       " {'scenario_base_vals': {'fixed_dev_cost': 600000000.0,\n",
       "   'base_margin': 4000.0,\n",
       "   'annual_margin_decr': 0.04,\n",
       "   'yr1_demand': 53560,\n",
       "   'demand_decr': array([[0.077, 0.077, 0.077, 0.077]]),\n",
       "   'tax_rate': 0.21,\n",
       "   'discount_rate': 0.07,\n",
       "   'num_years': 5},\n",
       "  'scenario_num': 1,\n",
       "  'scenario_vals': {'fixed_dev_cost': 600000000.0},\n",
       "  'output': {'npv': array([ 6.79977064e+07, -5.72514921e+07,  8.27503000e+06, -1.44982952e+07,\n",
       "           8.01974400e+07,  1.18703477e+08,  4.62605637e+06,  6.04097191e+07,\n",
       "           2.50221819e+05, -1.13019093e+08, -1.18248248e+06,  1.31587769e+08,\n",
       "           6.58828110e+07, -1.08964355e+08, -2.58542174e+07,  5.24511553e+07,\n",
       "           3.37243652e+07, -7.02219148e+07,  3.61766357e+07,  8.40740070e+07,\n",
       "           4.77856110e+07, -4.31095533e+07,  9.98084410e+07, -8.62101196e+07,\n",
       "           4.17034254e+06, -8.58987471e+07,  6.37022207e+07,  1.50963658e+07,\n",
       "          -4.88226061e+07,  3.25631507e+07, -1.08372879e+07,  1.89975090e+07,\n",
       "          -1.59309166e+08,  1.21134603e+08, -6.24336394e+07,  1.23793163e+08,\n",
       "          -1.25201213e+07,  1.41797845e+08,  3.81193777e+07,  2.98426074e+07,\n",
       "           8.56244148e+07, -8.01556970e+06,  1.50688614e+08,  6.89212773e+07,\n",
       "           3.69345519e+07, -1.47079152e+08,  9.13140332e+07, -1.04457853e+08,\n",
       "           3.16522117e+07, -1.01358597e+08,  9.05884442e+07, -4.51249228e+07,\n",
       "           2.56422607e+07,  1.18046894e+08, -1.32328022e+08,  1.25997782e+08,\n",
       "           9.58933048e+07, -1.26267525e+08, -2.26562311e+07, -4.39152918e+06,\n",
       "          -5.23115489e+06,  6.93418942e+07,  1.49605828e+08,  1.28572173e+08,\n",
       "           1.10403840e+07,  2.58669235e+07, -2.04335168e+07,  7.52003004e+07,\n",
       "          -7.20559308e+07,  9.16042619e+07,  8.37840204e+06, -3.18365560e+07,\n",
       "          -2.72207052e+07,  8.62943682e+07,  3.33880210e+07,  1.78487536e+07,\n",
       "          -1.05324970e+08,  2.54562619e+07,  5.69566983e+07,  8.55491631e+07,\n",
       "           9.25377464e+07,  9.90612077e+07,  1.11265923e+08,  6.54458946e+07,\n",
       "           7.60254035e+07, -9.33949998e+07, -3.63759521e+07,  8.80926799e+07,\n",
       "           8.41812188e+07,  3.97922622e+07, -1.29075088e+08, -1.49547096e+08,\n",
       "          -8.03184078e+07,  1.42189047e+08,  1.15372162e+08,  1.63523243e+08,\n",
       "           3.86803819e+07,  3.19831071e+07,  1.79072677e+08,  5.82114049e+07])}},\n",
       " {'scenario_base_vals': {'fixed_dev_cost': 600000000.0,\n",
       "   'base_margin': 4000.0,\n",
       "   'annual_margin_decr': 0.04,\n",
       "   'yr1_demand': 53560,\n",
       "   'demand_decr': array([[0.077, 0.077, 0.077, 0.077]]),\n",
       "   'tax_rate': 0.21,\n",
       "   'discount_rate': 0.07,\n",
       "   'num_years': 5},\n",
       "  'scenario_num': 2,\n",
       "  'scenario_vals': {'fixed_dev_cost': 700000000.0},\n",
       "  'output': {'npv': array([-1.47814643e+07, -1.40030663e+08, -7.45041408e+07, -9.72774659e+07,\n",
       "          -2.58173075e+06,  3.59243064e+07, -7.81531144e+07, -2.23694516e+07,\n",
       "          -8.25289489e+07, -1.95798263e+08, -8.39616532e+07,  4.88085981e+07,\n",
       "          -1.68963598e+07, -1.91743526e+08, -1.08633388e+08, -3.03280155e+07,\n",
       "          -4.90548056e+07, -1.53001086e+08, -4.66025351e+07,  1.29483622e+06,\n",
       "          -3.49935598e+07, -1.25888724e+08,  1.70292702e+07, -1.68989290e+08,\n",
       "          -7.86088282e+07, -1.68677918e+08, -1.90769501e+07, -6.76828049e+07,\n",
       "          -1.31601777e+08, -5.02160201e+07, -9.36164587e+07, -6.37816618e+07,\n",
       "          -2.42088337e+08,  3.83554318e+07, -1.45212810e+08,  4.10139918e+07,\n",
       "          -9.52992920e+07,  5.90186744e+07, -4.46597931e+07, -5.29365634e+07,\n",
       "           2.84524406e+06, -9.07947405e+07,  6.79094435e+07, -1.38578934e+07,\n",
       "          -4.58446189e+07, -2.29858322e+08,  8.53486244e+06, -1.87237023e+08,\n",
       "          -5.11269591e+07, -1.84137768e+08,  7.80927339e+06, -1.27904094e+08,\n",
       "          -5.71369101e+07,  3.52677229e+07, -2.15107192e+08,  4.32186115e+07,\n",
       "           1.31141340e+07, -2.09046696e+08, -1.05435402e+08, -8.71706999e+07,\n",
       "          -8.80103257e+07, -1.34372766e+07,  6.68266572e+07,  4.57930023e+07,\n",
       "          -7.17387868e+07, -5.69122473e+07, -1.03212688e+08, -7.57887037e+06,\n",
       "          -1.54835102e+08,  8.82509116e+06, -7.44007687e+07, -1.14615727e+08,\n",
       "          -1.09999876e+08,  3.51519747e+06, -4.93911498e+07, -6.49304172e+07,\n",
       "          -1.88104141e+08, -5.73229089e+07, -2.58224725e+07,  2.76999236e+06,\n",
       "           9.75857562e+06,  1.62820369e+07,  2.84867519e+07, -1.73332761e+07,\n",
       "          -6.75376728e+06, -1.76174171e+08, -1.19155123e+08,  5.31350915e+06,\n",
       "           1.40204808e+06, -4.29869086e+07, -2.11854259e+08, -2.32326267e+08,\n",
       "          -1.63097579e+08,  5.94098761e+07,  3.25929917e+07,  8.07440724e+07,\n",
       "          -4.40987889e+07, -5.07960637e+07,  9.62935063e+07, -2.45677659e+07])}}]"
      ]
     },
     "execution_count": 50,
     "metadata": {},
     "output_type": "execute_result"
    }
   ],
   "source": [
    "sim_scenario_results"
   ]
  },
  {
   "cell_type": "code",
   "execution_count": 51,
   "id": "99da5109",
   "metadata": {},
   "outputs": [
    {
     "data": {
      "text/html": [
       "<div>\n",
       "<style scoped>\n",
       "    .dataframe tbody tr th:only-of-type {\n",
       "        vertical-align: middle;\n",
       "    }\n",
       "\n",
       "    .dataframe tbody tr th {\n",
       "        vertical-align: top;\n",
       "    }\n",
       "\n",
       "    .dataframe thead th {\n",
       "        text-align: right;\n",
       "    }\n",
       "</style>\n",
       "<table border=\"1\" class=\"dataframe\">\n",
       "  <thead>\n",
       "    <tr style=\"text-align: right;\">\n",
       "      <th></th>\n",
       "      <th>npv</th>\n",
       "      <th>scenario_num</th>\n",
       "      <th>fixed_dev_cost</th>\n",
       "    </tr>\n",
       "  </thead>\n",
       "  <tbody>\n",
       "    <tr>\n",
       "      <th>0</th>\n",
       "      <td>1.507769e+08</td>\n",
       "      <td>0</td>\n",
       "      <td>500000000.0</td>\n",
       "    </tr>\n",
       "    <tr>\n",
       "      <th>1</th>\n",
       "      <td>2.552768e+07</td>\n",
       "      <td>0</td>\n",
       "      <td>500000000.0</td>\n",
       "    </tr>\n",
       "    <tr>\n",
       "      <th>2</th>\n",
       "      <td>9.105420e+07</td>\n",
       "      <td>0</td>\n",
       "      <td>500000000.0</td>\n",
       "    </tr>\n",
       "    <tr>\n",
       "      <th>3</th>\n",
       "      <td>6.828088e+07</td>\n",
       "      <td>0</td>\n",
       "      <td>500000000.0</td>\n",
       "    </tr>\n",
       "    <tr>\n",
       "      <th>4</th>\n",
       "      <td>1.629766e+08</td>\n",
       "      <td>0</td>\n",
       "      <td>500000000.0</td>\n",
       "    </tr>\n",
       "    <tr>\n",
       "      <th>...</th>\n",
       "      <td>...</td>\n",
       "      <td>...</td>\n",
       "      <td>...</td>\n",
       "    </tr>\n",
       "    <tr>\n",
       "      <th>95</th>\n",
       "      <td>8.074407e+07</td>\n",
       "      <td>2</td>\n",
       "      <td>700000000.0</td>\n",
       "    </tr>\n",
       "    <tr>\n",
       "      <th>96</th>\n",
       "      <td>-4.409879e+07</td>\n",
       "      <td>2</td>\n",
       "      <td>700000000.0</td>\n",
       "    </tr>\n",
       "    <tr>\n",
       "      <th>97</th>\n",
       "      <td>-5.079606e+07</td>\n",
       "      <td>2</td>\n",
       "      <td>700000000.0</td>\n",
       "    </tr>\n",
       "    <tr>\n",
       "      <th>98</th>\n",
       "      <td>9.629351e+07</td>\n",
       "      <td>2</td>\n",
       "      <td>700000000.0</td>\n",
       "    </tr>\n",
       "    <tr>\n",
       "      <th>99</th>\n",
       "      <td>-2.456777e+07</td>\n",
       "      <td>2</td>\n",
       "      <td>700000000.0</td>\n",
       "    </tr>\n",
       "  </tbody>\n",
       "</table>\n",
       "<p>300 rows × 3 columns</p>\n",
       "</div>"
      ],
      "text/plain": [
       "             npv  scenario_num  fixed_dev_cost\n",
       "0   1.507769e+08             0     500000000.0\n",
       "1   2.552768e+07             0     500000000.0\n",
       "2   9.105420e+07             0     500000000.0\n",
       "3   6.828088e+07             0     500000000.0\n",
       "4   1.629766e+08             0     500000000.0\n",
       "..           ...           ...             ...\n",
       "95  8.074407e+07             2     700000000.0\n",
       "96 -4.409879e+07             2     700000000.0\n",
       "97 -5.079606e+07             2     700000000.0\n",
       "98  9.629351e+07             2     700000000.0\n",
       "99 -2.456777e+07             2     700000000.0\n",
       "\n",
       "[300 rows x 3 columns]"
      ]
     },
     "execution_count": 51,
     "metadata": {},
     "output_type": "execute_result"
    }
   ],
   "source": [
    "sim_scenario_df = get_sim_results_df(sim_scenario_results)\n",
    "sim_scenario_df"
   ]
  },
  {
   "cell_type": "code",
   "execution_count": null,
   "id": "082a0837",
   "metadata": {},
   "outputs": [],
   "source": []
  },
  {
   "cell_type": "code",
   "execution_count": null,
   "id": "e85d807b",
   "metadata": {},
   "outputs": [],
   "source": []
  }
 ],
 "metadata": {
  "kernelspec": {
   "display_name": "Python 3",
   "language": "python",
   "name": "python3"
  },
  "language_info": {
   "codemirror_mode": {
    "name": "ipython",
    "version": 3
   },
   "file_extension": ".py",
   "mimetype": "text/x-python",
   "name": "python",
   "nbconvert_exporter": "python",
   "pygments_lexer": "ipython3",
   "version": "3.7.10"
  }
 },
 "nbformat": 4,
 "nbformat_minor": 5
}
