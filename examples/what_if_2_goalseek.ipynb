{
 "cells": [
  {
   "cell_type": "markdown",
   "metadata": {},
   "source": [
    "## Excel \"What if?\" analysis with Python - Part 2: Goal Seek\n"
   ]
  },
  {
   "cell_type": "markdown",
   "metadata": {},
   "source": [
    "In the [first part of this series](http://hselab.org/excel-to-python-1-models-datatables.html), I introduced the general idea of using Python for typical spreadsheet modeling activities. We built both object-oriented (OO) and non-OO versions of a basic business model (the Bookstore Model - it's repeated below for convenience) and learned a few things about doing OOP in Python. Then we designed and created a `data_table` function to do sensitivity analysis much like Excel's Data Table tool (though our Python version can handle an arbitrary number of both input and output variables).\n",
    "\n",
    "Now we'll build on that work in part 2 by designing and creating a `goal_seek` function that is very similar to Excel's Goal Seek tool. As we did in part 1, we'll also be exploring some of Python's more advanced features. "
   ]
  },
  {
   "cell_type": "markdown",
   "metadata": {},
   "source": [
    "In the remainder of this document, we'll learn a bit about root finding as well as things like SciPy, partial function freezing, and function wrapping with lambda functions. When we are done, we'll have a `goal_seek` function to complement our `data_table` function. \n"
   ]
  },
  {
   "cell_type": "code",
   "execution_count": 1,
   "metadata": {},
   "outputs": [],
   "source": [
    "import numpy as np\n",
    "import pandas as pd\n",
    "import matplotlib.pyplot as plt\n",
    "from sklearn.model_selection._search import ParameterGrid\n",
    "import seaborn as sns\n",
    "import copy"
   ]
  },
  {
   "cell_type": "code",
   "execution_count": 2,
   "metadata": {},
   "outputs": [],
   "source": [
    "%matplotlib inline"
   ]
  },
  {
   "cell_type": "markdown",
   "metadata": {},
   "source": [
    "### Bookstore model\n",
    "\n",
    "For convenience, I'll describe the base model we are using throughout this series of Jupyter notebook based posts. This example is based on [one in the spreadsheet modeling textbook(s) I've used in my classes since 2001](https://host.kelley.iu.edu/albrightbooks/). I started out using Practical Management Science by Winston and Albright and switched to their Business Analytics: Data Analysis and Decision Making (Albright and Winston) around 2013ish. In both books, they introduce the \"Walton Bookstore\" problem in the chapter on Monte-Carlo simulation. Here's the basic problem (with a few modifications):\n",
    "\n",
    "* we have to place an order for a perishable product (e.g. a calendar)\n",
    "* there's a known unit cost for each one ordered\n",
    "* we have a known selling price\n",
    "* demand is uncertain but we can model it with some simple probability distribution\n",
    "* for each unsold item, we can get a partial refund of our unit cost\n",
    "* we need to select the order quantity for our one order for the year; orders can only be in multiples of 25\n"
   ]
  },
  {
   "cell_type": "markdown",
   "metadata": {},
   "source": [
    "### Goal Seek\n",
    "\n",
    "In addition to the type of sensitivity analysis enabled by the `data_table` function we created in the [first post in this series](http://hselab.org/excel-to-python-1-models-datatables.html), another typical Excel analytical task is to use Goal Seek to find, say, the break even level of demand. At its core, Goal Seek is just a root finder. So, in the Python world, it feels like the optimization routines in SciPy might be useful. Let's start with the non-OO version of our Bookstore Model"
   ]
  },
  {
   "cell_type": "markdown",
   "metadata": {},
   "source": [
    "## Attempt at non-OO version of Goal Seek\n",
    "\n",
    "This got tricky but led down all kinds of interesting side paths having to do with partial function freezing, lambda functions, currying, function signatures and more. Let's initialize our base input values."
   ]
  },
  {
   "cell_type": "code",
   "execution_count": 3,
   "metadata": {},
   "outputs": [],
   "source": [
    "# Set all of our base input values\n",
    "unit_cost = 7.50\n",
    "selling_price = 10.00\n",
    "unit_refund = 2.50\n",
    "\n",
    "demand = 193\n",
    "\n",
    "order_quantity = 250"
   ]
  },
  {
   "cell_type": "markdown",
   "metadata": {},
   "source": [
    "Back in the first post in this series, we then created a function that took all of our base inputs as input arguments and returned a value for profit."
   ]
  },
  {
   "cell_type": "code",
   "execution_count": 4,
   "metadata": {},
   "outputs": [],
   "source": [
    "def bookstore_profit(unit_cost, selling_price, unit_refund, order_quantity, demand):\n",
    "    '''\n",
    "    Compute profit in bookstore model\n",
    "    '''\n",
    "    order_cost = unit_cost * order_quantity\n",
    "    sales_revenue = np.minimum(order_quantity, demand) * selling_price\n",
    "    refund_revenue = np.maximum(0, order_quantity - demand) * unit_refund \n",
    "    profit = sales_revenue + refund_revenue - order_cost\n",
    "    return profit"
   ]
  },
  {
   "cell_type": "markdown",
   "metadata": {},
   "source": [
    "Let's try it out."
   ]
  },
  {
   "cell_type": "code",
   "execution_count": 5,
   "metadata": {},
   "outputs": [
    {
     "data": {
      "text/plain": [
       "197.5"
      ]
     },
     "execution_count": 5,
     "metadata": {},
     "output_type": "execute_result"
    }
   ],
   "source": [
    "bookstore_profit(unit_cost, selling_price, unit_refund, order_quantity, demand)"
   ]
  },
  {
   "cell_type": "markdown",
   "metadata": {},
   "source": [
    "### A bit about root finding using a simpler example"
   ]
  },
  {
   "cell_type": "markdown",
   "metadata": {},
   "source": [
    "Now let's try to find the break even value for demand; i.e. the level of demand that leads to a profit of zero. As mentioned above, this is a root finding problem - finding where the profit function crosses the x-axis. The [SciPy package has various root finding and optimization functions](https://docs.scipy.org/doc/scipy/reference/optimize.html). \n",
    "\n",
    "Reading that page, we eventually get down to the root finding section and find the main function, [root_scalar](https://docs.scipy.org/doc/scipy/reference/generated/scipy.optimize.root_scalar.html#scipy.optimize.root_scalar). Before trying to use this this function for our bookstore model, let's consider a simpler example - a quadratic function."
   ]
  },
  {
   "cell_type": "code",
   "execution_count": 6,
   "metadata": {},
   "outputs": [],
   "source": [
    "def simple_function(x):\n",
    "    '''x^2 - 3x - 5'''\n",
    "    return x ** 2 - 3 * x - 5"
   ]
  },
  {
   "cell_type": "code",
   "execution_count": 7,
   "metadata": {},
   "outputs": [
    {
     "data": {
      "text/plain": [
       "-7"
      ]
     },
     "execution_count": 7,
     "metadata": {},
     "output_type": "execute_result"
    }
   ],
   "source": [
    "simple_function(2)"
   ]
  },
  {
   "cell_type": "code",
   "execution_count": 8,
   "metadata": {},
   "outputs": [
    {
     "data": {
      "text/plain": [
       "65"
      ]
     },
     "execution_count": 8,
     "metadata": {},
     "output_type": "execute_result"
    }
   ],
   "source": [
    "simple_function(10)"
   ]
  },
  {
   "cell_type": "code",
   "execution_count": 9,
   "metadata": {},
   "outputs": [
    {
     "data": {
      "image/png": "[encoded data removed]",
      "text/plain": [
       "<Figure size 432x288 with 1 Axes>"
      ]
     },
     "metadata": {
      "needs_background": "light"
     },
     "output_type": "display_data"
    }
   ],
   "source": [
    "left_bracket = -2\n",
    "right_bracket = 10\n",
    "x = np.linspace(left_bracket, right_bracket)\n",
    "y = simple_function(x)\n",
    "plt.plot(x, y)\n",
    "plt.xlabel('x')\n",
    "plt.ylabel('y = simple_function(x)')\n",
    "plt.hlines(0, left_bracket, right_bracket, linestyles='dotted')\n",
    "plt.show()"
   ]
  },
  {
   "attachments": {
    "image.png": {
     "image/png": "[encoded data removed]"
    }
   },
   "cell_type": "markdown",
   "metadata": {},
   "source": [
    "To use `scipy.optimize.root_scalar` to find the value of `x` where `simple_function(x)` is equal to zero, we call the `root_scalar` and pass in the following input arguments:\n",
    "\n",
    "* the function - in our case, this is `simple_function`\n",
    "* the root finding method - we'll use `bisect` as it's simple, converges, and doesn't require any derivative information. See https://www.youtube.com/watch?v=MlP_W-obuNg for an explanation of how bisection search works and how it can be easily implemented in Python. The basic idea is:\n",
    "    - divide search region in half\n",
    "    - see if root lies in left half or right half by checking if sign changes from beginning of left half to midpoint,\n",
    "    - discard the half not containing the root\n",
    "    - repeat the above until hit root exactly (or close enough) or reach iteration limit.\n",
    "* a bracket (required for some methods) - if we can define a range `[a, b]` within which we know the root occurs such that $f(a)$ and $f(b)$ have different signs, we can supply it. For example, in our `simple_function` example, we know it must cross zero somewhere between [-2, 0] and then again betwen [0, 10]. As you can imagine such a bracket will help immensely when there are multiple roots and lessen the effect of the initial guess. However, finding a range that brackets the root in a way that the sign changes at the endpoints of the bracket may be quite a difficult task.\n",
    "* an initial guess (optional) - many root finding algorithms will perform better if we are able to give a reasonable guess as to where the root might be.\n",
    "\n",
    "If you've ever used Excel's Goal Seek tool, you may have stumbled on behaviors that are related to the list and plot above.\n",
    "\n",
    "* Goal Seek doesn't allow you to tell it a whole lot in terms of how it attempts to find roots. We don't get to specify the method and we don't get to bracket the root. But, ...\n",
    "* Goal Seek does use the current cell value of the *Changing Cell* as an initial guess\n",
    "* If our spreadsheet model does have multiple roots, the root returned by Goal Seek will depend on our initial guess.\n",
    "\n",
    "For example, here are the results of using Goal Seek to drive `simple_function(x)` to 0 with different initial guesses. Note that the function is minimized at $x=1.5$.\n",
    "\n",
    "![image.png](attachment:image.png)\n",
    "\n",
    "Let's try a few different root finding functions available in SciPy.\n",
    "\n",
    "* `fsolve` - this appears to be a legacy function but doesn't require us to bracket the root such that $f(a)$ and $f(b)$ have different signs. Of course, the root it returns will likely be impacted by the initial guess (just as Goal Seek is).  \n",
    "* `root_scalar` - this is a newer, more general, function for which we can specify specifics such as the root finding algorithm. Most of the methods require a root bracket."
   ]
  },
  {
   "cell_type": "code",
   "execution_count": 10,
   "metadata": {},
   "outputs": [],
   "source": [
    "from scipy.optimize import root_scalar\n",
    "from scipy.optimize import fsolve"
   ]
  },
  {
   "cell_type": "code",
   "execution_count": 11,
   "metadata": {},
   "outputs": [
    {
     "data": {
      "text/plain": [
       "[(-1, array([-1.1925824])),\n",
       " (0.5, array([-1.1925824])),\n",
       " (1.49, array([-1.1925824])),\n",
       " (1.5, array([4.1925824])),\n",
       " (1.51, array([4.1925824])),\n",
       " (2.5, array([4.1925824])),\n",
       " (6, array([4.1925824]))]"
      ]
     },
     "execution_count": 11,
     "metadata": {},
     "output_type": "execute_result"
    }
   ],
   "source": [
    "# fsolve - very similar to Goal Seek\n",
    "init_values = [-1, 0.5, 1.49, 1.5, 1.51, 2.5, 6]\n",
    "\n",
    "[(x, fsolve(simple_function, x)) for x in init_values]\n",
    "    "
   ]
  },
  {
   "cell_type": "markdown",
   "metadata": {},
   "source": [
    "Now let's try `root_scalar`."
   ]
  },
  {
   "cell_type": "code",
   "execution_count": 12,
   "metadata": {},
   "outputs": [
    {
     "data": {
      "text/plain": [
       "[(-1, -1.1925824035661208),\n",
       " (-0.5, -1.1925824035661208),\n",
       " (0.0, -1.1925824035661208)]"
      ]
     },
     "execution_count": 12,
     "metadata": {},
     "output_type": "execute_result"
    }
   ],
   "source": [
    "# Left root\n",
    "init_values_1 = [-1, -0.5, 0.0]\n",
    "[(x, root_scalar(simple_function, method='bisect', bracket=[-2, 0], x1=x).root) for x in init_values_1]"
   ]
  },
  {
   "cell_type": "code",
   "execution_count": 13,
   "metadata": {},
   "outputs": [
    {
     "data": {
      "text/plain": [
       "[(0.0, 4.192582403567258),\n",
       " (0.5, 4.192582403567258),\n",
       " (1, 4.192582403567258),\n",
       " (4, 4.192582403567258),\n",
       " (10, 4.192582403567258)]"
      ]
     },
     "execution_count": 13,
     "metadata": {},
     "output_type": "execute_result"
    }
   ],
   "source": [
    "# Right root\n",
    "init_values_2 = [0.0, 0.5, 1, 4, 10]\n",
    "[(x, root_scalar(simple_function, method='bisect', bracket=[0, 10], x1=x).root) for x in init_values_2]\n",
    "    "
   ]
  },
  {
   "cell_type": "markdown",
   "metadata": {},
   "source": [
    "Great. In this contrived case in which we can easily write a function to compute the derivative of `simple_function`, we could use Newton's method instead of bisection search (or others) that require bracketing. Sometimes, just bracketing the root might be really hard. Of course, then the initial guess will matter a lot and we should be able to duplicate Goal Seek's behavior. In real spreadsheet life, we probably don't have a closed form solution for the derivative, though we could likely approximate it pretty well as long as it wasn't super jumpy. \n",
    "\n",
    "Check out http://www.math.pitt.edu/~troy/math2070/lab_04.html if you want to play around in Python with different root finding algorithms.\n",
    "\n",
    "Anyway, let's give Newton's a go."
   ]
  },
  {
   "cell_type": "code",
   "execution_count": 14,
   "metadata": {},
   "outputs": [],
   "source": [
    "def simple_function_prime(x):\n",
    "    '''Derivative of x^2 - 3x - 5'''\n",
    "    return 2 * x - 3"
   ]
  },
  {
   "cell_type": "code",
   "execution_count": 15,
   "metadata": {},
   "outputs": [
    {
     "name": "stderr",
     "output_type": "stream",
     "text": [
      "C:\\Users\\isken\\Anaconda3\\envs\\aap\\lib\\site-packages\\scipy\\optimize\\zeros.py:295: RuntimeWarning: Derivative was zero.\n",
      "  warnings.warn(msg, RuntimeWarning)\n"
     ]
    },
    {
     "data": {
      "text/plain": [
       "[(-1, -1.192582403567252),\n",
       " (0.5, -1.1925824035672519),\n",
       " (1.49, -1.192582403567252),\n",
       " (1.5, 1.5),\n",
       " (1.51, 4.192582403567251),\n",
       " (2.5, 4.192582403567252),\n",
       " (6, 4.192582403567252)]"
      ]
     },
     "execution_count": 15,
     "metadata": {},
     "output_type": "execute_result"
    }
   ],
   "source": [
    "init_values = [-1, 0.5, 1.49, 1.5, 1.51, 2.5, 6]\n",
    "\n",
    "[(x, root_scalar(simple_function, method='newton', fprime=simple_function_prime, x0=x).root) for x in init_values]"
   ]
  },
  {
   "cell_type": "markdown",
   "metadata": {},
   "source": [
    "Notice that with Newton's Method, we got the same behavior as Goal Seek, except for when we used an initial guess of 1.5. Of course, this is the point at which `simple_function` is minimized and the derivative is 0. We get a warning about that and instead of arbitrarily going in one direction or the other, `root_scalar` just bailed and gave us back our original guess. These root finding functions actually [return much more info than just the root](https://docs.scipy.org/doc/scipy/reference/generated/scipy.optimize.RootResults.html#scipy.optimize.RootResults)."
   ]
  },
  {
   "cell_type": "code",
   "execution_count": 16,
   "metadata": {},
   "outputs": [
    {
     "name": "stdout",
     "output_type": "stream",
     "text": [
      "      converged: True\n",
      "           flag: 'converged'\n",
      " function_calls: 14\n",
      "     iterations: 7\n",
      "           root: -1.192582403567252\n"
     ]
    }
   ],
   "source": [
    "print(root_scalar(simple_function, method='newton', fprime=simple_function_prime, x0=1))"
   ]
  },
  {
   "cell_type": "code",
   "execution_count": 17,
   "metadata": {},
   "outputs": [
    {
     "name": "stdout",
     "output_type": "stream",
     "text": [
      "      converged: False\n",
      "           flag: 'convergence error'\n",
      " function_calls: 2\n",
      "     iterations: 1\n",
      "           root: 1.5\n"
     ]
    }
   ],
   "source": [
    "print(root_scalar(simple_function, method='newton', fprime=simple_function_prime, x0=1.5))"
   ]
  },
  {
   "cell_type": "markdown",
   "metadata": {},
   "source": [
    "Try out different methods and you'll see that some take longer than others to converge. Bisection search is [known to be slow but safe](https://www.youtube.com/watch?v=MlP_W-obuNg&t=138s)."
   ]
  },
  {
   "cell_type": "code",
   "execution_count": 18,
   "metadata": {},
   "outputs": [
    {
     "name": "stdout",
     "output_type": "stream",
     "text": [
      "      converged: True\n",
      "           flag: 'converged'\n",
      " function_calls: 45\n",
      "     iterations: 43\n",
      "           root: 4.192582403567258\n"
     ]
    }
   ],
   "source": [
    "print(root_scalar(simple_function, method='bisect', bracket=[0, 10], x1=1))"
   ]
  },
  {
   "cell_type": "markdown",
   "metadata": {},
   "source": [
    "### Back to the Bookstore Model and partial functions\n",
    "You may have already been wondering how exactly we might use SciPy's root finding functions with our `bookstore_profit` function since it doesn't just have one input argument, it's got five. How do we tell `root_scalar` which one of the inputs (e.g. demand) is the one we want to search over and that we want all the other arguments to remain fixed at specific values? This is a job for something known as a [partial function](https://www.learnpython.org/en/Partial_functions). The idea is to create a new function object that is based on an existing function, but with some of the function's inputs set to fixed values. To create partial functions, we need to use the `partial` function from the `functools` library. Unfortunately, while this initially seemed easy, we quickly ran into problems. \n",
    "\n",
    "So, for our purposes, I'm just going immediately jump to the OO version of the `BookstoreModel`. If you are interested in the details regarding the challenge described above, then see the [blog post version of this tutorial](http://hselab.org/excel-to-python-2-goalseek.html)."
   ]
  },
  {
   "cell_type": "markdown",
   "metadata": {},
   "source": [
    "## Goal Seeking with the OO BookstoreModel\n",
    "Back in the first post of the series, we created a `BookstoreModel` class which contained methods for computing profit and other output measures, updating input parameters, and some other useful tasks. Here's the class we ended up with:"
   ]
  },
  {
   "cell_type": "code",
   "execution_count": 19,
   "metadata": {},
   "outputs": [],
   "source": [
    "class BookstoreModel():\n",
    "    def __init__(self, unit_cost=0, selling_price=0, unit_refund=0, \n",
    "                 order_quantity=0, demand=0):\n",
    "        self.unit_cost = unit_cost\n",
    "        self.selling_price = selling_price\n",
    "        self.unit_refund = unit_refund\n",
    "        self.order_quantity = order_quantity\n",
    "        self.demand = demand\n",
    "        \n",
    "        \n",
    "    def update(self, param_dict):\n",
    "        \"\"\"\n",
    "        Update parameter values\n",
    "        \"\"\"\n",
    "        for key in param_dict:\n",
    "            setattr(self, key, param_dict[key])\n",
    "        \n",
    "    def order_cost(self):\n",
    "        \"\"\"Compute total order cost\"\"\"\n",
    "        return self.unit_cost * self.order_quantity\n",
    "    \n",
    "    def sales_revenue(self):\n",
    "        \"\"\"Compute sales revenue\"\"\"\n",
    "        return np.minimum(self.order_quantity, self.demand) * self.selling_price\n",
    "    \n",
    "    def refund_revenue(self):\n",
    "        \"\"\"Compute revenue from refunds for unsold items\"\"\"\n",
    "        return np.maximum(0, self.order_quantity - self.demand) * self.unit_refund\n",
    "    \n",
    "    def total_revenue(self):\n",
    "        \"\"\"Compute revenue from refunds and sales\"\"\"\n",
    "        return self.sales_revenue() + self.refund_revenue()\n",
    "    \n",
    "    def profit(self):\n",
    "        '''\n",
    "        Compute profit in bookstore model\n",
    "        '''\n",
    "        profit = self.sales_revenue() + self.refund_revenue() - self.order_cost()\n",
    "        return profit\n",
    "       \n",
    "    def __str__(self):\n",
    "        \"\"\"\n",
    "        Print dictionary of object attributes\n",
    "        \"\"\"\n",
    "        return str(vars(self))"
   ]
  },
  {
   "cell_type": "markdown",
   "metadata": {},
   "source": [
    "In the first post we also created a `data_table` function that takes a `BookstoreModel` object as input along with input variable ranges and a list of desired outputs to implement the equivalent of general Excel Data Table function which allows an arbitrary number of both inputs and outputs. Recall that in Excel we can either do a 1-way Data Table with any number of outputs or a 2-way table with a single output.\n",
    "\n",
    "Here's that function and quick recap of its use."
   ]
  },
  {
   "cell_type": "code",
   "execution_count": 20,
   "metadata": {},
   "outputs": [],
   "source": [
    "def data_table(model, scenario_inputs, outputs):\n",
    "    '''Create n-inputs by m-outputs data table.\n",
    "\n",
    "    Parameters\n",
    "    ----------\n",
    "    model : object\n",
    "        User defined object containing the appropriate methods and properties for computing outputs from inputs\n",
    "    scenario_inputs : dict of str to sequence\n",
    "        Keys are input variable names and values are sequence of values for each scenario for this variable. Is consumed by\n",
    "        scikit-learn ParameterGrid() function. See https://scikit-learn.org/stable/modules/generated/sklearn.model_selection.ParameterGrid.html\n",
    "    outputs : list of str\n",
    "        List of output variable names\n",
    "\n",
    "    Returns\n",
    "    -------\n",
    "    results_df : pandas DataFrame\n",
    "        Contains values of all outputs for every combination of scenario inputs\n",
    "    '''\n",
    "    \n",
    "    # Clone the model using deepcopy\n",
    "    model_clone = copy.deepcopy(model)\n",
    "    \n",
    "    # Create parameter grid\n",
    "    dt_param_grid = list(ParameterGrid(scenario_inputs))\n",
    "    \n",
    "    # Create the table as a list of dictionaries\n",
    "    results = []\n",
    "\n",
    "    # Loop over the scenarios\n",
    "    for params in dt_param_grid:\n",
    "        # Update the model clone with scenario specific values\n",
    "        model_clone.update(params)\n",
    "        # Create a result dictionary based on a copy of the scenario inputs\n",
    "        result = copy.copy(params)\n",
    "        # Loop over the list of requested outputs\n",
    "        for output in outputs:\n",
    "            # Compute the output.\n",
    "            out_val = getattr(model_clone, output)()\n",
    "            # Add the output to the result dictionary\n",
    "            result[output] = out_val\n",
    "        \n",
    "        # Append the result dictionary to the results list\n",
    "        results.append(result)\n",
    "\n",
    "    # Convert the results list (of dictionaries) to a pandas DataFrame and return it\n",
    "    results_df = pd.DataFrame(results)\n",
    "    return results_df"
   ]
  },
  {
   "cell_type": "markdown",
   "metadata": {},
   "source": [
    "Okay, let's try it out. "
   ]
  },
  {
   "cell_type": "code",
   "execution_count": 21,
   "metadata": {},
   "outputs": [],
   "source": [
    "# Create a dictionary of base input values\n",
    "\n",
    "base_inputs = {'unit_cost': 7.5, \n",
    "               'selling_price': 10.0, \n",
    "               'unit_refund': 2.5, \n",
    "               'order_quantity': 200, \n",
    "               'demand': 193}"
   ]
  },
  {
   "cell_type": "code",
   "execution_count": 22,
   "metadata": {},
   "outputs": [
    {
     "name": "stdout",
     "output_type": "stream",
     "text": [
      "{'unit_cost': 0, 'selling_price': 0, 'unit_refund': 0, 'order_quantity': 0, 'demand': 0}\n"
     ]
    },
    {
     "data": {
      "text/plain": [
       "0"
      ]
     },
     "execution_count": 22,
     "metadata": {},
     "output_type": "execute_result"
    }
   ],
   "source": [
    "# Create a new model with default input values (0's)\n",
    "model_6 = BookstoreModel()\n",
    "print(model_6)\n",
    "model_6.profit()"
   ]
  },
  {
   "cell_type": "code",
   "execution_count": 23,
   "metadata": {},
   "outputs": [
    {
     "name": "stdout",
     "output_type": "stream",
     "text": [
      "{'unit_cost': 7.5, 'selling_price': 10.0, 'unit_refund': 2.5, 'order_quantity': 200, 'demand': 193}\n"
     ]
    }
   ],
   "source": [
    "# Update model with base inputs\n",
    "model_6.update(base_inputs)\n",
    "print(model_6)"
   ]
  },
  {
   "cell_type": "code",
   "execution_count": 24,
   "metadata": {},
   "outputs": [
    {
     "data": {
      "text/html": [
       "<div>\n",
       "<style scoped>\n",
       "    .dataframe tbody tr th:only-of-type {\n",
       "        vertical-align: middle;\n",
       "    }\n",
       "\n",
       "    .dataframe tbody tr th {\n",
       "        vertical-align: top;\n",
       "    }\n",
       "\n",
       "    .dataframe thead th {\n",
       "        text-align: right;\n",
       "    }\n",
       "</style>\n",
       "<table border=\"1\" class=\"dataframe\">\n",
       "  <thead>\n",
       "    <tr style=\"text-align: right;\">\n",
       "      <th></th>\n",
       "      <th>demand</th>\n",
       "      <th>order_quantity</th>\n",
       "      <th>profit</th>\n",
       "      <th>order_cost</th>\n",
       "    </tr>\n",
       "  </thead>\n",
       "  <tbody>\n",
       "    <tr>\n",
       "      <th>0</th>\n",
       "      <td>70</td>\n",
       "      <td>70</td>\n",
       "      <td>175.0</td>\n",
       "      <td>525.0</td>\n",
       "    </tr>\n",
       "    <tr>\n",
       "      <th>1</th>\n",
       "      <td>70</td>\n",
       "      <td>120</td>\n",
       "      <td>-75.0</td>\n",
       "      <td>900.0</td>\n",
       "    </tr>\n",
       "    <tr>\n",
       "      <th>2</th>\n",
       "      <td>70</td>\n",
       "      <td>170</td>\n",
       "      <td>-325.0</td>\n",
       "      <td>1275.0</td>\n",
       "    </tr>\n",
       "    <tr>\n",
       "      <th>3</th>\n",
       "      <td>70</td>\n",
       "      <td>220</td>\n",
       "      <td>-575.0</td>\n",
       "      <td>1650.0</td>\n",
       "    </tr>\n",
       "    <tr>\n",
       "      <th>4</th>\n",
       "      <td>70</td>\n",
       "      <td>270</td>\n",
       "      <td>-825.0</td>\n",
       "      <td>2025.0</td>\n",
       "    </tr>\n",
       "    <tr>\n",
       "      <th>...</th>\n",
       "      <td>...</td>\n",
       "      <td>...</td>\n",
       "      <td>...</td>\n",
       "      <td>...</td>\n",
       "    </tr>\n",
       "    <tr>\n",
       "      <th>61</th>\n",
       "      <td>320</td>\n",
       "      <td>120</td>\n",
       "      <td>300.0</td>\n",
       "      <td>900.0</td>\n",
       "    </tr>\n",
       "    <tr>\n",
       "      <th>62</th>\n",
       "      <td>320</td>\n",
       "      <td>170</td>\n",
       "      <td>425.0</td>\n",
       "      <td>1275.0</td>\n",
       "    </tr>\n",
       "    <tr>\n",
       "      <th>63</th>\n",
       "      <td>320</td>\n",
       "      <td>220</td>\n",
       "      <td>550.0</td>\n",
       "      <td>1650.0</td>\n",
       "    </tr>\n",
       "    <tr>\n",
       "      <th>64</th>\n",
       "      <td>320</td>\n",
       "      <td>270</td>\n",
       "      <td>675.0</td>\n",
       "      <td>2025.0</td>\n",
       "    </tr>\n",
       "    <tr>\n",
       "      <th>65</th>\n",
       "      <td>320</td>\n",
       "      <td>320</td>\n",
       "      <td>800.0</td>\n",
       "      <td>2400.0</td>\n",
       "    </tr>\n",
       "  </tbody>\n",
       "</table>\n",
       "<p>66 rows × 4 columns</p>\n",
       "</div>"
      ],
      "text/plain": [
       "    demand  order_quantity  profit  order_cost\n",
       "0       70              70   175.0       525.0\n",
       "1       70             120   -75.0       900.0\n",
       "2       70             170  -325.0      1275.0\n",
       "3       70             220  -575.0      1650.0\n",
       "4       70             270  -825.0      2025.0\n",
       "..     ...             ...     ...         ...\n",
       "61     320             120   300.0       900.0\n",
       "62     320             170   425.0      1275.0\n",
       "63     320             220   550.0      1650.0\n",
       "64     320             270   675.0      2025.0\n",
       "65     320             320   800.0      2400.0\n",
       "\n",
       "[66 rows x 4 columns]"
      ]
     },
     "execution_count": 24,
     "metadata": {},
     "output_type": "execute_result"
    }
   ],
   "source": [
    "# Specify input ranges for scenarios (dictionary)\n",
    "dt_param_ranges = {'demand': np.arange(70, 321, 25),\n",
    "                   'order_quantity': np.arange(70, 321, 50)}\n",
    "\n",
    "# Specify desired outputs (list)\n",
    "outputs = ['profit', 'order_cost']\n",
    "\n",
    "# Use data_table function\n",
    "m6_dt1_df = data_table(model_6, dt_param_ranges, outputs)\n",
    "m6_dt1_df"
   ]
  },
  {
   "cell_type": "markdown",
   "metadata": {},
   "source": [
    "Let's plot the results using Seaborn."
   ]
  },
  {
   "cell_type": "code",
   "execution_count": 25,
   "metadata": {},
   "outputs": [
    {
     "data": {
      "image/png": "[encoded data removed]",
      "text/plain": [
       "<Figure size 648x432 with 6 Axes>"
      ]
     },
     "metadata": {
      "needs_background": "light"
     },
     "output_type": "display_data"
    }
   ],
   "source": [
    "profit_dt_g = sns.FacetGrid(m6_dt1_df, col=\"order_quantity\", sharey=True, col_wrap=3)\n",
    "profit_dt_g = profit_dt_g.map(plt.plot, \"demand\", \"profit\")"
   ]
  },
  {
   "cell_type": "markdown",
   "metadata": {},
   "source": [
    "### Adding a `goal_seek` function\n",
    "As mentioned earlier in this notebook, there were a bunch of issues that popped up in trying to use SciPy's root finding functions with the non-OO model. For the OO model, it felt like I'd end up with similar problems in trying to write some sort of generic wrapper that would create functions to pass into things like `root_scalar`. Instead, I decided to simply bypass SciPy and write my own root finder that I could tailor to our goal seeking problem. When I say \"write\", I mean find a good implementation that someone has already done and tweak it. \n",
    "\n",
    "For example, https://github.com/patrickwalls/mathematical-python/ has nice implementations of various root finding methods. It was a pretty simple matter to adapt the [bisection function he wrote in this notebook](https://github.com/patrickwalls/mathematical-python/blob/master/roots-optimization/bisection.ipynb) to use in my `goal_seek` function. "
   ]
  },
  {
   "cell_type": "code",
   "execution_count": 26,
   "metadata": {},
   "outputs": [],
   "source": [
    "def goal_seek(model, obj_fn, target, by_changing, a, b, N=100, verbose=False):\n",
    "    '''Approximate solution of f(x)=0 on interval [a,b] by bisection method.\n",
    "\n",
    "    Parameters\n",
    "    ----------\n",
    "    model : object\n",
    "        User defined object containing the appropriate methods and properties for doing the desired goal seek\n",
    "    obj_fn : function\n",
    "        The function for which we are trying to approximate a solution f(x)=target.\n",
    "    target : float\n",
    "        The goal\n",
    "    by_changing : string\n",
    "        Name of the input variable in model\n",
    "    a,b : numbers\n",
    "        The interval in which to search for a solution. The function returns\n",
    "        None if (f(a) - target) * (f(b) - target) >= 0 since a solution is not guaranteed.\n",
    "    N : (positive) integer\n",
    "        The number of iterations to implement.\n",
    "    verbose : boolean (default=False)\n",
    "        If True, root finding progress is reported\n",
    "\n",
    "    Returns\n",
    "    -------\n",
    "    x_N : number\n",
    "        The midpoint of the Nth interval computed by the bisection method. The\n",
    "        initial interval [a_0,b_0] is given by [a,b]. If f(m_n) - target == 0 for some\n",
    "        midpoint m_n = (a_n + b_n)/2, then the function returns this solution.\n",
    "        If all signs of values f(a_n), f(b_n) and f(m_n) are the same at any\n",
    "        iteration, the bisection method fails and return None.\n",
    "    '''\n",
    "    # TODO: Checking of inputs and outputs\n",
    "    \n",
    "    # Clone the model\n",
    "    model_clone = copy.deepcopy(model)\n",
    "    \n",
    "    # The following bisection search is a direct adaptation of\n",
    "    # https://www.math.ubc.ca/~pwalls/math-python/roots-optimization/bisection/\n",
    "    # The changes include needing to use an object method instead of a global function\n",
    "    # and the inclusion of a non-zero target value.\n",
    "    \n",
    "    setattr(model_clone, by_changing, a)\n",
    "    f_a_0 = getattr(model_clone, obj_fn)()\n",
    "    setattr(model_clone, by_changing, b)\n",
    "    f_b_0 = getattr(model_clone, obj_fn)()\n",
    "    \n",
    "    if (f_a_0 - target) * (f_b_0 - target) >= 0:\n",
    "        # print(\"Bisection method fails.\")\n",
    "        return None\n",
    "    \n",
    "    # Initialize the end points\n",
    "    a_n = a\n",
    "    b_n = b\n",
    "    for n in range(1, N+1):\n",
    "        # Compute the midpoint\n",
    "        m_n = (a_n + b_n)/2\n",
    "        \n",
    "        # Function value at midpoint\n",
    "        setattr(model_clone, by_changing, m_n)\n",
    "        f_m_n = getattr(model_clone, obj_fn)()\n",
    "        \n",
    "        # Function value at a_n\n",
    "        setattr(model_clone, by_changing, a_n)\n",
    "        f_a_n = getattr(model_clone, obj_fn)()\n",
    "        \n",
    "        # Function value at b_n\n",
    "        setattr(model_clone, by_changing, b_n)\n",
    "        f_b_n = getattr(model_clone, obj_fn)()\n",
    "        \n",
    "        if verbose:\n",
    "            print(f\"n = {n}, a_n = {a_n}, b_n = {b_n}, m_n = {m_n}, width = {b_n - a_n}\")\n",
    "\n",
    "        # Figure out which half the root is in, or if we hit it exactly, or if the search failed\n",
    "        if (f_a_n - target) * (f_m_n - target) < 0:\n",
    "            a_n = a_n\n",
    "            b_n = m_n\n",
    "            if verbose:\n",
    "                print(\"Root is in left half\")\n",
    "        elif (f_b_n - target) * (f_m_n - target) < 0:\n",
    "            a_n = m_n\n",
    "            b_n = b_n\n",
    "            if verbose:\n",
    "                print(\"Root is in right half\")\n",
    "        elif f_m_n == target:\n",
    "            if verbose:\n",
    "                print(\"Found exact solution.\")\n",
    "            return m_n\n",
    "        else:\n",
    "            if verbose:\n",
    "                print(\"Bisection method fails.\")\n",
    "            return None\n",
    "    \n",
    "    # If we get here we hit iteration limit, return best solution found so far\n",
    "    if verbose:\n",
    "        print(\"Reached iteration limit\")\n",
    "    return (a_n + b_n)/2"
   ]
  },
  {
   "cell_type": "markdown",
   "metadata": {},
   "source": [
    "Let's give it a whirl to find break even demand for our standard set of inputs. We know the answer from earlier in this notebook."
   ]
  },
  {
   "cell_type": "code",
   "execution_count": 27,
   "metadata": {},
   "outputs": [
    {
     "name": "stdout",
     "output_type": "stream",
     "text": [
      "n = 1, a_n = 0, b_n = 1000, m_n = 500.0, width = 1000\n",
      "Root is in left half\n",
      "n = 2, a_n = 0, b_n = 500.0, m_n = 250.0, width = 500.0\n",
      "Root is in left half\n",
      "n = 3, a_n = 0, b_n = 250.0, m_n = 125.0, width = 250.0\n",
      "Root is in right half\n",
      "n = 4, a_n = 125.0, b_n = 250.0, m_n = 187.5, width = 125.0\n",
      "Root is in left half\n",
      "n = 5, a_n = 125.0, b_n = 187.5, m_n = 156.25, width = 62.5\n",
      "Root is in left half\n",
      "n = 6, a_n = 125.0, b_n = 156.25, m_n = 140.625, width = 31.25\n",
      "Root is in left half\n",
      "n = 7, a_n = 125.0, b_n = 140.625, m_n = 132.8125, width = 15.625\n",
      "Root is in right half\n",
      "n = 8, a_n = 132.8125, b_n = 140.625, m_n = 136.71875, width = 7.8125\n",
      "Root is in left half\n",
      "n = 9, a_n = 132.8125, b_n = 136.71875, m_n = 134.765625, width = 3.90625\n",
      "Root is in left half\n",
      "n = 10, a_n = 132.8125, b_n = 134.765625, m_n = 133.7890625, width = 1.953125\n",
      "Root is in left half\n",
      "n = 11, a_n = 132.8125, b_n = 133.7890625, m_n = 133.30078125, width = 0.9765625\n",
      "Root is in right half\n",
      "n = 12, a_n = 133.30078125, b_n = 133.7890625, m_n = 133.544921875, width = 0.48828125\n",
      "Root is in left half\n",
      "n = 13, a_n = 133.30078125, b_n = 133.544921875, m_n = 133.4228515625, width = 0.244140625\n",
      "Root is in left half\n",
      "n = 14, a_n = 133.30078125, b_n = 133.4228515625, m_n = 133.36181640625, width = 0.1220703125\n",
      "Root is in left half\n",
      "n = 15, a_n = 133.30078125, b_n = 133.36181640625, m_n = 133.331298828125, width = 0.06103515625\n",
      "Root is in right half\n",
      "n = 16, a_n = 133.331298828125, b_n = 133.36181640625, m_n = 133.3465576171875, width = 0.030517578125\n",
      "Root is in left half\n",
      "n = 17, a_n = 133.331298828125, b_n = 133.3465576171875, m_n = 133.33892822265625, width = 0.0152587890625\n",
      "Root is in left half\n",
      "n = 18, a_n = 133.331298828125, b_n = 133.33892822265625, m_n = 133.33511352539062, width = 0.00762939453125\n",
      "Root is in left half\n",
      "n = 19, a_n = 133.331298828125, b_n = 133.33511352539062, m_n = 133.3332061767578, width = 0.003814697265625\n",
      "Root is in right half\n",
      "n = 20, a_n = 133.3332061767578, b_n = 133.33511352539062, m_n = 133.33415985107422, width = 0.0019073486328125\n",
      "Root is in left half\n",
      "n = 21, a_n = 133.3332061767578, b_n = 133.33415985107422, m_n = 133.33368301391602, width = 0.00095367431640625\n",
      "Root is in left half\n",
      "n = 22, a_n = 133.3332061767578, b_n = 133.33368301391602, m_n = 133.3334445953369, width = 0.000476837158203125\n",
      "Root is in left half\n",
      "n = 23, a_n = 133.3332061767578, b_n = 133.3334445953369, m_n = 133.33332538604736, width = 0.0002384185791015625\n",
      "Root is in right half\n",
      "n = 24, a_n = 133.33332538604736, b_n = 133.3334445953369, m_n = 133.33338499069214, width = 0.00011920928955078125\n",
      "Root is in left half\n",
      "n = 25, a_n = 133.33332538604736, b_n = 133.33338499069214, m_n = 133.33335518836975, width = 5.9604644775390625e-05\n",
      "Root is in left half\n",
      "n = 26, a_n = 133.33332538604736, b_n = 133.33335518836975, m_n = 133.33334028720856, width = 2.9802322387695312e-05\n",
      "Root is in left half\n",
      "n = 27, a_n = 133.33332538604736, b_n = 133.33334028720856, m_n = 133.33333283662796, width = 1.4901161193847656e-05\n",
      "Root is in right half\n",
      "n = 28, a_n = 133.33333283662796, b_n = 133.33334028720856, m_n = 133.33333656191826, width = 7.450580596923828e-06\n",
      "Root is in left half\n",
      "n = 29, a_n = 133.33333283662796, b_n = 133.33333656191826, m_n = 133.3333346992731, width = 3.725290298461914e-06\n",
      "Root is in left half\n",
      "n = 30, a_n = 133.33333283662796, b_n = 133.3333346992731, m_n = 133.33333376795053, width = 1.862645149230957e-06\n",
      "Root is in left half\n",
      "n = 31, a_n = 133.33333283662796, b_n = 133.33333376795053, m_n = 133.33333330228925, width = 9.313225746154785e-07\n",
      "Root is in right half\n",
      "n = 32, a_n = 133.33333330228925, b_n = 133.33333376795053, m_n = 133.3333335351199, width = 4.6566128730773926e-07\n",
      "Root is in left half\n",
      "n = 33, a_n = 133.33333330228925, b_n = 133.3333335351199, m_n = 133.33333341870457, width = 2.3283064365386963e-07\n",
      "Root is in left half\n",
      "n = 34, a_n = 133.33333330228925, b_n = 133.33333341870457, m_n = 133.3333333604969, width = 1.1641532182693481e-07\n",
      "Root is in left half\n",
      "n = 35, a_n = 133.33333330228925, b_n = 133.3333333604969, m_n = 133.33333333139308, width = 5.820766091346741e-08\n",
      "Root is in right half\n",
      "n = 36, a_n = 133.33333333139308, b_n = 133.3333333604969, m_n = 133.333333345945, width = 2.9103830456733704e-08\n",
      "Root is in left half\n",
      "n = 37, a_n = 133.33333333139308, b_n = 133.333333345945, m_n = 133.33333333866904, width = 1.4551915228366852e-08\n",
      "Root is in left half\n",
      "n = 38, a_n = 133.33333333139308, b_n = 133.33333333866904, m_n = 133.33333333503106, width = 7.275957614183426e-09\n",
      "Root is in left half\n",
      "n = 39, a_n = 133.33333333139308, b_n = 133.33333333503106, m_n = 133.33333333321207, width = 3.637978807091713e-09\n",
      "Root is in right half\n",
      "n = 40, a_n = 133.33333333321207, b_n = 133.33333333503106, m_n = 133.33333333412156, width = 1.8189894035458565e-09\n",
      "Root is in left half\n",
      "n = 41, a_n = 133.33333333321207, b_n = 133.33333333412156, m_n = 133.33333333366681, width = 9.094947017729282e-10\n",
      "Root is in left half\n",
      "n = 42, a_n = 133.33333333321207, b_n = 133.33333333366681, m_n = 133.33333333343944, width = 4.547473508864641e-10\n",
      "Root is in left half\n",
      "n = 43, a_n = 133.33333333321207, b_n = 133.33333333343944, m_n = 133.33333333332575, width = 2.2737367544323206e-10\n",
      "Root is in right half\n",
      "n = 44, a_n = 133.33333333332575, b_n = 133.33333333343944, m_n = 133.3333333333826, width = 1.1368683772161603e-10\n",
      "Root is in left half\n",
      "n = 45, a_n = 133.33333333332575, b_n = 133.3333333333826, m_n = 133.33333333335418, width = 5.6843418860808015e-11\n",
      "Root is in left half\n",
      "n = 46, a_n = 133.33333333332575, b_n = 133.33333333335418, m_n = 133.33333333333997, width = 2.8421709430404007e-11\n",
      "Root is in left half\n",
      "n = 47, a_n = 133.33333333332575, b_n = 133.33333333333997, m_n = 133.33333333333286, width = 1.4210854715202004e-11\n",
      "Root is in right half\n",
      "n = 48, a_n = 133.33333333333286, b_n = 133.33333333333997, m_n = 133.3333333333364, width = 7.105427357601002e-12\n",
      "Root is in left half\n",
      "n = 49, a_n = 133.33333333333286, b_n = 133.3333333333364, m_n = 133.33333333333462, width = 3.552713678800501e-12\n",
      "Root is in left half\n",
      "n = 50, a_n = 133.33333333333286, b_n = 133.33333333333462, m_n = 133.33333333333374, width = 1.7621459846850485e-12\n",
      "Root is in left half\n",
      "n = 51, a_n = 133.33333333333286, b_n = 133.33333333333374, m_n = 133.33333333333331, width = 8.810729923425242e-13\n",
      "Root is in right half\n",
      "n = 52, a_n = 133.33333333333331, b_n = 133.33333333333374, m_n = 133.33333333333354, width = 4.263256414560601e-13\n",
      "Root is in left half\n",
      "n = 53, a_n = 133.33333333333331, b_n = 133.33333333333354, m_n = 133.33333333333343, width = 2.2737367544323206e-13\n",
      "Root is in left half\n",
      "n = 54, a_n = 133.33333333333331, b_n = 133.33333333333343, m_n = 133.33333333333337, width = 1.1368683772161603e-13\n",
      "Root is in left half\n",
      "n = 55, a_n = 133.33333333333331, b_n = 133.33333333333337, m_n = 133.33333333333334, width = 5.684341886080802e-14\n",
      "Found exact solution.\n"
     ]
    },
    {
     "data": {
      "text/plain": [
       "133.33333333333334"
      ]
     },
     "execution_count": 27,
     "metadata": {},
     "output_type": "execute_result"
    }
   ],
   "source": [
    "goal_seek(model_6, 'profit', 0, 'demand', 0, 1000, N=100, verbose=True)"
   ]
  },
  {
   "cell_type": "markdown",
   "metadata": {},
   "source": [
    "Let's end this part by putting it all together and creating a plot that shows total revenue, total cost, profit and the break even point as functions of demand."
   ]
  },
  {
   "cell_type": "code",
   "execution_count": 28,
   "metadata": {},
   "outputs": [],
   "source": [
    "# Specify input ranges for scenarios (dictionary)\n",
    "dt_param_ranges = {'demand': np.arange(70, 321, 25)}\n",
    "\n",
    "# Specify desired outputs (list)\n",
    "outputs = ['profit', 'order_cost', 'total_revenue']\n",
    "\n",
    "# Use data_table function to create dataframe\n",
    "m6_dt2_df = data_table(model_6, dt_param_ranges, outputs)\n",
    "\n",
    "# Use goal_seek to compute break even demand\n",
    "break_even_demand = goal_seek(model_6, 'profit', 0, 'demand', 0, 1000)"
   ]
  },
  {
   "cell_type": "code",
   "execution_count": 29,
   "metadata": {},
   "outputs": [
    {
     "data": {
      "text/html": [
       "<div>\n",
       "<style scoped>\n",
       "    .dataframe tbody tr th:only-of-type {\n",
       "        vertical-align: middle;\n",
       "    }\n",
       "\n",
       "    .dataframe tbody tr th {\n",
       "        vertical-align: top;\n",
       "    }\n",
       "\n",
       "    .dataframe thead th {\n",
       "        text-align: right;\n",
       "    }\n",
       "</style>\n",
       "<table border=\"1\" class=\"dataframe\">\n",
       "  <thead>\n",
       "    <tr style=\"text-align: right;\">\n",
       "      <th></th>\n",
       "      <th>demand</th>\n",
       "      <th>profit</th>\n",
       "      <th>order_cost</th>\n",
       "      <th>total_revenue</th>\n",
       "    </tr>\n",
       "  </thead>\n",
       "  <tbody>\n",
       "    <tr>\n",
       "      <th>0</th>\n",
       "      <td>70</td>\n",
       "      <td>-475.0</td>\n",
       "      <td>1500.0</td>\n",
       "      <td>1025.0</td>\n",
       "    </tr>\n",
       "    <tr>\n",
       "      <th>1</th>\n",
       "      <td>95</td>\n",
       "      <td>-287.5</td>\n",
       "      <td>1500.0</td>\n",
       "      <td>1212.5</td>\n",
       "    </tr>\n",
       "    <tr>\n",
       "      <th>2</th>\n",
       "      <td>120</td>\n",
       "      <td>-100.0</td>\n",
       "      <td>1500.0</td>\n",
       "      <td>1400.0</td>\n",
       "    </tr>\n",
       "    <tr>\n",
       "      <th>3</th>\n",
       "      <td>145</td>\n",
       "      <td>87.5</td>\n",
       "      <td>1500.0</td>\n",
       "      <td>1587.5</td>\n",
       "    </tr>\n",
       "    <tr>\n",
       "      <th>4</th>\n",
       "      <td>170</td>\n",
       "      <td>275.0</td>\n",
       "      <td>1500.0</td>\n",
       "      <td>1775.0</td>\n",
       "    </tr>\n",
       "    <tr>\n",
       "      <th>5</th>\n",
       "      <td>195</td>\n",
       "      <td>462.5</td>\n",
       "      <td>1500.0</td>\n",
       "      <td>1962.5</td>\n",
       "    </tr>\n",
       "    <tr>\n",
       "      <th>6</th>\n",
       "      <td>220</td>\n",
       "      <td>500.0</td>\n",
       "      <td>1500.0</td>\n",
       "      <td>2000.0</td>\n",
       "    </tr>\n",
       "    <tr>\n",
       "      <th>7</th>\n",
       "      <td>245</td>\n",
       "      <td>500.0</td>\n",
       "      <td>1500.0</td>\n",
       "      <td>2000.0</td>\n",
       "    </tr>\n",
       "    <tr>\n",
       "      <th>8</th>\n",
       "      <td>270</td>\n",
       "      <td>500.0</td>\n",
       "      <td>1500.0</td>\n",
       "      <td>2000.0</td>\n",
       "    </tr>\n",
       "    <tr>\n",
       "      <th>9</th>\n",
       "      <td>295</td>\n",
       "      <td>500.0</td>\n",
       "      <td>1500.0</td>\n",
       "      <td>2000.0</td>\n",
       "    </tr>\n",
       "    <tr>\n",
       "      <th>10</th>\n",
       "      <td>320</td>\n",
       "      <td>500.0</td>\n",
       "      <td>1500.0</td>\n",
       "      <td>2000.0</td>\n",
       "    </tr>\n",
       "  </tbody>\n",
       "</table>\n",
       "</div>"
      ],
      "text/plain": [
       "    demand  profit  order_cost  total_revenue\n",
       "0       70  -475.0      1500.0         1025.0\n",
       "1       95  -287.5      1500.0         1212.5\n",
       "2      120  -100.0      1500.0         1400.0\n",
       "3      145    87.5      1500.0         1587.5\n",
       "4      170   275.0      1500.0         1775.0\n",
       "5      195   462.5      1500.0         1962.5\n",
       "6      220   500.0      1500.0         2000.0\n",
       "7      245   500.0      1500.0         2000.0\n",
       "8      270   500.0      1500.0         2000.0\n",
       "9      295   500.0      1500.0         2000.0\n",
       "10     320   500.0      1500.0         2000.0"
      ]
     },
     "execution_count": 29,
     "metadata": {},
     "output_type": "execute_result"
    }
   ],
   "source": [
    "m6_dt2_df"
   ]
  },
  {
   "cell_type": "code",
   "execution_count": 30,
   "metadata": {},
   "outputs": [
    {
     "data": {
      "image/png": "[encoded data removed]",
      "text/plain": [
       "<Figure size 432x288 with 1 Axes>"
      ]
     },
     "metadata": {},
     "output_type": "display_data"
    }
   ],
   "source": [
    "# Initialize plot\n",
    "plt.style.use('ggplot')\n",
    "fig, ax = plt.subplots()\n",
    "\n",
    "# Create series variables\n",
    "demand = np.array(m6_dt2_df['demand'])\n",
    "cost = np.array(m6_dt2_df['order_cost'])\n",
    "revenue = np.array(m6_dt2_df['total_revenue'])\n",
    "profit = np.array(m6_dt2_df['profit'])\n",
    "\n",
    "# Plot series\n",
    "ax.plot(demand, cost, label='Total cost')\n",
    "ax.plot(demand, revenue, label='Total revenue')\n",
    "ax.plot(demand, profit, label='Profit')\n",
    "\n",
    "# Style plot elements\n",
    "ax.set(title='Break even analysis for bookstore model', xlabel='Demand', ylabel='$')\n",
    "plt.hlines(0, 70, 320, linestyles='dotted')\n",
    "plt.vlines(break_even_demand, -750, 2000, linestyles='dotted')\n",
    "ax.legend(loc='lower right')\n",
    "\n",
    "# Show the plot\n",
    "plt.show()"
   ]
  },
  {
   "cell_type": "markdown",
   "metadata": {},
   "source": [
    "## Wrap up and next steps\n",
    "We have added a `goal_seek` function to our small but growing list of functions for doing Excelish things in Python. Yes, we can certainly improve our `goal_seek` implementation with better root finding algorithms, but this is good enough for now.\n",
    "\n",
    "Along the way, hopefully you learned some new Python things, I know I did.\n",
    "\n",
    "In the next installment of this series, we'll take on Monte-Carlo simulation."
   ]
  },
  {
   "cell_type": "code",
   "execution_count": null,
   "metadata": {},
   "outputs": [],
   "source": []
  }
 ],
 "metadata": {
  "kernelspec": {
   "display_name": "Python 3",
   "language": "python",
   "name": "python3"
  },
  "language_info": {
   "codemirror_mode": {
    "name": "ipython",
    "version": 3
   },
   "file_extension": ".py",
   "mimetype": "text/x-python",
   "name": "python",
   "nbconvert_exporter": "python",
   "pygments_lexer": "ipython3",
   "version": "3.7.10"
  }
 },
 "nbformat": 4,
 "nbformat_minor": 4
}
