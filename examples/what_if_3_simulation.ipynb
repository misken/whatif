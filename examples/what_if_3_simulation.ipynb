{
 "cells": [
  {
   "cell_type": "raw",
   "metadata": {
    "raw_mimetype": "text/restructuredtext",
    "tags": []
   },
   "source": [
    "---\n",
    "title: 'Excel \"what if?\" analysis with Python - Part 3: Simulation'\n",
    "subtitle: \"Monte-Carlo simulation in Python\"\n",
    "date: \"2021-02-21\"\n",
    "categories: [python, excel, simulation]\n",
    "citation: true\n",
    "license: \"CC BY\"\n",
    "---"
   ]
  },
  {
   "cell_type": "markdown",
   "metadata": {},
   "source": [
    "In the [first part of this series](https://bitsofanalytics.org/posts/what-if-1-model-datatable/what_if_1_model_datatable.html), I introduced the general idea of exploring using Python for typical spreadsheet modeling activities. We built both object-oriented (OO) and non-OO versions of a basic business model (the Bookstore Model - it's repeated below for convenience) and learned a few things about doing OOP in Python. Then we designed and created a `data_table` function to do sensitivity analysis much like Excel's Data Table tool (though our Python version can handle an arbitrary number of both input and output variables). In [part 2 we created a goal_seek function](https://bitsofanalytics.org/posts/what-if-2-goal-seek/what_if_2_goalseek.html) that is reminiscent of Excel's Goal Seek tool. \n",
    "\n",
    "Now it's time to add Monte-Carlo simulation capabilities to our little library of functions. We'll stick with the same example. We are getting to the point where it would be convenient to package up our `BookstoreModel` class along with the `data_table` and `goal_seek` functions so that we could import them and use them here. I'll hold off on that until the next installment. For now, I've just included the code. In the spirit of consistency with the first two posts, we'll once again look at both OO and non-OO approaches to this problem.\n",
    "\n",
    "You can also read and download the [notebook based tutorial from GitHub](https://github.com/misken/whatif_modeling_oo).\n"
   ]
  },
  {
   "cell_type": "code",
   "execution_count": 1,
   "metadata": {},
   "outputs": [],
   "source": [
    "import numpy as np\n",
    "import pandas as pd\n",
    "import matplotlib.pyplot as plt\n",
    "from sklearn.model_selection._search import ParameterGrid\n",
    "import seaborn as sns\n",
    "import copy"
   ]
  },
  {
   "cell_type": "code",
   "execution_count": 2,
   "metadata": {},
   "outputs": [],
   "source": [
    "%matplotlib inline"
   ]
  },
  {
   "cell_type": "markdown",
   "metadata": {},
   "source": [
    "## Bookstore model\n",
    "\n",
    "This example is based on one in the [spreadsheet modeling textbook(s) I've used in my classes since 2001](https://host.kelley.iu.edu/albrightbooks/). I started out using Practical Management Science by Winston and Albright and switched to their Business Analytics: Data Analysis and Decision Making (Albright and Winston) around 2013ish. In both books, they introduce the \"Walton Bookstore\" problem in the chapter on Monte-Carlo simulation. Here's the basic problem (with a few modifications):\n",
    "\n",
    "* we have to place an order for a perishable product (e.g. a calendar),\n",
    "* there's a known unit cost for each one ordered,\n",
    "* we have a known selling price,\n",
    "* demand is uncertain but we can model it with some simple probability distribution,\n",
    "* for each unsold item, we can get a partial refund of our unit cost,\n",
    "* we need to select the order quantity for our one order for the year; orders can only be in multiples of 25.\n"
   ]
  },
  {
   "cell_type": "markdown",
   "metadata": {},
   "source": [
    "## A non-OO approach to Monte-Carlo simulation\n",
    "Let's start by repeating our basic non-OO model code for setting inputs and computing profit."
   ]
  },
  {
   "cell_type": "code",
   "execution_count": 3,
   "metadata": {},
   "outputs": [],
   "source": [
    "# Set all of our base input values except demand\n",
    "unit_cost = 7.50\n",
    "selling_price = 10.00\n",
    "unit_refund = 2.50\n",
    "order_quantity = 200"
   ]
  },
  {
   "cell_type": "code",
   "execution_count": 4,
   "metadata": {},
   "outputs": [],
   "source": [
    "def bookstore_profit(unit_cost, selling_price, unit_refund, order_quantity, demand):\n",
    "    '''\n",
    "    Compute profit in bookstore model\n",
    "    '''\n",
    "    order_cost = unit_cost * order_quantity\n",
    "    sales_revenue = np.minimum(order_quantity, demand) * selling_price\n",
    "    refund_revenue = np.maximum(0, order_quantity - demand) * unit_refund\n",
    "    profit = sales_revenue + refund_revenue - order_cost\n",
    "    return profit"
   ]
  },
  {
   "cell_type": "markdown",
   "metadata": {},
   "source": [
    "### Generating random demand values\n",
    "Assume we've used historical data to estimate the mean and standard deviation of demand. Furthermore, let's pretend that a histogram revealed a relatively normal looking distribution. "
   ]
  },
  {
   "cell_type": "code",
   "execution_count": 5,
   "metadata": {},
   "outputs": [],
   "source": [
    "# Demand parameters\n",
    "demand_mean = 193\n",
    "demand_sd = 40"
   ]
  },
  {
   "cell_type": "markdown",
   "metadata": {},
   "source": [
    "We can generate a vector of random demand realizations and then feed that vector to our `compute_profit` function. The result will be a vector of profits with the same number of elements as in our demand vector. Then we can analyze the results using descriptive statistics and plotting."
   ]
  },
  {
   "cell_type": "markdown",
   "metadata": {},
   "source": [
    "Recently, numpy has updated their random variable generation routines. The details are at [https://numpy.org/doc/stable/reference/random/index.html](https://numpy.org/doc/stable/reference/random/index.html).\n",
    "\n",
    "The `scipy.stats` module contains a large number of probability distributions and each has numerous functions for calculating things such as pdf or CDF values, quantiles, and various moments. You can see the details at [https://docs.scipy.org/doc/scipy/reference/stats.html](https://docs.scipy.org/doc/scipy/reference/stats.html).\n",
    "\n",
    "Let's assume we want to model demand with a normal distribution. We already initialized variables `demand_mean` and `demand_sd` with the mean and standard deviation of demand. \n",
    "\n",
    "The plan:\n",
    "\n",
    "* import random number generation function from numpy,\n",
    "* initialize a random number generator object,\n",
    "* use numpy's `normal` function to generate normally distributed random variates (we'll do 1000),\n",
    "* compute basic summary stats for the generated random variates,\n",
    "* create a histogram of the generated random variates to make sure they look normal (they will),\n",
    "* use `scipy.stats.norm` to create a normal distribution object,\n",
    "* use that normal distribution object to overlay a normal density curve on our histogram."
   ]
  },
  {
   "cell_type": "code",
   "execution_count": 6,
   "metadata": {},
   "outputs": [
    {
     "name": "stdout",
     "output_type": "stream",
     "text": [
      "Demand mean = 193\n",
      "Demand sd = 40\n"
     ]
    }
   ],
   "source": [
    "print(f\"Demand mean = {demand_mean}\")\n",
    "print(f\"Demand sd = {demand_sd}\")"
   ]
  },
  {
   "cell_type": "markdown",
   "metadata": {},
   "source": [
    "Before we launch into this, let's consider something that modelers often do with uncertain quantities - they simply replace them with their mean. As a benchmark, let's see what we'd estimate profit to be if we simply used the value of `demand_mean`. Remember this number."
   ]
  },
  {
   "cell_type": "code",
   "execution_count": 7,
   "metadata": {},
   "outputs": [
    {
     "data": {
      "text/plain": [
       "447.5"
      ]
     },
     "execution_count": 7,
     "metadata": {},
     "output_type": "execute_result"
    }
   ],
   "source": [
    "deterministic_profit = bookstore_profit(unit_cost, selling_price, unit_refund, order_quantity, demand_mean)\n",
    "deterministic_profit"
   ]
  },
  {
   "cell_type": "markdown",
   "metadata": {},
   "source": [
    "First we need to import the default random number generator and create a random generator variable. I'll use 4470 as the seed. This generator generates numbers uniformly between 0 and 1, which can be used to generate random variates from whatever distribution we choose."
   ]
  },
  {
   "cell_type": "code",
   "execution_count": 8,
   "metadata": {},
   "outputs": [
    {
     "data": {
      "text/plain": [
       "0.45855804438027437"
      ]
     },
     "execution_count": 8,
     "metadata": {},
     "output_type": "execute_result"
    }
   ],
   "source": [
    "from numpy.random import default_rng\n",
    "rg = default_rng(4470)\n",
    "rg.random() # Generate one just to see it work"
   ]
  },
  {
   "cell_type": "markdown",
   "metadata": {},
   "source": [
    "Generate 1000 random variates from a normal distribution with our given mean and standard deviation."
   ]
  },
  {
   "cell_type": "code",
   "execution_count": 9,
   "metadata": {},
   "outputs": [],
   "source": [
    "demand_sim = rg.normal(demand_mean, demand_sd, 1000)"
   ]
  },
  {
   "cell_type": "markdown",
   "metadata": {},
   "source": [
    "Obviously we are generating variates from a continuous distribution."
   ]
  },
  {
   "cell_type": "code",
   "execution_count": 10,
   "metadata": {},
   "outputs": [
    {
     "data": {
      "text/plain": [
       "array([217.03616307, 133.37168121, 231.54405167, 215.05711803,\n",
       "       183.66669223, 268.28497816, 255.99191635, 188.58125604,\n",
       "       164.62174798, 170.1384389 ])"
      ]
     },
     "execution_count": 10,
     "metadata": {},
     "output_type": "execute_result"
    }
   ],
   "source": [
    "demand_sim[:10]"
   ]
  },
  {
   "cell_type": "markdown",
   "metadata": {},
   "source": [
    "If we want integer valued demands, we can simply round the values."
   ]
  },
  {
   "cell_type": "code",
   "execution_count": 11,
   "metadata": {},
   "outputs": [
    {
     "data": {
      "text/plain": [
       "array([218., 203., 186., 203., 215., 151., 255., 176., 223., 252.])"
      ]
     },
     "execution_count": 11,
     "metadata": {},
     "output_type": "execute_result"
    }
   ],
   "source": [
    "demand_sim = np.around(rg.normal(demand_mean, demand_sd, 1000))\n",
    "demand_sim[:10]"
   ]
  },
  {
   "cell_type": "markdown",
   "metadata": {},
   "source": [
    "Before plotting the histogram, let's compute basic summary stats for our vector of random demands."
   ]
  },
  {
   "cell_type": "code",
   "execution_count": 12,
   "metadata": {},
   "outputs": [
    {
     "name": "stdout",
     "output_type": "stream",
     "text": [
      "Mean demand = 192.056, Std dev demand = 40.170\n"
     ]
    }
   ],
   "source": [
    "print(f\"Mean demand = {demand_sim.mean():.3f}, Std dev demand = {demand_sim.std():.3f}\")"
   ]
  },
  {
   "cell_type": "markdown",
   "metadata": {},
   "source": [
    "Now use SciPy to create a normal random variable instance with the mean and standard deviation based on `demand_mean` and `demand_sd`. Note the data type. Then we'll be able to use its built in `pdf` method to plot its density and its `ppf` method to get percentiles to use for our x-axis limits."
   ]
  },
  {
   "cell_type": "code",
   "execution_count": 13,
   "metadata": {},
   "outputs": [],
   "source": [
    "from scipy.stats import norm"
   ]
  },
  {
   "cell_type": "code",
   "execution_count": 14,
   "metadata": {},
   "outputs": [
    {
     "name": "stdout",
     "output_type": "stream",
     "text": [
      "<class 'scipy.stats._distn_infrastructure.rv_frozen'>\n"
     ]
    }
   ],
   "source": [
    "rv_normal = norm(loc=demand_mean, scale=demand_sd)\n",
    "print(type(rv_normal))"
   ]
  },
  {
   "cell_type": "code",
   "execution_count": 15,
   "metadata": {},
   "outputs": [
    {
     "data": {
      "image/png": "[encoded data removed]",
      "text/plain": [
       "<Figure size 432x288 with 1 Axes>"
      ]
     },
     "metadata": {
      "needs_background": "light"
     },
     "output_type": "display_data"
    }
   ],
   "source": [
    "plt.title(\"Demand histogram\")\n",
    "plt.xlabel(\"Demand\")\n",
    "plt.ylabel(\"Density\")\n",
    "plt.hist(demand_sim, density=True);\n",
    "\n",
    "x_normal = np.linspace(rv_normal.ppf(0.0001),\n",
    "                rv_normal.ppf(0.999), 500)\n",
    "\n",
    "plt.plot(x_normal, rv_normal.pdf(x_normal),\n",
    "       'r-', lw=3, alpha=0.6, label='Normal pdf');"
   ]
  },
  {
   "cell_type": "markdown",
   "metadata": {},
   "source": [
    "### Running the simulation"
   ]
  },
  {
   "cell_type": "markdown",
   "metadata": {},
   "source": [
    "Now that we can generate random demands, we can simulate by simply passing in the vector of random demands to the `compute_profit` function - all the other model inputs are held fixed at their current values. Let's remind ourselves of these values."
   ]
  },
  {
   "cell_type": "code",
   "execution_count": 16,
   "metadata": {},
   "outputs": [
    {
     "name": "stdout",
     "output_type": "stream",
     "text": [
      "unit_cost: 7.5 \n",
      "selling_price: 10.0 \n",
      "unit_refund: 2.5 \n",
      "order_quantity: 200\n"
     ]
    }
   ],
   "source": [
    "message = f\"unit_cost: {unit_cost} \\n\" \\\n",
    "          f\"selling_price: {selling_price} \\n\" \\\n",
    "          f\"unit_refund: {unit_refund} \\n\" \\\n",
    "          f\"order_quantity: {order_quantity}\"\n",
    "\n",
    "print(message)"
   ]
  },
  {
   "cell_type": "markdown",
   "metadata": {},
   "source": [
    "We use a list comprehension to evaluate profit for each demand realization. This is exactly the same way we did the non-OO 1-way data table in the first part of this series. Let's wrap the resulting list with the pandas `Series` constructor so that we can use some of pandas built in analysis tools such as the `describe` method."
   ]
  },
  {
   "cell_type": "code",
   "execution_count": 17,
   "metadata": {},
   "outputs": [],
   "source": [
    "profit_sim = pd.Series([(bookstore_profit(unit_cost, selling_price, unit_refund, order_quantity, d)) \n",
    "               for d in demand_sim])"
   ]
  },
  {
   "cell_type": "markdown",
   "metadata": {},
   "source": [
    "### Analyzing the simulation results"
   ]
  },
  {
   "cell_type": "code",
   "execution_count": 18,
   "metadata": {},
   "outputs": [
    {
     "data": {
      "text/plain": [
       "count    1000.000000\n",
       "mean      347.832500\n",
       "std       190.630397\n",
       "min      -617.500000\n",
       "25%       243.125000\n",
       "50%       432.500000\n",
       "75%       500.000000\n",
       "max       500.000000\n",
       "dtype: float64"
      ]
     },
     "execution_count": 18,
     "metadata": {},
     "output_type": "execute_result"
    }
   ],
   "source": [
    "profit_sim.describe()"
   ]
  },
  {
   "cell_type": "markdown",
   "metadata": {},
   "source": [
    "The [Flaw of Averages](http://flawofaverages.com/) shows up here (compare mean of simulation output to the profit we got by replacing demand with mean demand). "
   ]
  },
  {
   "cell_type": "code",
   "execution_count": 19,
   "metadata": {},
   "outputs": [
    {
     "name": "stdout",
     "output_type": "stream",
     "text": [
      "Deterministic profit = 447.5\n",
      "Simulation profit = 347.8325\n"
     ]
    }
   ],
   "source": [
    "print(f\"Deterministic profit = {deterministic_profit}\")\n",
    "print(f\"Simulation profit = {profit_sim.describe()['mean']}\")"
   ]
  },
  {
   "cell_type": "markdown",
   "metadata": {},
   "source": [
    "By ignoring uncertainty, we were wildly optimistic as to what our mean profit would be. \n",
    "\n",
    "**QUESTION** Why do you think these numbers are so different?\n",
    "\n",
    "Let's look at the histogram of profit based on the simulation model to shed some light on this."
   ]
  },
  {
   "cell_type": "code",
   "execution_count": 20,
   "metadata": {},
   "outputs": [
    {
     "data": {
      "image/png": "[encoded data removed]",
      "text/plain": [
       "<Figure size 432x288 with 1 Axes>"
      ]
     },
     "metadata": {
      "needs_background": "light"
     },
     "output_type": "display_data"
    }
   ],
   "source": [
    "plt.title(\"Profit histogram\")\n",
    "plt.xlabel(\"Profit\")\n",
    "plt.ylabel(\"Num observations\")\n",
    "plt.ylim(0, 600)\n",
    "plt.hist(profit_sim, density=False);\n"
   ]
  },
  {
   "cell_type": "markdown",
   "metadata": {},
   "source": [
    "While `demand` was normally distributed, the resulting profit distribution is definitely **not** normally distributed. I'm sure you've figured out why this histogram has the shape it does and how this relates to the Flaw of Averages.\n",
    "\n",
    "The `scipy.stats` library can be used to answer typical questions about the distribution of profit."
   ]
  },
  {
   "cell_type": "code",
   "execution_count": 21,
   "metadata": {},
   "outputs": [],
   "source": [
    "from scipy import stats"
   ]
  },
  {
   "cell_type": "markdown",
   "metadata": {},
   "source": [
    "What's the chance we have a negative profit?"
   ]
  },
  {
   "cell_type": "code",
   "execution_count": 22,
   "metadata": {},
   "outputs": [
    {
     "name": "stdout",
     "output_type": "stream",
     "text": [
      "0.063\n"
     ]
    }
   ],
   "source": [
    "print(stats.percentileofscore(profit_sim, 0) / 100.0)"
   ]
  },
  {
   "cell_type": "code",
   "execution_count": 23,
   "metadata": {},
   "outputs": [
    {
     "name": "stdout",
     "output_type": "stream",
     "text": [
      "0.1895\n"
     ]
    }
   ],
   "source": [
    "# Probability profit is between -200, 200\n",
    "print((stats.percentileofscore(profit_sim, 200) - stats.percentileofscore(profit_sim, -200)) / 100.0)"
   ]
  },
  {
   "cell_type": "markdown",
   "metadata": {},
   "source": [
    "We can create an empirical cumulative distribution function for `profit_sim` and then use it to customize plots."
   ]
  },
  {
   "cell_type": "code",
   "execution_count": 24,
   "metadata": {},
   "outputs": [],
   "source": [
    "profit_cdf = stats.cumfreq(profit_sim)"
   ]
  },
  {
   "cell_type": "code",
   "execution_count": 25,
   "metadata": {},
   "outputs": [],
   "source": [
    "x = profit_cdf.lowerlimit + np.linspace(0, profit_cdf.binsize * profit_cdf.cumcount.size,\n",
    "                                 profit_cdf.cumcount.size)"
   ]
  },
  {
   "cell_type": "code",
   "execution_count": 26,
   "metadata": {},
   "outputs": [
    {
     "data": {
      "text/plain": [
       "(-679.5833333333334, 562.0833333333329)"
      ]
     },
     "execution_count": 26,
     "metadata": {},
     "output_type": "execute_result"
    },
    {
     "data": {
      "image/png": "[encoded data removed]",
      "text/plain": [
       "<Figure size 720x288 with 2 Axes>"
      ]
     },
     "metadata": {
      "needs_background": "light"
     },
     "output_type": "display_data"
    }
   ],
   "source": [
    "fig = plt.figure(figsize=(10, 4))\n",
    "ax1 = fig.add_subplot(1, 2, 1)\n",
    "ax2 = fig.add_subplot(1, 2, 2)\n",
    "ax1.hist(profit_sim, bins=25)\n",
    "ax1.set_title('Histogram of simulated profit')\n",
    "ax1.set_xlabel('Profit')\n",
    "ax2.bar(x, profit_cdf.cumcount, width=profit_cdf.binsize)\n",
    "ax2.set_title('Cumulative histogram of simulated profit')\n",
    "ax2.set_xlabel('Profit')\n",
    "ax2.set_xlim([x.min(), x.max()])"
   ]
  },
  {
   "cell_type": "markdown",
   "metadata": {},
   "source": [
    "### Multiple Uncertain Inputs\n",
    "\n",
    "Again, note how we used a list comprehension to evaluate profit for each demand realization. If we have multiple random inputs we **cannot** use multiple `for` statements as we don't want the cross product of the random number vectors. Instead we'd need to `zip` them up into tuples. Here's a simple example of tuple zipping."
   ]
  },
  {
   "cell_type": "code",
   "execution_count": 27,
   "metadata": {},
   "outputs": [
    {
     "name": "stdout",
     "output_type": "stream",
     "text": [
      "(1, 10)\n",
      "(2, 20)\n",
      "(3, 30)\n"
     ]
    }
   ],
   "source": [
    "alpha = [1, 2, 3]\n",
    "beta = [10, 20, 30]\n",
    "\n",
    "for t in zip(alpha, beta):\n",
    "    print(t)"
   ]
  },
  {
   "cell_type": "markdown",
   "metadata": {},
   "source": [
    "Assume we have some uncertainty around both the `unit_cost` and `unit_refund` values. Let's model our uncertainty with uniform distributions:\n",
    "\n",
    "* `unit_cost` $\\sim U(7.00, 8.00)$\n",
    "* `unit_refund` $\\sim U(2.00, 3.00)$"
   ]
  },
  {
   "cell_type": "code",
   "execution_count": 28,
   "metadata": {},
   "outputs": [],
   "source": [
    "unit_cost_sim = rg.uniform(7.0, 8.0, 1000)\n",
    "unit_refund_sim = rg.uniform(2.0, 3.0, 1000)\n",
    "\n",
    "rv_uniform = stats.uniform(loc=7.0, scale=1.0)"
   ]
  },
  {
   "cell_type": "code",
   "execution_count": 29,
   "metadata": {},
   "outputs": [
    {
     "data": {
      "image/png": "[encoded data removed]",
      "text/plain": [
       "<Figure size 432x288 with 1 Axes>"
      ]
     },
     "metadata": {
      "needs_background": "light"
     },
     "output_type": "display_data"
    }
   ],
   "source": [
    "plt.title(\"Unit Cost histogram\")\n",
    "plt.xlabel(\"Unit Cost\")\n",
    "plt.ylabel(\"Density\")\n",
    "plt.hist(unit_cost_sim, density=True);\n",
    "\n",
    "x_uniform = np.linspace(7.0, 8.0, 100)\n",
    "\n",
    "plt.plot(x_uniform, rv_uniform.pdf(x_uniform),\n",
    "       'r-', lw=3, alpha=0.6, label='Uniform pdf');"
   ]
  },
  {
   "cell_type": "markdown",
   "metadata": {},
   "source": [
    "Let's zip the three random vectors into tuples."
   ]
  },
  {
   "cell_type": "code",
   "execution_count": 30,
   "metadata": {},
   "outputs": [],
   "source": [
    "random_inputs = zip(demand_sim, unit_cost_sim, unit_refund_sim)"
   ]
  },
  {
   "cell_type": "code",
   "execution_count": 31,
   "metadata": {},
   "outputs": [],
   "source": [
    "profit_sim_2 = pd.Series([(bookstore_profit(uc, selling_price, uf, order_quantity, d)) \n",
    "               for (d, uc, uf) in random_inputs])"
   ]
  },
  {
   "cell_type": "code",
   "execution_count": 32,
   "metadata": {},
   "outputs": [
    {
     "data": {
      "image/png": "[encoded data removed]",
      "text/plain": [
       "<Figure size 432x288 with 1 Axes>"
      ]
     },
     "metadata": {
      "needs_background": "light"
     },
     "output_type": "display_data"
    }
   ],
   "source": [
    "plt.title(\"Profit histogram for three uncertain inputs\")\n",
    "plt.xlabel(\"Profit\")\n",
    "plt.ylabel(\"Num observations\")\n",
    "plt.ylim(0, 600)\n",
    "plt.hist(profit_sim_2, density=False);"
   ]
  },
  {
   "cell_type": "markdown",
   "metadata": {},
   "source": [
    "The additional uncertainty has made the distribution somewhat less extreme in the right tail (it's still highly skewed)."
   ]
  },
  {
   "cell_type": "markdown",
   "metadata": {},
   "source": [
    "### Multiple scenarios: profit vs order quantity\n",
    "In addition to random inputs, we often have other inputs we want to vary over a defined range - i.e. scenarios. Just as we did Part 1 of this series with data tables, we can use a list comprehension to iterate over the scenarios."
   ]
  },
  {
   "cell_type": "code",
   "execution_count": 33,
   "metadata": {},
   "outputs": [
    {
     "data": {
      "image/png": "[encoded data removed]",
      "text/plain": [
       "<Figure size 648x864 with 12 Axes>"
      ]
     },
     "metadata": {
      "needs_background": "light"
     },
     "output_type": "display_data"
    }
   ],
   "source": [
    "# Create array of order quantities (the scenarios) \n",
    "order_quantity_range = np.arange(100, 400, 25)\n",
    "\n",
    "# Create simulation data table \n",
    "sim_table_1 = [(oq, bookstore_profit(unit_cost, selling_price, unit_refund, oq, d)) \n",
    "                    for oq in order_quantity_range for d in demand_sim]\n",
    "\n",
    "# Convert to dataframe\n",
    "stbl_1_df = pd.DataFrame(sim_table_1, columns=['OrderQuantity', 'Profit'])\n",
    "\n",
    "# Plot the results\n",
    "profit_histo_g = sns.FacetGrid(stbl_1_df, col=\"OrderQuantity\", sharey=True, col_wrap=3)\n",
    "profit_histo_g = profit_histo_g.map(plt.hist, \"Profit\")"
   ]
  },
  {
   "cell_type": "markdown",
   "metadata": {},
   "source": [
    "Another way to compare the profit distributions across order quantities is to use boxplots."
   ]
  },
  {
   "cell_type": "code",
   "execution_count": 34,
   "metadata": {},
   "outputs": [
    {
     "data": {
      "image/png": "[encoded data removed]",
      "text/plain": [
       "<Figure size 432x288 with 1 Axes>"
      ]
     },
     "metadata": {
      "needs_background": "light"
     },
     "output_type": "display_data"
    }
   ],
   "source": [
    "profit_box_g = sns.boxplot(x=\"OrderQuantity\", y=\"Profit\", data=stbl_1_df)"
   ]
  },
  {
   "cell_type": "markdown",
   "metadata": {},
   "source": [
    "## Repeat simulation using OO approach\n",
    "Just as we leveraged our non-OO data table approach for simulation, let's do the same for the OO version. We should be able to use scikit-learn's `ParameterGrid` function for optional scenario generation (think RiskSimTable if you've used @Risk). We don't want to use `ParameterGrid` for the random inputs as we don't want all combinations of them - we just want to evaluate one replication per row. We'll use the same random vectors that we created above. The basic initial design of our `simulate` function will be based on the following:\n",
    "\n",
    "* The first argument will be a model object (i.e. something like the `BookstoreModel` model) that contains an `update` method. Soon, we should add an abstract `Model` class from which specific models such as the `BookstoreModel` class can be created. The abstract class will contain the `update` method.\n",
    "* The random inputs will be passed in as a dictionary whose keys are the input variables being modeled as random and who values are an iterable representing the draws from some probability distribution. Structurally, this is similar to how inputs are specified in the `data_table` function.\n",
    "* We can optionally pass in a dictionary of scenario inputs. This is exactly like the `data_table` variable input.\n",
    "     - If no scenario input dictionary is passed in, a single simulation scenario is run using the current input values in the model object,\n",
    "     - If a scenario input dictionary is passed in, then a simulation scenario is run for every combination of parameters in the dictionary. Again, this is just like we do in the `data_table` function.\n",
    "* The output will be a set of dictionaries containing dataframes of simulation output as well standard summary stats and plots.\n",
    "\n",
    "In Parts 1 and 2 of this series we created the `BookstoreModel` class as well as `data_table` and `goal_seek` functions. Instead of repeating those definitions here, I've moved their code into **whatif.py** and we can just import it. "
   ]
  },
  {
   "cell_type": "code",
   "execution_count": 35,
   "metadata": {},
   "outputs": [],
   "source": [
    "from whatif import BookstoreModel"
   ]
  },
  {
   "cell_type": "markdown",
   "metadata": {},
   "source": [
    "Let's reset our base input values and then create a new `BookstoreModel` object with these property values."
   ]
  },
  {
   "cell_type": "code",
   "execution_count": 36,
   "metadata": {},
   "outputs": [],
   "source": [
    "unit_cost = 7.50\n",
    "selling_price = 10.00\n",
    "unit_refund = 2.50\n",
    "\n",
    "order_quantity = 200\n",
    "\n",
    "demand_mean = 193\n",
    "demand_sd = 40\n",
    "\n",
    "demand = demand_mean"
   ]
  },
  {
   "cell_type": "code",
   "execution_count": 37,
   "metadata": {},
   "outputs": [],
   "source": [
    "model2 = BookstoreModel(unit_cost=unit_cost, \n",
    "                        selling_price=selling_price,\n",
    "                        unit_refund=unit_refund,\n",
    "                        order_quantity=order_quantity,\n",
    "                        demand=demand)"
   ]
  },
  {
   "cell_type": "markdown",
   "metadata": {},
   "source": [
    "Again, we will model three of our inputs, `demand`, `unit_cost`, and `unit_refund` as random variables. All three were creatd earlier in the notebook, but here they are again. Let's just do 100 scenarios to reduce the number of output rows for viewing."
   ]
  },
  {
   "cell_type": "code",
   "execution_count": 38,
   "metadata": {},
   "outputs": [],
   "source": [
    "num_reps = 100\n",
    "demand_sim = rg.normal(demand_mean, demand_sd, num_reps)\n",
    "unit_cost_sim = rg.uniform(7.0, 8.0, num_reps)\n",
    "unit_refund_sim = rg.uniform(2.0, 3.0, num_reps)\n",
    "\n",
    "random_inputs = {'demand': demand_sim,\n",
    "                'unit_cost': unit_cost_sim,\n",
    "                'unit_refund': unit_refund_sim}"
   ]
  },
  {
   "cell_type": "markdown",
   "metadata": {},
   "source": [
    "It's also perfectly fine to not pre-generate the random variates. If we decide to specify the inputs in this way (next cell), then our `simulate` function should include a boolean input that specifies whether the raw simulated input values should be saved and returned as part of its output."
   ]
  },
  {
   "cell_type": "code",
   "execution_count": 39,
   "metadata": {},
   "outputs": [],
   "source": [
    "random_inputs = {'demand': rg.normal(demand_mean, demand_sd, num_reps),\n",
    "                'unit_cost': rg.uniform(7.0, 8.0, num_reps),\n",
    "                'unit_refund': rg.uniform(2.0, 3.0, num_reps)}"
   ]
  },
  {
   "cell_type": "markdown",
   "metadata": {},
   "source": [
    "For the scenario inputs, we'll use the range of order quantity values used in the `data_table` examples."
   ]
  },
  {
   "cell_type": "code",
   "execution_count": 40,
   "metadata": {},
   "outputs": [
    {
     "data": {
      "text/plain": [
       "[{'order_quantity': 70},\n",
       " {'order_quantity': 120},\n",
       " {'order_quantity': 170},\n",
       " {'order_quantity': 220},\n",
       " {'order_quantity': 270},\n",
       " {'order_quantity': 320}]"
      ]
     },
     "execution_count": 40,
     "metadata": {},
     "output_type": "execute_result"
    }
   ],
   "source": [
    "scenario_inputs = {'order_quantity': np.arange(70, 321, 50)}\n",
    "list(ParameterGrid(scenario_inputs))"
   ]
  },
  {
   "cell_type": "markdown",
   "metadata": {},
   "source": [
    "We'll stick with `profit` as the only output variable for now."
   ]
  },
  {
   "cell_type": "code",
   "execution_count": 41,
   "metadata": {},
   "outputs": [],
   "source": [
    "sim_outputs = ['profit']"
   ]
  },
  {
   "cell_type": "markdown",
   "metadata": {},
   "source": [
    "Here's my first version of a `simulate` function."
   ]
  },
  {
   "cell_type": "code",
   "execution_count": 42,
   "metadata": {},
   "outputs": [],
   "source": [
    "def simulate(model, random_inputs, outputs, scenario_inputs=None, keep_random_inputs=False):\n",
    "    '''Simulate model for one or more scenarios\n",
    "\n",
    "    Parameters\n",
    "    ----------\n",
    "    model : object\n",
    "        User defined object containing the appropriate methods and properties for computing outputs from inputs\n",
    "    random_intputs : dict of str to sequence of random variates\n",
    "        Keys are stochastic input variable names and values are sequence of $n$ random variates, where $n$ is the number of simulation replications\n",
    "    outputs : list of str\n",
    "        List of output variable names\n",
    "    scenario_inputs : optional (default is None), dict of str to sequence\n",
    "        Keys are deterministic input variable names and values are sequence of values for each scenario for this variable. Is consumed by\n",
    "        scikit-learn ParameterGrid() function. See https://scikit-learn.org/stable/modules/generated/sklearn.model_selection.ParameterGrid.html\n",
    "    keep_random_inputs : optional (default is False), boolean\n",
    "        If True, all the random input variates are included in the results dataframe\n",
    "\n",
    "    Returns\n",
    "    -------\n",
    "    results_df : pandas DataFrame\n",
    "        Values of all outputs for each simulation replication. If `scenario_inputs` is not None, then this is also for every combination of scenario inputs\n",
    "    '''\n",
    "    \n",
    "    # Clone the model\n",
    "    model_clone = copy.deepcopy(model)\n",
    "    \n",
    "    # Update clone with random_inputs\n",
    "    model_clone.update(random_inputs)\n",
    "    \n",
    "    # Store raw simulation input values if desired\n",
    "    if keep_random_inputs:\n",
    "        scenario_base_vals = vars(model_clone)\n",
    "    else:\n",
    "        scenario_base_vals = vars(model)\n",
    "    \n",
    "    # Initialize output counters and containers\n",
    "    scenario_num = 0\n",
    "    scenario_results = []\n",
    "    \n",
    "    # Check if multiple scenarios\n",
    "    if scenario_inputs is not None:\n",
    "        # Create parameter grid for scenario inputs\n",
    "        sim_param_grid = list(ParameterGrid(scenario_inputs))\n",
    "        \n",
    "        # Scenario loop\n",
    "        for params in sim_param_grid:\n",
    "            model_clone.update(params)\n",
    "            # Initialize scenario related outputs\n",
    "            result = {}\n",
    "            scenario_vals = copy.copy(params)\n",
    "            result['scenario_base_vals'] = scenario_base_vals\n",
    "            result['scenario_num'] = scenario_num\n",
    "            result['scenario_vals'] = scenario_vals\n",
    "            raw_output = {}\n",
    "            \n",
    "            # Output measure loop\n",
    "            for output_name in outputs:\n",
    "                output_array = getattr(model_clone, output_name)()\n",
    "                raw_output[output_name] = output_array\n",
    "            \n",
    "            # Gather results for this scenario\n",
    "            result['output'] = raw_output\n",
    "            scenario_results.append(result)\n",
    "            scenario_num += 1\n",
    "                \n",
    "        return scenario_results\n",
    "\n",
    "    else:\n",
    "        # Similar logic to above, but only a single scenario\n",
    "        results = []\n",
    "        result = {}\n",
    "\n",
    "        result['scenario_base_vals'] = scenario_base_vals\n",
    "        result['scenario_num'] = scenario_num\n",
    "        result['scenario_vals'] = {}\n",
    "        \n",
    "        raw_output = {}\n",
    "        for output_name in outputs:\n",
    "            output_array = getattr(model_clone, output_name)()\n",
    "            raw_output[output_name] = output_array\n",
    "            \n",
    "        result['output'] = raw_output  \n",
    "        results.append(result)\n",
    "\n",
    "        return results"
   ]
  },
  {
   "cell_type": "markdown",
   "metadata": {},
   "source": [
    "Let's run the simulation."
   ]
  },
  {
   "cell_type": "code",
   "execution_count": 43,
   "metadata": {},
   "outputs": [],
   "source": [
    "model2_results = simulate(model2, random_inputs, sim_outputs, scenario_inputs)"
   ]
  },
  {
   "cell_type": "markdown",
   "metadata": {},
   "source": [
    "The output (for now) is a list of dictionaries. Each dictionary corresponds to one scenario (in this case, one value of `order_quantity`. Let's pluck out one scenario near the middle of the order quantity values and explore the outputs."
   ]
  },
  {
   "cell_type": "code",
   "execution_count": 44,
   "metadata": {},
   "outputs": [
    {
     "data": {
      "text/plain": [
       "dict_keys(['scenario_base_vals', 'scenario_num', 'scenario_vals', 'output'])"
      ]
     },
     "execution_count": 44,
     "metadata": {},
     "output_type": "execute_result"
    }
   ],
   "source": [
    "which_scenario = 4\n",
    "\n",
    "# What are the keys in the output dictionaries\n",
    "model2_results[which_scenario].keys()"
   ]
  },
  {
   "cell_type": "code",
   "execution_count": 45,
   "metadata": {},
   "outputs": [
    {
     "data": {
      "text/plain": [
       "{'order_quantity': 270}"
      ]
     },
     "execution_count": 45,
     "metadata": {},
     "output_type": "execute_result"
    }
   ],
   "source": [
    "model2_results[which_scenario]['scenario_vals']"
   ]
  },
  {
   "cell_type": "code",
   "execution_count": 46,
   "metadata": {},
   "outputs": [
    {
     "name": "stdout",
     "output_type": "stream",
     "text": [
      "0 {'order_quantity': 70} 176.0191921065434\n",
      "1 {'order_quantity': 120} 299.6121899248544\n",
      "2 {'order_quantity': 170} 381.3838755407154\n",
      "3 {'order_quantity': 220} 287.56197705166164\n",
      "4 {'order_quantity': 270} 17.00942728215051\n",
      "5 {'order_quantity': 320} -306.2002083301332\n"
     ]
    }
   ],
   "source": [
    "for scenario in model2_results:\n",
    "    print(scenario['scenario_num'], scenario['scenario_vals'], scenario['output']['profit'].mean())"
   ]
  },
  {
   "cell_type": "markdown",
   "metadata": {},
   "source": [
    "Let's take a look at an entry from one of the scenario dictionaries."
   ]
  },
  {
   "cell_type": "code",
   "execution_count": 47,
   "metadata": {},
   "outputs": [
    {
     "data": {
      "text/plain": [
       "{'scenario_base_vals': {'unit_cost': 7.5,\n",
       "  'selling_price': 10.0,\n",
       "  'unit_refund': 2.5,\n",
       "  'order_quantity': 200,\n",
       "  'demand': 193},\n",
       " 'scenario_num': 4,\n",
       " 'scenario_vals': {'order_quantity': 270},\n",
       " 'output': {'profit': array([  94.07848039,   10.29745358,  235.96489009, -436.72652984,\n",
       "         -226.9675955 ,  601.45820208,  293.64935644, -425.72328478,\n",
       "         -390.00020874,  -15.59715502,  306.2150294 , -329.35451825,\n",
       "          661.32783105,  -36.51672742,  230.13464279, -323.27742095,\n",
       "          505.40223752,  337.80405457, -119.90157877,  132.33787233,\n",
       "         -901.24678476,  390.99625756, -255.71597319,  461.87713384,\n",
       "         -313.95088686,  210.3540985 ,  366.73915719,  243.41026106,\n",
       "          646.59828596, -137.23342344, -171.73200896,  181.77906894,\n",
       "          142.5739788 ,  114.81682308,   28.4746822 ,   45.60270247,\n",
       "         -438.76329113, -212.90798302,  -34.84212884,  -29.78550324,\n",
       "          265.03280914,  220.44086959, -224.92077887, -559.73996413,\n",
       "          684.40416776,  519.65848137,  483.70855004, -502.66943395,\n",
       "         -157.95695122,  581.86172322,   21.63677824,   34.13716094,\n",
       "         -189.3820352 ,  -21.7908457 ,   64.30107072, -754.19756385,\n",
       "          142.77595237,  395.56677694, -350.41850917, -426.46940612,\n",
       "          118.88087006,  214.55339188,  -92.55406086,  121.01250136,\n",
       "          -82.47241949, -254.37175642, -292.10614549,  369.40002614,\n",
       "          258.36381197,   70.47743792,  191.73247923, -142.21122732,\n",
       "         -362.21145521,  438.48568471,  507.46163446,  133.84719243,\n",
       "         -232.25685544,  388.80888517,  228.887753  , -309.37641263,\n",
       "          177.4884349 ,  180.43407225, -359.01194377,  482.4031242 ,\n",
       "         -242.64898564,  580.1099699 , -236.14094472, -421.32776301,\n",
       "         -252.41477677,  762.57930743, -293.51728502, -559.60535181,\n",
       "         -251.50967301,  -38.58166773, -370.77754468, -383.69639033,\n",
       "           42.64023432,  195.50770653, -309.42618891,   56.45870938])}}"
      ]
     },
     "execution_count": 47,
     "metadata": {},
     "output_type": "execute_result"
    }
   ],
   "source": [
    "model2_results[which_scenario]"
   ]
  },
  {
   "cell_type": "markdown",
   "metadata": {},
   "source": [
    "Let's write a gather results function to turn results object into analysis ready DataFrame."
   ]
  },
  {
   "cell_type": "code",
   "execution_count": 48,
   "metadata": {},
   "outputs": [],
   "source": [
    "def get_sim_results_df(results):\n",
    "    \n",
    "    dfs = []    \n",
    "    for r in results:\n",
    "        df = pd.DataFrame(r['output'])\n",
    "        df['scenario_num'] = r['scenario_num']\n",
    "        for key, val in r['scenario_vals'].items():\n",
    "            df[key] = val\n",
    "            \n",
    "        dfs.append(df)\n",
    "\n",
    "    results_df = pd.concat(dfs)\n",
    "    \n",
    "    return results_df"
   ]
  },
  {
   "cell_type": "code",
   "execution_count": 49,
   "metadata": {},
   "outputs": [],
   "source": [
    "model2_results_df = get_sim_results_df(model2_results)"
   ]
  },
  {
   "cell_type": "code",
   "execution_count": 50,
   "metadata": {},
   "outputs": [
    {
     "data": {
      "text/html": [
       "<div>\n",
       "<style scoped>\n",
       "    .dataframe tbody tr th:only-of-type {\n",
       "        vertical-align: middle;\n",
       "    }\n",
       "\n",
       "    .dataframe tbody tr th {\n",
       "        vertical-align: top;\n",
       "    }\n",
       "\n",
       "    .dataframe thead th {\n",
       "        text-align: right;\n",
       "    }\n",
       "</style>\n",
       "<table border=\"1\" class=\"dataframe\">\n",
       "  <thead>\n",
       "    <tr style=\"text-align: right;\">\n",
       "      <th></th>\n",
       "      <th>profit</th>\n",
       "      <th>scenario_num</th>\n",
       "      <th>order_quantity</th>\n",
       "    </tr>\n",
       "  </thead>\n",
       "  <tbody>\n",
       "    <tr>\n",
       "      <th>0</th>\n",
       "      <td>170.275117</td>\n",
       "      <td>0</td>\n",
       "      <td>70</td>\n",
       "    </tr>\n",
       "    <tr>\n",
       "      <th>1</th>\n",
       "      <td>164.192202</td>\n",
       "      <td>0</td>\n",
       "      <td>70</td>\n",
       "    </tr>\n",
       "    <tr>\n",
       "      <th>2</th>\n",
       "      <td>167.876925</td>\n",
       "      <td>0</td>\n",
       "      <td>70</td>\n",
       "    </tr>\n",
       "    <tr>\n",
       "      <th>3</th>\n",
       "      <td>160.018106</td>\n",
       "      <td>0</td>\n",
       "      <td>70</td>\n",
       "    </tr>\n",
       "    <tr>\n",
       "      <th>4</th>\n",
       "      <td>181.568184</td>\n",
       "      <td>0</td>\n",
       "      <td>70</td>\n",
       "    </tr>\n",
       "    <tr>\n",
       "      <th>...</th>\n",
       "      <td>...</td>\n",
       "      <td>...</td>\n",
       "      <td>...</td>\n",
       "    </tr>\n",
       "    <tr>\n",
       "      <th>95</th>\n",
       "      <td>-732.460739</td>\n",
       "      <td>5</td>\n",
       "      <td>320</td>\n",
       "    </tr>\n",
       "    <tr>\n",
       "      <th>96</th>\n",
       "      <td>-306.229201</td>\n",
       "      <td>5</td>\n",
       "      <td>320</td>\n",
       "    </tr>\n",
       "    <tr>\n",
       "      <th>97</th>\n",
       "      <td>-106.301086</td>\n",
       "      <td>5</td>\n",
       "      <td>320</td>\n",
       "    </tr>\n",
       "    <tr>\n",
       "      <th>98</th>\n",
       "      <td>-644.780031</td>\n",
       "      <td>5</td>\n",
       "      <td>320</td>\n",
       "    </tr>\n",
       "    <tr>\n",
       "      <th>99</th>\n",
       "      <td>-246.836081</td>\n",
       "      <td>5</td>\n",
       "      <td>320</td>\n",
       "    </tr>\n",
       "  </tbody>\n",
       "</table>\n",
       "<p>600 rows × 3 columns</p>\n",
       "</div>"
      ],
      "text/plain": [
       "        profit  scenario_num  order_quantity\n",
       "0   170.275117             0              70\n",
       "1   164.192202             0              70\n",
       "2   167.876925             0              70\n",
       "3   160.018106             0              70\n",
       "4   181.568184             0              70\n",
       "..         ...           ...             ...\n",
       "95 -732.460739             5             320\n",
       "96 -306.229201             5             320\n",
       "97 -106.301086             5             320\n",
       "98 -644.780031             5             320\n",
       "99 -246.836081             5             320\n",
       "\n",
       "[600 rows x 3 columns]"
      ]
     },
     "execution_count": 50,
     "metadata": {},
     "output_type": "execute_result"
    }
   ],
   "source": [
    "model2_results_df"
   ]
  },
  {
   "cell_type": "markdown",
   "metadata": {},
   "source": [
    "Now it's easy to do plots like the following:"
   ]
  },
  {
   "cell_type": "code",
   "execution_count": 51,
   "metadata": {},
   "outputs": [
    {
     "data": {
      "image/png": "[encoded data removed]",
      "text/plain": [
       "<Figure size 432x288 with 1 Axes>"
      ]
     },
     "metadata": {
      "needs_background": "light"
     },
     "output_type": "display_data"
    }
   ],
   "source": [
    "sns.boxplot(x=\"order_quantity\", y=\"profit\", data=model2_results_df);"
   ]
  },
  {
   "cell_type": "markdown",
   "metadata": {},
   "source": [
    "... or this:"
   ]
  },
  {
   "cell_type": "code",
   "execution_count": 52,
   "metadata": {},
   "outputs": [
    {
     "data": {
      "image/png": "[encoded data removed]",
      "text/plain": [
       "<Figure size 648x432 with 6 Axes>"
      ]
     },
     "metadata": {
      "needs_background": "light"
     },
     "output_type": "display_data"
    }
   ],
   "source": [
    "profit_histo_g2 = sns.FacetGrid(model2_results_df, col='order_quantity', sharey=True, col_wrap=3)\n",
    "profit_histo_g2 = profit_histo_g2.map(plt.hist, \"profit\")"
   ]
  },
  {
   "cell_type": "markdown",
   "metadata": {},
   "source": [
    "... and statistical summaries like this:"
   ]
  },
  {
   "cell_type": "code",
   "execution_count": 53,
   "metadata": {},
   "outputs": [
    {
     "data": {
      "text/html": [
       "<div>\n",
       "<style scoped>\n",
       "    .dataframe tbody tr th:only-of-type {\n",
       "        vertical-align: middle;\n",
       "    }\n",
       "\n",
       "    .dataframe tbody tr th {\n",
       "        vertical-align: top;\n",
       "    }\n",
       "\n",
       "    .dataframe thead th {\n",
       "        text-align: right;\n",
       "    }\n",
       "</style>\n",
       "<table border=\"1\" class=\"dataframe\">\n",
       "  <thead>\n",
       "    <tr style=\"text-align: right;\">\n",
       "      <th></th>\n",
       "      <th>count</th>\n",
       "      <th>mean</th>\n",
       "      <th>std</th>\n",
       "      <th>min</th>\n",
       "      <th>25%</th>\n",
       "      <th>50%</th>\n",
       "      <th>75%</th>\n",
       "      <th>max</th>\n",
       "    </tr>\n",
       "    <tr>\n",
       "      <th>scenario_num</th>\n",
       "      <th></th>\n",
       "      <th></th>\n",
       "      <th></th>\n",
       "      <th></th>\n",
       "      <th></th>\n",
       "      <th></th>\n",
       "      <th></th>\n",
       "      <th></th>\n",
       "    </tr>\n",
       "  </thead>\n",
       "  <tbody>\n",
       "    <tr>\n",
       "      <th>0</th>\n",
       "      <td>100.0</td>\n",
       "      <td>176.019192</td>\n",
       "      <td>19.141648</td>\n",
       "      <td>141.097517</td>\n",
       "      <td>162.634144</td>\n",
       "      <td>174.243792</td>\n",
       "      <td>191.941489</td>\n",
       "      <td>209.399164</td>\n",
       "    </tr>\n",
       "    <tr>\n",
       "      <th>1</th>\n",
       "      <td>100.0</td>\n",
       "      <td>299.612190</td>\n",
       "      <td>38.534079</td>\n",
       "      <td>106.971360</td>\n",
       "      <td>278.066820</td>\n",
       "      <td>298.703644</td>\n",
       "      <td>329.042553</td>\n",
       "      <td>358.969995</td>\n",
       "    </tr>\n",
       "    <tr>\n",
       "      <th>2</th>\n",
       "      <td>100.0</td>\n",
       "      <td>381.383876</td>\n",
       "      <td>115.621643</td>\n",
       "      <td>-229.101355</td>\n",
       "      <td>357.531065</td>\n",
       "      <td>406.647547</td>\n",
       "      <td>456.672025</td>\n",
       "      <td>506.665625</td>\n",
       "    </tr>\n",
       "    <tr>\n",
       "      <th>3</th>\n",
       "      <td>100.0</td>\n",
       "      <td>287.561977</td>\n",
       "      <td>272.662324</td>\n",
       "      <td>-565.174070</td>\n",
       "      <td>69.842998</td>\n",
       "      <td>358.567460</td>\n",
       "      <td>526.428417</td>\n",
       "      <td>654.114823</td>\n",
       "    </tr>\n",
       "    <tr>\n",
       "      <th>4</th>\n",
       "      <td>100.0</td>\n",
       "      <td>17.009427</td>\n",
       "      <td>345.595096</td>\n",
       "      <td>-901.246785</td>\n",
       "      <td>-252.904022</td>\n",
       "      <td>31.305922</td>\n",
       "      <td>237.826233</td>\n",
       "      <td>762.579307</td>\n",
       "    </tr>\n",
       "    <tr>\n",
       "      <th>5</th>\n",
       "      <td>100.0</td>\n",
       "      <td>-306.200208</td>\n",
       "      <td>351.137452</td>\n",
       "      <td>-1237.319500</td>\n",
       "      <td>-585.551638</td>\n",
       "      <td>-302.533435</td>\n",
       "      <td>-71.989753</td>\n",
       "      <td>465.705377</td>\n",
       "    </tr>\n",
       "  </tbody>\n",
       "</table>\n",
       "</div>"
      ],
      "text/plain": [
       "              count        mean         std          min         25%  \\\n",
       "scenario_num                                                           \n",
       "0             100.0  176.019192   19.141648   141.097517  162.634144   \n",
       "1             100.0  299.612190   38.534079   106.971360  278.066820   \n",
       "2             100.0  381.383876  115.621643  -229.101355  357.531065   \n",
       "3             100.0  287.561977  272.662324  -565.174070   69.842998   \n",
       "4             100.0   17.009427  345.595096  -901.246785 -252.904022   \n",
       "5             100.0 -306.200208  351.137452 -1237.319500 -585.551638   \n",
       "\n",
       "                     50%         75%         max  \n",
       "scenario_num                                      \n",
       "0             174.243792  191.941489  209.399164  \n",
       "1             298.703644  329.042553  358.969995  \n",
       "2             406.647547  456.672025  506.665625  \n",
       "3             358.567460  526.428417  654.114823  \n",
       "4              31.305922  237.826233  762.579307  \n",
       "5            -302.533435  -71.989753  465.705377  "
      ]
     },
     "execution_count": 53,
     "metadata": {},
     "output_type": "execute_result"
    }
   ],
   "source": [
    "model2_results_df.groupby(['scenario_num'])['profit'].describe()"
   ]
  },
  {
   "cell_type": "markdown",
   "metadata": {},
   "source": [
    "Lot's more to do, but let's stop here for this post. The basic design seems ok and we can build on this in future installments."
   ]
  },
  {
   "cell_type": "markdown",
   "metadata": {},
   "source": [
    "## Wrap up and next steps\n",
    "We have added a basic `simulate` function to our `data_table` and `goal_seek` functions. Python is proving to be quite nice for doing Excel-style \"what if?\" analysis. \n",
    "\n",
    "In Part 4 of this series, we'll make some improvements and do some clean-up on our classes and functions. We'll move everything into a single **whatif.py** module and learn how to create a Python package to make it easy to use and share our new functions. We'll try out our package on a new model and sketch out some ideas for future enhancements to the package. It's important we also start creating some basic documentation and a user guide."
   ]
  },
  {
   "cell_type": "code",
   "execution_count": null,
   "metadata": {},
   "outputs": [],
   "source": []
  }
 ],
 "metadata": {
  "kernelspec": {
   "display_name": "Python 3 (ipykernel)",
   "language": "python",
   "name": "python3"
  },
  "language_info": {
   "codemirror_mode": {
    "name": "ipython",
    "version": 3
   },
   "file_extension": ".py",
   "mimetype": "text/x-python",
   "name": "python",
   "nbconvert_exporter": "python",
   "pygments_lexer": "ipython3",
   "version": "3.10.9"
  }
 },
 "nbformat": 4,
 "nbformat_minor": 4
}
