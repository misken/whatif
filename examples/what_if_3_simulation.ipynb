{
 "cells": [
  {
   "cell_type": "markdown",
   "metadata": {},
   "source": [
    "## Excel \"What if?\" analysis with Python - Part 3: Monte-carlo simulation\n"
   ]
  },
  {
   "cell_type": "markdown",
   "metadata": {},
   "source": [
    "In the [first part of this series](http://hselab.org/excel-to-python-1-models-datatables.html), I introduced the general idea of exploring using Python for typical spreadsheet modeling activities. We built both object-oriented (OO) and non-OO versions of a basic business model (the Bookstore Model - it's repeated below for convenience) and learned a few things about doing OOP in Python. Then we designed and created a `data_table` function to do sensitivity analysis much like Excel's Data Table tool (though our Python version can handle an arbitrary number of both input and output variables). In [part 2 we created a goal_seek function](http://hselab.org/excel-to-python-2-goalseek.html) that is reminiscent of Excel's Goal Seek tool. \n",
    "\n",
    "Now it's time to add Monte-Carlo simulation capabilities to our little library of functions. We'll stick with the same example. We are getting to the point where it would be convenient to package up our `BookstoreModel` class along with the `data_table` and `goal_seek` functions so that we could import them and use them here. I'll hold off on that until the next installment. For now, I've just included the code. In the spirit of consistency with the first two posts, we'll once again look at both OO and non-OO approaches to this problem."
   ]
  },
  {
   "cell_type": "code",
   "execution_count": 92,
   "metadata": {},
   "outputs": [],
   "source": [
    "import numpy as np\n",
    "import pandas as pd\n",
    "import matplotlib.pyplot as plt\n",
    "from sklearn.model_selection._search import ParameterGrid\n",
    "import seaborn as sns\n",
    "import copy"
   ]
  },
  {
   "cell_type": "code",
   "execution_count": 93,
   "metadata": {},
   "outputs": [],
   "source": [
    "%matplotlib inline"
   ]
  },
  {
   "cell_type": "markdown",
   "metadata": {},
   "source": [
    "## Bookstore model\n",
    "\n",
    "This example is based on one in the [spreadsheet modeling textbook(s) I've used in my classes since 2001](https://host.kelley.iu.edu/albrightbooks/). I started out using Practical Management Science by Winston and Albright and switched to their Business Analytics: Data Analysis and Decision Making (Albright and Winston) around 2013ish. In both books, they introduce the \"Walton Bookstore\" problem in the chapter on Monte-Carlo simulation. Here's the basic problem (with a few modifications):\n",
    "\n",
    "* we have to place an order for a perishable product (e.g. a calendar),\n",
    "* there's a known unit cost for each one ordered,\n",
    "* we have a known selling price,\n",
    "* demand is uncertain but we can model it with some simple probability distribution,\n",
    "* for each unsold item, we can get a partial refund of our unit cost,\n",
    "* we need to select the order quantity for our one order for the year; orders can only be in multiples of 25.\n"
   ]
  },
  {
   "cell_type": "markdown",
   "metadata": {},
   "source": [
    "## A non-OO approach to Monte-Carlo simulation\n",
    "Let's start by repeating our basic non-OO model code for setting inputs and computing profit."
   ]
  },
  {
   "cell_type": "code",
   "execution_count": 94,
   "metadata": {},
   "outputs": [],
   "source": [
    "# Set all of our base input values except demand\n",
    "unit_cost = 7.50\n",
    "selling_price = 10.00\n",
    "unit_refund = 2.50\n",
    "order_quantity = 200"
   ]
  },
  {
   "cell_type": "code",
   "execution_count": 95,
   "metadata": {},
   "outputs": [],
   "source": [
    "def bookstore_profit(unit_cost, selling_price, unit_refund, order_quantity, demand):\n",
    "    '''\n",
    "    Compute profit in bookstore model\n",
    "    '''\n",
    "    order_cost = unit_cost * order_quantity\n",
    "    sales_revenue = np.minimum(order_quantity, demand) * selling_price\n",
    "    refund_revenue = np.maximum(0, order_quantity - demand) * unit_refund\n",
    "    profit = sales_revenue + refund_revenue - order_cost\n",
    "    return profit"
   ]
  },
  {
   "cell_type": "markdown",
   "metadata": {},
   "source": [
    "### Generating random demand values\n",
    "Assume we've used historical data to estimate the mean and standard deviation of demand. Furthermore, let's pretend that a histogram revealed a relatively normal looking distribution. "
   ]
  },
  {
   "cell_type": "code",
   "execution_count": 96,
   "metadata": {},
   "outputs": [],
   "source": [
    "# Demand parameters\n",
    "demand_mean = 193\n",
    "demand_sd = 40"
   ]
  },
  {
   "cell_type": "markdown",
   "metadata": {},
   "source": [
    "We can generate a vector of random demand realizations and then feed that vector to our `compute_profit` function. The result will be a vector of profits with the same number of elements as in our demand vector. Then we can analyze the results using descriptive statistics and plotting."
   ]
  },
  {
   "cell_type": "markdown",
   "metadata": {},
   "source": [
    "Recently, numpy has updated their random variable generation routines. The details are at https://numpy.org/doc/stable/reference/random/index.html.\n",
    "\n",
    "The `scipy.stats` module contains a large number of probability distributions and each has numerous functions for calculating things such as pdf or CDF values, quantiles, and various moments. You can see the details at https://docs.scipy.org/doc/scipy/reference/stats.html.\n",
    "\n",
    "Let's assume we want to model demand with a normal distribution. We already initialized variables `demand_mean` and `demand_sd` with the mean and standard deviation of demand. \n",
    "\n",
    "The plan:\n",
    "\n",
    "* import random number generation function from numpy,\n",
    "* initialize a random number generator object,\n",
    "* use numpy's `normal` function to generate normally distributed random variates (we'll do 1000),\n",
    "* compute basic summary stats for the generated random variates,\n",
    "* create a histogram of the generated random variates to make sure they look normal (they will),\n",
    "* use `scipy.stats.norm` to create a normal distribution object,\n",
    "* use that normal distribution object to overlay a normal density curve on our histogram."
   ]
  },
  {
   "cell_type": "code",
   "execution_count": 97,
   "metadata": {},
   "outputs": [
    {
     "name": "stdout",
     "output_type": "stream",
     "text": [
      "Demand mean = 193\n",
      "Demand sd = 40\n"
     ]
    }
   ],
   "source": [
    "print(f\"Demand mean = {demand_mean}\")\n",
    "print(f\"Demand sd = {demand_sd}\")"
   ]
  },
  {
   "cell_type": "markdown",
   "metadata": {},
   "source": [
    "Before we launch into this, let's consider something that modelers often do with uncertain quantities - they simply replace them with their mean. As a benchmark, let's see what we'd estimate profit to be if we simply used the value of `demand_mean`. Remember this number."
   ]
  },
  {
   "cell_type": "code",
   "execution_count": 98,
   "metadata": {},
   "outputs": [
    {
     "data": {
      "text/plain": [
       "447.5"
      ]
     },
     "execution_count": 98,
     "metadata": {},
     "output_type": "execute_result"
    }
   ],
   "source": [
    "deterministic_profit = bookstore_profit(unit_cost, selling_price, unit_refund, order_quantity, demand_mean)\n",
    "deterministic_profit"
   ]
  },
  {
   "cell_type": "markdown",
   "metadata": {},
   "source": [
    "First we need to import the default random number generator and create a random generator variable. I'll use 4470 as the seed. This generator generates numbers uniformly between 0 and 1, which can be used to generate random variates from whatever distribution we choose."
   ]
  },
  {
   "cell_type": "code",
   "execution_count": 99,
   "metadata": {},
   "outputs": [
    {
     "data": {
      "text/plain": [
       "0.45855804438027437"
      ]
     },
     "execution_count": 99,
     "metadata": {},
     "output_type": "execute_result"
    }
   ],
   "source": [
    "from numpy.random import default_rng\n",
    "rg = default_rng(4470)\n",
    "rg.random() # Generate one just to see it work"
   ]
  },
  {
   "cell_type": "markdown",
   "metadata": {},
   "source": [
    "Generate 1000 random variates from a normal distribution with our given mean and standard deviation."
   ]
  },
  {
   "cell_type": "code",
   "execution_count": 100,
   "metadata": {},
   "outputs": [],
   "source": [
    "demand_sim = rg.normal(demand_mean, demand_sd, 1000)"
   ]
  },
  {
   "cell_type": "markdown",
   "metadata": {},
   "source": [
    "Obviously we are generating variates from a continuous distribution."
   ]
  },
  {
   "cell_type": "code",
   "execution_count": 101,
   "metadata": {},
   "outputs": [
    {
     "data": {
      "text/plain": [
       "array([217.03616307, 133.37168121, 231.54405167, 215.05711803,\n",
       "       183.66669223, 268.28497816, 255.99191635, 188.58125604,\n",
       "       164.62174798, 170.1384389 ])"
      ]
     },
     "execution_count": 101,
     "metadata": {},
     "output_type": "execute_result"
    }
   ],
   "source": [
    "demand_sim[:10]"
   ]
  },
  {
   "cell_type": "markdown",
   "metadata": {},
   "source": [
    "If we want integer valued demands, we can simply round the values."
   ]
  },
  {
   "cell_type": "code",
   "execution_count": 102,
   "metadata": {},
   "outputs": [
    {
     "data": {
      "text/plain": [
       "array([218., 203., 186., 203., 215., 151., 255., 176., 223., 252.])"
      ]
     },
     "execution_count": 102,
     "metadata": {},
     "output_type": "execute_result"
    }
   ],
   "source": [
    "demand_sim = np.around(rg.normal(demand_mean, demand_sd, 1000))\n",
    "demand_sim[:10]"
   ]
  },
  {
   "cell_type": "markdown",
   "metadata": {},
   "source": [
    "Before plotting the histogram, let's compute basic summary stats for our vector of random demands."
   ]
  },
  {
   "cell_type": "code",
   "execution_count": 103,
   "metadata": {},
   "outputs": [
    {
     "name": "stdout",
     "output_type": "stream",
     "text": [
      "Mean demand = 192.056, Std dev demand = 40.170\n"
     ]
    }
   ],
   "source": [
    "print(f\"Mean demand = {demand_sim.mean():.3f}, Std dev demand = {demand_sim.std():.3f}\")"
   ]
  },
  {
   "cell_type": "markdown",
   "metadata": {},
   "source": [
    "Now use SciPy to create a normal random variable instance with the mean and standard deviation based on `demand_mean` and `demand_sd`. Note the data type. Then we'll be able to use its built in `pdf` method to plot its density and its `ppf` method to get percentiles to use for our x-axis limits."
   ]
  },
  {
   "cell_type": "code",
   "execution_count": 104,
   "metadata": {},
   "outputs": [],
   "source": [
    "from scipy.stats import norm"
   ]
  },
  {
   "cell_type": "code",
   "execution_count": 105,
   "metadata": {},
   "outputs": [
    {
     "name": "stdout",
     "output_type": "stream",
     "text": [
      "<class 'scipy.stats._distn_infrastructure.rv_frozen'>\n"
     ]
    }
   ],
   "source": [
    "rv_normal = norm(loc=demand_mean, scale=demand_sd)\n",
    "print(type(rv_normal))"
   ]
  },
  {
   "cell_type": "code",
   "execution_count": 106,
   "metadata": {},
   "outputs": [
    {
     "data": {
      "image/png": "[encoded data removed]",
      "text/plain": [
       "<Figure size 432x288 with 1 Axes>"
      ]
     },
     "metadata": {
      "needs_background": "light"
     },
     "output_type": "display_data"
    }
   ],
   "source": [
    "plt.title(\"Demand histogram\")\n",
    "plt.xlabel(\"Demand\")\n",
    "plt.ylabel(\"Density\")\n",
    "plt.hist(demand_sim, density=True);\n",
    "\n",
    "x_normal = np.linspace(rv_normal.ppf(0.0001),\n",
    "                rv_normal.ppf(0.999), 500)\n",
    "\n",
    "plt.plot(x_normal, rv_normal.pdf(x_normal),\n",
    "       'r-', lw=3, alpha=0.6, label='Normal pdf');"
   ]
  },
  {
   "cell_type": "markdown",
   "metadata": {},
   "source": [
    "### Running the simulation"
   ]
  },
  {
   "cell_type": "markdown",
   "metadata": {},
   "source": [
    "Now that we can generate random demands, we can simulate by simply passing in the vector of random demands to the `compute_profit` function - all the other model inputs are held fixed at their current values. Let's remind ourselves of these values."
   ]
  },
  {
   "cell_type": "code",
   "execution_count": 107,
   "metadata": {},
   "outputs": [
    {
     "name": "stdout",
     "output_type": "stream",
     "text": [
      "unit_cost: 7.5 \n",
      "selling_price: 10.0 \n",
      "unit_refund: 2.5 \n",
      "order_quantity: 200\n"
     ]
    }
   ],
   "source": [
    "message = f\"unit_cost: {unit_cost} \\n\" \\\n",
    "          f\"selling_price: {selling_price} \\n\" \\\n",
    "          f\"unit_refund: {unit_refund} \\n\" \\\n",
    "          f\"order_quantity: {order_quantity}\"\n",
    "\n",
    "print(message)"
   ]
  },
  {
   "cell_type": "markdown",
   "metadata": {},
   "source": [
    "We use a list comprehension to evaluate profit for each demand realization. This is exactly the same way we did [the non-OO 1-way data table in the first part of this series](https://render.githubusercontent.com/view/ipynb?color_mode=light&commit=f4199a94329d315b7c821c0768b6b35f96cc5ad9&enc_url=68747470733a2f2f7261772e67697468756275736572636f6e74656e742e636f6d2f6d69736b656e2f6161702f663431393961393433323964333135623763383231633037363862366233356639366363356164392f62617369635f6d6f64656c696e675f6f6f2f776861745f69665f315f6d6f64656c5f646174617461626c652e6970796e62&nwo=misken%2Faap&path=basic_modeling_oo%2Fwhat_if_1_model_datatable.ipynb&repository_id=333156463&repository_type=Repository#Sensitivity-analysis-analogous-to-a-1-way-Data-Table). Let's wrap the resulting list with the pandas `Series` constructor so that we can use some of pandas built in analysis tools such as the `describe` method."
   ]
  },
  {
   "cell_type": "code",
   "execution_count": 108,
   "metadata": {},
   "outputs": [],
   "source": [
    "profit_sim = pd.Series([(bookstore_profit(unit_cost, selling_price, unit_refund, order_quantity, d)) \n",
    "               for d in demand_sim])"
   ]
  },
  {
   "cell_type": "code",
   "execution_count": 109,
   "metadata": {},
   "outputs": [
    {
     "data": {
      "text/plain": [
       "0      500.0\n",
       "1      500.0\n",
       "2      395.0\n",
       "3      500.0\n",
       "4      500.0\n",
       "       ...  \n",
       "995    500.0\n",
       "996    500.0\n",
       "997    387.5\n",
       "998    500.0\n",
       "999    320.0\n",
       "Length: 1000, dtype: float64"
      ]
     },
     "execution_count": 109,
     "metadata": {},
     "output_type": "execute_result"
    }
   ],
   "source": [
    "profit_sim"
   ]
  },
  {
   "cell_type": "markdown",
   "metadata": {},
   "source": [
    "### Analyzing the simulation results"
   ]
  },
  {
   "cell_type": "code",
   "execution_count": 110,
   "metadata": {},
   "outputs": [
    {
     "data": {
      "text/plain": [
       "count    1000.000000\n",
       "mean      347.832500\n",
       "std       190.630397\n",
       "min      -617.500000\n",
       "25%       243.125000\n",
       "50%       432.500000\n",
       "75%       500.000000\n",
       "max       500.000000\n",
       "dtype: float64"
      ]
     },
     "execution_count": 110,
     "metadata": {},
     "output_type": "execute_result"
    }
   ],
   "source": [
    "profit_sim.describe()"
   ]
  },
  {
   "cell_type": "markdown",
   "metadata": {},
   "source": [
    "The [Flaw of Averages](http://flawofaverages.com/) shows up here (compare mean of simulation output to the profit we got by replacing demand with mean demand). "
   ]
  },
  {
   "cell_type": "code",
   "execution_count": 111,
   "metadata": {},
   "outputs": [
    {
     "name": "stdout",
     "output_type": "stream",
     "text": [
      "Deterministic profit = 447.5\n",
      "Simulation profit = 347.8325\n"
     ]
    }
   ],
   "source": [
    "print(f\"Deterministic profit = {deterministic_profit}\")\n",
    "print(f\"Simulation profit = {profit_sim.describe()['mean']}\")"
   ]
  },
  {
   "cell_type": "markdown",
   "metadata": {},
   "source": [
    "By ignoring uncertainty, we were wildly optimistic as to what our mean profit would be. \n",
    "\n",
    "**QUESTION** Why do you think these numbers are so different?\n",
    "\n",
    "Let's look at the histogram of profit based on the simulation model to shed some light on this."
   ]
  },
  {
   "cell_type": "code",
   "execution_count": 112,
   "metadata": {},
   "outputs": [
    {
     "data": {
      "image/png": "[encoded data removed]",
      "text/plain": [
       "<Figure size 432x288 with 1 Axes>"
      ]
     },
     "metadata": {
      "needs_background": "light"
     },
     "output_type": "display_data"
    }
   ],
   "source": [
    "plt.title(\"Profit histogram\")\n",
    "plt.xlabel(\"Profit\")\n",
    "plt.ylabel(\"Num observations\")\n",
    "plt.ylim(0, 600)\n",
    "plt.hist(profit_sim, density=False);\n"
   ]
  },
  {
   "cell_type": "markdown",
   "metadata": {},
   "source": [
    "While `demand` was normally distributed, the resulting profit distribution is definitely **not** normally distributed. I'm sure you've figured out why this histogram has the shape it does and how this relates to the Flaw of Averages.\n",
    "\n",
    "The `scipy.stats` library can be used to answer typical questions about the distribution of profit."
   ]
  },
  {
   "cell_type": "code",
   "execution_count": null,
   "metadata": {},
   "outputs": [],
   "source": [
    "from scipy import stats"
   ]
  },
  {
   "cell_type": "markdown",
   "metadata": {},
   "source": [
    "What's the chance we have a negative profit?"
   ]
  },
  {
   "cell_type": "code",
   "execution_count": 113,
   "metadata": {},
   "outputs": [
    {
     "name": "stdout",
     "output_type": "stream",
     "text": [
      "0.063\n"
     ]
    }
   ],
   "source": [
    "print(stats.percentileofscore(profit_sim, 0) / 100.0)"
   ]
  },
  {
   "cell_type": "markdown",
   "metadata": {},
   "source": [
    "**QUESTION** What is the probability that profit is between -200 and 200? "
   ]
  },
  {
   "cell_type": "code",
   "execution_count": null,
   "metadata": {},
   "outputs": [],
   "source": [
    "# Probability profit is between -200, 200\n"
   ]
  },
  {
   "cell_type": "markdown",
   "metadata": {},
   "source": [
    "### Multiple Uncertain Inputs\n",
    "\n",
    "Again, note how we used a list comprehension to evaluate profit for each demand realization. If we have multiple random inputs we **cannot** use multiple `for` statements as we don't want the cross product of the random number vectors. Instead we'd need to `zip` them up into tuples. Here's a simple example of tuple zipping."
   ]
  },
  {
   "cell_type": "code",
   "execution_count": 115,
   "metadata": {},
   "outputs": [
    {
     "name": "stdout",
     "output_type": "stream",
     "text": [
      "(1, 10)\n",
      "(2, 20)\n",
      "(3, 30)\n"
     ]
    }
   ],
   "source": [
    "alpha = [1, 2, 3]\n",
    "beta = [10, 20, 30]\n",
    "\n",
    "for t in zip(alpha, beta):\n",
    "    print(t)"
   ]
  },
  {
   "cell_type": "markdown",
   "metadata": {},
   "source": [
    "Assume we have some uncertainty around both the `unit_cost` and `unit_refund` values. Let's model our uncertainty with uniform distributions:\n",
    "\n",
    "* `unit_cost` $\\sim U(7.00, 8.00)$\n",
    "* `unit_refund` $\\sim U(2.00, 3.00)$"
   ]
  },
  {
   "cell_type": "code",
   "execution_count": 120,
   "metadata": {},
   "outputs": [],
   "source": [
    "unit_cost_sim = rg.uniform(7.0, 8.0, 1000)\n",
    "unit_refund_sim = rg.uniform(2.0, 3.0, 1000)\n",
    "\n",
    "rv_uniform = stats.uniform(loc=7.0, scale=1.0)"
   ]
  },
  {
   "cell_type": "code",
   "execution_count": 121,
   "metadata": {},
   "outputs": [
    {
     "data": {
      "image/png": "[encoded data removed]",
      "text/plain": [
       "<Figure size 432x288 with 1 Axes>"
      ]
     },
     "metadata": {
      "needs_background": "light"
     },
     "output_type": "display_data"
    }
   ],
   "source": [
    "plt.title(\"Unit Cost histogram\")\n",
    "plt.xlabel(\"Unit Cost\")\n",
    "plt.ylabel(\"Density\")\n",
    "plt.hist(unit_cost_sim, density=True);\n",
    "\n",
    "x_uniform = np.linspace(7.0, 8.0, 100)\n",
    "\n",
    "plt.plot(x_uniform, rv_uniform.pdf(x_uniform),\n",
    "       'r-', lw=3, alpha=0.6, label='Uniform pdf');"
   ]
  },
  {
   "cell_type": "markdown",
   "metadata": {},
   "source": [
    "Let's zip the three random vectors into tuples."
   ]
  },
  {
   "cell_type": "code",
   "execution_count": 122,
   "metadata": {},
   "outputs": [],
   "source": [
    "random_inputs = zip(demand_sim, unit_cost_sim, unit_refund_sim)"
   ]
  },
  {
   "cell_type": "code",
   "execution_count": 123,
   "metadata": {},
   "outputs": [],
   "source": [
    "profit_sim_2 = pd.Series([(bookstore_profit(uc, selling_price, uf, order_quantity, d)) \n",
    "               for (d, uc, uf) in random_inputs])"
   ]
  },
  {
   "cell_type": "code",
   "execution_count": 124,
   "metadata": {},
   "outputs": [
    {
     "data": {
      "image/png": "[encoded data removed]",
      "text/plain": [
       "<Figure size 432x288 with 1 Axes>"
      ]
     },
     "metadata": {
      "needs_background": "light"
     },
     "output_type": "display_data"
    }
   ],
   "source": [
    "plt.title(\"Profit histogram for three uncertain inputs\")\n",
    "plt.xlabel(\"Profit\")\n",
    "plt.ylabel(\"Num observations\")\n",
    "plt.ylim(0, 600)\n",
    "plt.hist(profit_sim_2, density=False);"
   ]
  },
  {
   "cell_type": "markdown",
   "metadata": {},
   "source": [
    "The additional uncertainty has made the distribution somewhat less extreme in the right tail (it's still highly skewed)."
   ]
  },
  {
   "cell_type": "markdown",
   "metadata": {},
   "source": [
    "### Multiple scenarios: profit vs order quantity\n",
    "In addition to random inputs, we often have other inputs we want to vary over a defined range - i.e. scenarios. Just as we did Part 1 of this series with data tables, we can use a list comprehension to iterate over the scenarios."
   ]
  },
  {
   "cell_type": "code",
   "execution_count": 125,
   "metadata": {},
   "outputs": [
    {
     "data": {
      "image/png": "[encoded data removed]",
      "text/plain": [
       "<Figure size 648x864 with 12 Axes>"
      ]
     },
     "metadata": {
      "needs_background": "light"
     },
     "output_type": "display_data"
    }
   ],
   "source": [
    "# Create array of order quantities (the scenarios) \n",
    "order_quantity_range = np.arange(100, 400, 25)\n",
    "\n",
    "# Create simulation data table \n",
    "sim_table_1 = [(oq, bookstore_profit(unit_cost, selling_price, unit_refund, oq, d)) \n",
    "                    for oq in order_quantity_range for d in demand_sim]\n",
    "\n",
    "# Convert to dataframe\n",
    "stbl_1_df = pd.DataFrame(sim_table_1, columns=['OrderQuantity', 'Profit'])\n",
    "\n",
    "# Plot the results\n",
    "profit_histo_g = sns.FacetGrid(stbl_1_df, col=\"OrderQuantity\", sharey=True, col_wrap=3)\n",
    "profit_histo_g = profit_histo_g.map(plt.hist, \"Profit\")"
   ]
  },
  {
   "cell_type": "markdown",
   "metadata": {},
   "source": [
    "Another way to compare the profit distributions across order quantities is to use boxplots."
   ]
  },
  {
   "cell_type": "code",
   "execution_count": 126,
   "metadata": {},
   "outputs": [
    {
     "data": {
      "image/png": "[encoded data removed]",
      "text/plain": [
       "<Figure size 432x288 with 1 Axes>"
      ]
     },
     "metadata": {
      "needs_background": "light"
     },
     "output_type": "display_data"
    }
   ],
   "source": [
    "profit_box_g = sns.boxplot(x=\"OrderQuantity\", y=\"Profit\", data=stbl_1_df)"
   ]
  },
  {
   "cell_type": "markdown",
   "metadata": {},
   "source": [
    "## Repeat simulation using OO approach\n",
    "Just as we leveraged our non-OO data table approach for simulation, let's do the same for the OO version. We should be able to use scikit-learn's `ParameterGrid` function for optional scenario generation (think RiskSimTable if you've used @Risk). We don't want to use `ParameterGrid` for the random inputs as we don't want all combinations of them - we just want to evaluate one replication per row. We'll use the same random vectors that we created above. The basic initial design of our `simulate` function will be based on the following:\n",
    "\n",
    "* The first argument will be a model object (i.e. something like the `BookstoreModel` model) that contains an `update` method. Soon, we should add an abstract `Model` class from which specific models such as the `BookstoreModel` class can be created. The abstract class will contain the `update` method.\n",
    "* The random inputs will be passed in as a dictionary whose keys are the input variables being modeled as random and who values are an iterable representing the draws from some probability distribution. Structurally, this is similar to how inputs are specified in the `data_table` function.\n",
    "* We can optionally pass in a dictionary of scenario inputs. This is exactly like the `data_table` variable input.\n",
    "     - If no scenario input dictionary is passed in, a single simulation scenario is run using the current input values in the model object,\n",
    "     - If a scenario input dictionary is passed in, then a simulation scenario is run for every combination of parameters in the dictionary. Again, this is just like we do in the `data_table` function.\n",
    "* The output will be a set of dictionaries containing dataframes of simulation output as well standard summary stats and plots.\n",
    "\n",
    "In Parts 1 and 2 of this series we created the `BookstoreModel` class as well as `data_table` and `goal_seek` functions. Instead of repeating those definitions here, I've moved their code into **whatif.py** and we can just import it. "
   ]
  },
  {
   "cell_type": "code",
   "execution_count": 127,
   "metadata": {},
   "outputs": [],
   "source": [
    "from whatif import BookstoreModel"
   ]
  },
  {
   "cell_type": "markdown",
   "metadata": {},
   "source": [
    "Let's reset our base input values and then create a new `BookstoreModel` object with these property values."
   ]
  },
  {
   "cell_type": "code",
   "execution_count": 128,
   "metadata": {},
   "outputs": [],
   "source": [
    "unit_cost = 7.50\n",
    "selling_price = 10.00\n",
    "unit_refund = 2.50\n",
    "\n",
    "order_quantity = 200\n",
    "\n",
    "demand_mean = 193\n",
    "demand_sd = 40\n",
    "\n",
    "demand = demand_mean"
   ]
  },
  {
   "cell_type": "code",
   "execution_count": 129,
   "metadata": {},
   "outputs": [],
   "source": [
    "model2 = BookstoreModel(unit_cost=unit_cost, \n",
    "                        selling_price=selling_price,\n",
    "                        unit_refund=unit_refund,\n",
    "                        order_quantity=order_quantity,\n",
    "                        demand=demand)"
   ]
  },
  {
   "cell_type": "markdown",
   "metadata": {},
   "source": [
    "Again, we will model three of our inputs, `demand`, `unit_cost`, and `unit_refund` as random variables. All three were creatd earlier in the notebook, but here they are again. Let's just do 100 scenarios to reduce the number of output rows for viewing."
   ]
  },
  {
   "cell_type": "code",
   "execution_count": null,
   "metadata": {},
   "outputs": [],
   "source": [
    "num_reps = 100\n",
    "demand_sim = rg.normal(demand_mean, demand_sd, num_reps)\n",
    "unit_cost_sim = rg.uniform(7.0, 8.0, num_reps)\n",
    "unit_refund_sim = rg.uniform(2.0, 3.0, num_reps)\n",
    "\n",
    "random_inputs = {'demand': demand_sim,\n",
    "                'unit_cost': unit_cost_sim,\n",
    "                'unit_refund': unit_refund_sim}"
   ]
  },
  {
   "cell_type": "markdown",
   "metadata": {},
   "source": [
    "It's also perfectly fine to not pre-generate the random variates. If we decide to specify the inputs in this way (next cell), then our `simulate` function should include a boolean input that specifies whether the raw simulated input values should be saved and returned as part of its output."
   ]
  },
  {
   "cell_type": "code",
   "execution_count": 130,
   "metadata": {},
   "outputs": [],
   "source": [
    "random_inputs = {'demand': rg.normal(demand_mean, demand_sd, num_reps),\n",
    "                'unit_cost': rg.uniform(7.0, 8.0, num_reps),\n",
    "                'unit_refund': rg.uniform(2.0, 3.0, num_reps)}"
   ]
  },
  {
   "cell_type": "markdown",
   "metadata": {},
   "source": [
    "For the scenario inputs, we'll use the range of order quantity values used in the `data_table` examples."
   ]
  },
  {
   "cell_type": "code",
   "execution_count": 131,
   "metadata": {},
   "outputs": [
    {
     "data": {
      "text/plain": [
       "[{'order_quantity': 70},\n",
       " {'order_quantity': 120},\n",
       " {'order_quantity': 170},\n",
       " {'order_quantity': 220},\n",
       " {'order_quantity': 270},\n",
       " {'order_quantity': 320}]"
      ]
     },
     "execution_count": 131,
     "metadata": {},
     "output_type": "execute_result"
    }
   ],
   "source": [
    "scenario_inputs = {'order_quantity': np.arange(70, 321, 50)}\n",
    "list(ParameterGrid(scenario_inputs))"
   ]
  },
  {
   "cell_type": "markdown",
   "metadata": {},
   "source": [
    "We'll stick with `profit` as the only output variable for now."
   ]
  },
  {
   "cell_type": "code",
   "execution_count": 132,
   "metadata": {},
   "outputs": [],
   "source": [
    "sim_outputs = ['profit']"
   ]
  },
  {
   "cell_type": "markdown",
   "metadata": {},
   "source": [
    "Here's my first version of a `simulate` function."
   ]
  },
  {
   "cell_type": "code",
   "execution_count": 133,
   "metadata": {},
   "outputs": [],
   "source": [
    "def simulate(model, random_inputs, outputs, scenario_inputs=None, keep_random_inputs=False):\n",
    "    '''Simulate model for one or more scenarios\n",
    "\n",
    "    Parameters\n",
    "    ----------\n",
    "    model : object\n",
    "        User defined object containing the appropriate methods and properties for computing outputs from inputs\n",
    "    random_intputs : dict of str to sequence of random variates\n",
    "        Keys are stochastic input variable names and values are sequence of $n$ random variates, where $n$ is the number of simulation replications\n",
    "    outputs : list of str\n",
    "        List of output variable names\n",
    "    scenario_inputs : optional (default is None), dict of str to sequence\n",
    "        Keys are deterministic input variable names and values are sequence of values for each scenario for this variable. Is consumed by\n",
    "        scikit-learn ParameterGrid() function. See https://scikit-learn.org/stable/modules/generated/sklearn.model_selection.ParameterGrid.html\n",
    "    keep_random_inputs : optional (default is False), boolean\n",
    "        If True, all the random input variates are included in the results dataframe\n",
    "\n",
    "    Returns\n",
    "    -------\n",
    "    results_df : list of dict\n",
    "        Values of all outputs for each simulation replication. If `scenario_inputs` is not None, then this is also for every combination of scenario inputs\n",
    "    '''\n",
    "    \n",
    "    # Clone the model\n",
    "    model_clone = copy.deepcopy(model)\n",
    "    \n",
    "    # Update clone with random_inputs\n",
    "    model_clone.update(random_inputs)\n",
    "    \n",
    "    # Store raw simulation input values if desired\n",
    "    if keep_random_inputs:\n",
    "        scenario_base_vals = vars(model_clone)\n",
    "    else:\n",
    "        scenario_base_vals = vars(model)\n",
    "    \n",
    "    # Initialize output counters and containers\n",
    "    scenario_num = 0\n",
    "    scenario_results = []\n",
    "    \n",
    "    # Check if multiple scenarios\n",
    "    if scenario_inputs is not None:\n",
    "        # Create parameter grid for scenario inputs\n",
    "        sim_param_grid = list(ParameterGrid(scenario_inputs))\n",
    "        \n",
    "        # Scenario loop\n",
    "        for params in sim_param_grid:\n",
    "            model_clone.update(params)\n",
    "            # Initialize scenario related outputs\n",
    "            result = {}\n",
    "            scenario_vals = copy.copy(params)\n",
    "            result['scenario_base_vals'] = scenario_base_vals\n",
    "            result['scenario_num'] = scenario_num\n",
    "            result['scenario_vals'] = scenario_vals\n",
    "            raw_output = {}\n",
    "            \n",
    "            # Output measure loop\n",
    "            for output_name in outputs:\n",
    "                output_array = getattr(model_clone, output_name)()\n",
    "                raw_output[output_name] = output_array\n",
    "            \n",
    "            # Gather results for this scenario\n",
    "            result['output'] = raw_output\n",
    "            scenario_results.append(result)\n",
    "            scenario_num += 1\n",
    "                \n",
    "        return scenario_results\n",
    "\n",
    "    else:\n",
    "        # Similar logic to above, but only a single scenario\n",
    "        results = []\n",
    "        result = {}\n",
    "\n",
    "        result['scenario_base_vals'] = scenario_base_vals\n",
    "        result['scenario_num'] = scenario_num\n",
    "        result['scenario_vals'] = {}\n",
    "        \n",
    "        raw_output = {}\n",
    "        for output_name in outputs:\n",
    "            output_array = getattr(model_clone, output_name)()\n",
    "            raw_output[output_name] = output_array\n",
    "            \n",
    "        result['output'] = raw_output  \n",
    "        results.append(result)\n",
    "\n",
    "        return results"
   ]
  },
  {
   "cell_type": "markdown",
   "metadata": {},
   "source": [
    "Let's run the simulation."
   ]
  },
  {
   "cell_type": "code",
   "execution_count": 134,
   "metadata": {},
   "outputs": [],
   "source": [
    "model2_results = simulate(model2, random_inputs, sim_outputs, scenario_inputs)"
   ]
  },
  {
   "cell_type": "markdown",
   "metadata": {},
   "source": [
    "The output (for now) is a list of dictionaries. Each dictionary corresponds to one scenario (in this case, one value of `order_quantity`. Let's pluck out one scenario near the middle of the order quantity values and explore the outputs."
   ]
  },
  {
   "cell_type": "code",
   "execution_count": 135,
   "metadata": {},
   "outputs": [
    {
     "data": {
      "text/plain": [
       "dict_keys(['scenario_base_vals', 'scenario_num', 'scenario_vals', 'output'])"
      ]
     },
     "execution_count": 135,
     "metadata": {},
     "output_type": "execute_result"
    }
   ],
   "source": [
    "which_scenario = 4\n",
    "\n",
    "# What are the keys in the output dictionaries\n",
    "model2_results[which_scenario].keys()"
   ]
  },
  {
   "cell_type": "code",
   "execution_count": 136,
   "metadata": {},
   "outputs": [
    {
     "data": {
      "text/plain": [
       "{'order_quantity': 270}"
      ]
     },
     "execution_count": 136,
     "metadata": {},
     "output_type": "execute_result"
    }
   ],
   "source": [
    "model2_results[which_scenario]['scenario_vals']"
   ]
  },
  {
   "cell_type": "code",
   "execution_count": 137,
   "metadata": {},
   "outputs": [
    {
     "name": "stdout",
     "output_type": "stream",
     "text": [
      "0 {'order_quantity': 70} 175.1831945676746\n",
      "1 {'order_quantity': 120} 294.99300504737914\n",
      "2 {'order_quantity': 170} 355.44956334588335\n",
      "3 {'order_quantity': 220} 243.91717740877237\n",
      "4 {'order_quantity': 270} -11.55408847929459\n",
      "5 {'order_quantity': 320} -327.3827770793086\n"
     ]
    }
   ],
   "source": [
    "for scenario in model2_results:\n",
    "    print(scenario['scenario_num'], scenario['scenario_vals'], scenario['output']['profit'].mean())"
   ]
  },
  {
   "cell_type": "markdown",
   "metadata": {},
   "source": [
    "Let's take a look at an entry from one of the scenario dictionaries."
   ]
  },
  {
   "cell_type": "code",
   "execution_count": 138,
   "metadata": {},
   "outputs": [
    {
     "data": {
      "text/plain": [
       "{'scenario_base_vals': {'unit_cost': 7.5,\n",
       "  'selling_price': 10.0,\n",
       "  'unit_refund': 2.5,\n",
       "  'order_quantity': 200,\n",
       "  'demand': 193},\n",
       " 'scenario_num': 3,\n",
       " 'scenario_vals': {'order_quantity': 220},\n",
       " 'output': {'profit': array([ 496.89485674,  574.10065243,   21.2413797 , -134.13306813,\n",
       "         -627.4325798 ,  324.36025753,  271.10956028,  287.29947266,\n",
       "          293.47073149,  251.69292455,  593.29258543,   11.41877969,\n",
       "          117.69303486,  480.09156745,  212.9358218 ,  468.09772032,\n",
       "          441.39196611, -135.58055331,  180.24117586,  487.70874712,\n",
       "          637.10955131,  567.49407222,  648.53096605,   -5.0104715 ,\n",
       "         -373.94267106,  116.86065641,  470.91755184,  176.66447247,\n",
       "          479.29010767,  450.29187162, -406.77400632,  413.32808513,\n",
       "          290.47869988,  553.01204937,   16.74533154,  -14.06400122,\n",
       "          473.45747193,  494.22719053,  570.54031723,  204.07998089,\n",
       "           68.90858737,  256.97582481,  261.10959079,  306.59019514,\n",
       "         -396.50782455,  -88.9334582 ,  -26.66810888,  278.74094694,\n",
       "         -180.57745385,   11.82966228,   77.14050645,   28.35767941,\n",
       "          639.34400165, -110.41721836,  442.53227102,  512.29883573,\n",
       "          554.48563016, -289.15108728,  282.3488382 , -383.00272027,\n",
       "          570.77235006,  566.79828843,  381.02339785,  504.43136342,\n",
       "          485.85315109,  496.1325777 ,  593.76831621, -432.08146989,\n",
       "          490.85609626,  564.85840948,  173.91099067,   92.16906801,\n",
       "          312.50261304,  158.88833065,  -62.96888357,    8.98358714,\n",
       "          492.02912867,  484.9582618 , -141.31633849, -241.218607  ,\n",
       "          509.50100513,  336.33395183,  299.31956434,  648.86524397,\n",
       "         -255.74944651,   20.07033358,  589.66878778,  469.42569076,\n",
       "          639.88390792,   -9.88721401,  142.79640557,   20.19650652,\n",
       "          509.93086145,  327.51346051,  590.93642535,  293.37808399,\n",
       "          -84.20837114,  166.28696899,  408.96533695,  643.60264901])}}"
      ]
     },
     "execution_count": 138,
     "metadata": {},
     "output_type": "execute_result"
    }
   ],
   "source": [
    "model2_results[3]"
   ]
  },
  {
   "cell_type": "markdown",
   "metadata": {},
   "source": [
    "Let's write a gather results function to turn results object into analysis ready DataFrame."
   ]
  },
  {
   "cell_type": "code",
   "execution_count": 139,
   "metadata": {},
   "outputs": [],
   "source": [
    "def get_sim_results_df(results):\n",
    "    \n",
    "    dfs = []    \n",
    "    for r in results:\n",
    "        df = pd.DataFrame(r['output'])\n",
    "        df['scenario_num'] = r['scenario_num']\n",
    "        for key, val in r['scenario_vals'].items():\n",
    "            df[key] = val\n",
    "            \n",
    "        dfs.append(df)\n",
    "\n",
    "    results_df = pd.concat(dfs)\n",
    "    \n",
    "    return results_df"
   ]
  },
  {
   "cell_type": "code",
   "execution_count": 140,
   "metadata": {},
   "outputs": [],
   "source": [
    "model2_results_df = get_sim_results_df(model2_results)"
   ]
  },
  {
   "cell_type": "code",
   "execution_count": 141,
   "metadata": {},
   "outputs": [
    {
     "data": {
      "text/html": [
       "<div>\n",
       "<style scoped>\n",
       "    .dataframe tbody tr th:only-of-type {\n",
       "        vertical-align: middle;\n",
       "    }\n",
       "\n",
       "    .dataframe tbody tr th {\n",
       "        vertical-align: top;\n",
       "    }\n",
       "\n",
       "    .dataframe thead th {\n",
       "        text-align: right;\n",
       "    }\n",
       "</style>\n",
       "<table border=\"1\" class=\"dataframe\">\n",
       "  <thead>\n",
       "    <tr style=\"text-align: right;\">\n",
       "      <th></th>\n",
       "      <th>profit</th>\n",
       "      <th>scenario_num</th>\n",
       "      <th>order_quantity</th>\n",
       "    </tr>\n",
       "  </thead>\n",
       "  <tbody>\n",
       "    <tr>\n",
       "      <th>0</th>\n",
       "      <td>158.102909</td>\n",
       "      <td>0</td>\n",
       "      <td>70</td>\n",
       "    </tr>\n",
       "    <tr>\n",
       "      <th>1</th>\n",
       "      <td>182.668389</td>\n",
       "      <td>0</td>\n",
       "      <td>70</td>\n",
       "    </tr>\n",
       "    <tr>\n",
       "      <th>2</th>\n",
       "      <td>170.118922</td>\n",
       "      <td>0</td>\n",
       "      <td>70</td>\n",
       "    </tr>\n",
       "    <tr>\n",
       "      <th>3</th>\n",
       "      <td>192.824404</td>\n",
       "      <td>0</td>\n",
       "      <td>70</td>\n",
       "    </tr>\n",
       "    <tr>\n",
       "      <th>4</th>\n",
       "      <td>188.753595</td>\n",
       "      <td>0</td>\n",
       "      <td>70</td>\n",
       "    </tr>\n",
       "    <tr>\n",
       "      <th>...</th>\n",
       "      <td>...</td>\n",
       "      <td>...</td>\n",
       "      <td>...</td>\n",
       "    </tr>\n",
       "    <tr>\n",
       "      <th>95</th>\n",
       "      <td>-326.058841</td>\n",
       "      <td>5</td>\n",
       "      <td>320</td>\n",
       "    </tr>\n",
       "    <tr>\n",
       "      <th>96</th>\n",
       "      <td>-739.334769</td>\n",
       "      <td>5</td>\n",
       "      <td>320</td>\n",
       "    </tr>\n",
       "    <tr>\n",
       "      <th>97</th>\n",
       "      <td>-494.839754</td>\n",
       "      <td>5</td>\n",
       "      <td>320</td>\n",
       "    </tr>\n",
       "    <tr>\n",
       "      <th>98</th>\n",
       "      <td>-236.022659</td>\n",
       "      <td>5</td>\n",
       "      <td>320</td>\n",
       "    </tr>\n",
       "    <tr>\n",
       "      <th>99</th>\n",
       "      <td>190.168398</td>\n",
       "      <td>5</td>\n",
       "      <td>320</td>\n",
       "    </tr>\n",
       "  </tbody>\n",
       "</table>\n",
       "<p>600 rows × 3 columns</p>\n",
       "</div>"
      ],
      "text/plain": [
       "        profit  scenario_num  order_quantity\n",
       "0   158.102909             0              70\n",
       "1   182.668389             0              70\n",
       "2   170.118922             0              70\n",
       "3   192.824404             0              70\n",
       "4   188.753595             0              70\n",
       "..         ...           ...             ...\n",
       "95 -326.058841             5             320\n",
       "96 -739.334769             5             320\n",
       "97 -494.839754             5             320\n",
       "98 -236.022659             5             320\n",
       "99  190.168398             5             320\n",
       "\n",
       "[600 rows x 3 columns]"
      ]
     },
     "execution_count": 141,
     "metadata": {},
     "output_type": "execute_result"
    }
   ],
   "source": [
    "model2_results_df"
   ]
  },
  {
   "cell_type": "markdown",
   "metadata": {},
   "source": [
    "Now it's easy to do plots like the following:"
   ]
  },
  {
   "cell_type": "code",
   "execution_count": 142,
   "metadata": {},
   "outputs": [
    {
     "data": {
      "image/png": "[encoded data removed]",
      "text/plain": [
       "<Figure size 432x288 with 1 Axes>"
      ]
     },
     "metadata": {
      "needs_background": "light"
     },
     "output_type": "display_data"
    }
   ],
   "source": [
    "sns.boxplot(x=\"order_quantity\", y=\"profit\", data=model2_results_df);"
   ]
  },
  {
   "cell_type": "markdown",
   "metadata": {},
   "source": [
    "... or this:"
   ]
  },
  {
   "cell_type": "code",
   "execution_count": 143,
   "metadata": {},
   "outputs": [
    {
     "data": {
      "image/png": "[encoded data removed]",
      "text/plain": [
       "<Figure size 648x432 with 6 Axes>"
      ]
     },
     "metadata": {
      "needs_background": "light"
     },
     "output_type": "display_data"
    }
   ],
   "source": [
    "profit_histo_g2 = sns.FacetGrid(model2_results_df, col='order_quantity', sharey=True, col_wrap=3)\n",
    "profit_histo_g2 = profit_histo_g2.map(plt.hist, \"profit\")"
   ]
  },
  {
   "cell_type": "markdown",
   "metadata": {},
   "source": [
    "... and statistical summaries like this:"
   ]
  },
  {
   "cell_type": "code",
   "execution_count": 144,
   "metadata": {},
   "outputs": [
    {
     "data": {
      "text/html": [
       "<div>\n",
       "<style scoped>\n",
       "    .dataframe tbody tr th:only-of-type {\n",
       "        vertical-align: middle;\n",
       "    }\n",
       "\n",
       "    .dataframe tbody tr th {\n",
       "        vertical-align: top;\n",
       "    }\n",
       "\n",
       "    .dataframe thead th {\n",
       "        text-align: right;\n",
       "    }\n",
       "</style>\n",
       "<table border=\"1\" class=\"dataframe\">\n",
       "  <thead>\n",
       "    <tr style=\"text-align: right;\">\n",
       "      <th></th>\n",
       "      <th>count</th>\n",
       "      <th>mean</th>\n",
       "      <th>std</th>\n",
       "      <th>min</th>\n",
       "      <th>25%</th>\n",
       "      <th>50%</th>\n",
       "      <th>75%</th>\n",
       "      <th>max</th>\n",
       "    </tr>\n",
       "    <tr>\n",
       "      <th>scenario_num</th>\n",
       "      <th></th>\n",
       "      <th></th>\n",
       "      <th></th>\n",
       "      <th></th>\n",
       "      <th></th>\n",
       "      <th></th>\n",
       "      <th></th>\n",
       "      <th></th>\n",
       "    </tr>\n",
       "  </thead>\n",
       "  <tbody>\n",
       "    <tr>\n",
       "      <th>0</th>\n",
       "      <td>100.0</td>\n",
       "      <td>175.183195</td>\n",
       "      <td>18.489577</td>\n",
       "      <td>143.538997</td>\n",
       "      <td>159.567881</td>\n",
       "      <td>173.444902</td>\n",
       "      <td>188.806539</td>\n",
       "      <td>209.707677</td>\n",
       "    </tr>\n",
       "    <tr>\n",
       "      <th>1</th>\n",
       "      <td>100.0</td>\n",
       "      <td>294.993005</td>\n",
       "      <td>44.350642</td>\n",
       "      <td>2.919428</td>\n",
       "      <td>271.887693</td>\n",
       "      <td>294.792460</td>\n",
       "      <td>322.650254</td>\n",
       "      <td>359.498874</td>\n",
       "    </tr>\n",
       "    <tr>\n",
       "      <th>2</th>\n",
       "      <td>100.0</td>\n",
       "      <td>355.449563</td>\n",
       "      <td>152.499154</td>\n",
       "      <td>-312.256576</td>\n",
       "      <td>349.655043</td>\n",
       "      <td>394.304850</td>\n",
       "      <td>440.916888</td>\n",
       "      <td>508.883156</td>\n",
       "    </tr>\n",
       "    <tr>\n",
       "      <th>3</th>\n",
       "      <td>100.0</td>\n",
       "      <td>243.917177</td>\n",
       "      <td>302.726045</td>\n",
       "      <td>-627.432580</td>\n",
       "      <td>19.239083</td>\n",
       "      <td>291.928392</td>\n",
       "      <td>492.578644</td>\n",
       "      <td>648.865244</td>\n",
       "    </tr>\n",
       "    <tr>\n",
       "      <th>4</th>\n",
       "      <td>100.0</td>\n",
       "      <td>-11.554088</td>\n",
       "      <td>398.824480</td>\n",
       "      <td>-942.608584</td>\n",
       "      <td>-314.708641</td>\n",
       "      <td>-27.414708</td>\n",
       "      <td>252.617212</td>\n",
       "      <td>781.907177</td>\n",
       "    </tr>\n",
       "    <tr>\n",
       "      <th>5</th>\n",
       "      <td>100.0</td>\n",
       "      <td>-327.382777</td>\n",
       "      <td>420.482910</td>\n",
       "      <td>-1257.784587</td>\n",
       "      <td>-636.226913</td>\n",
       "      <td>-352.607309</td>\n",
       "      <td>-82.428841</td>\n",
       "      <td>742.469462</td>\n",
       "    </tr>\n",
       "  </tbody>\n",
       "</table>\n",
       "</div>"
      ],
      "text/plain": [
       "              count        mean         std          min         25%  \\\n",
       "scenario_num                                                           \n",
       "0             100.0  175.183195   18.489577   143.538997  159.567881   \n",
       "1             100.0  294.993005   44.350642     2.919428  271.887693   \n",
       "2             100.0  355.449563  152.499154  -312.256576  349.655043   \n",
       "3             100.0  243.917177  302.726045  -627.432580   19.239083   \n",
       "4             100.0  -11.554088  398.824480  -942.608584 -314.708641   \n",
       "5             100.0 -327.382777  420.482910 -1257.784587 -636.226913   \n",
       "\n",
       "                     50%         75%         max  \n",
       "scenario_num                                      \n",
       "0             173.444902  188.806539  209.707677  \n",
       "1             294.792460  322.650254  359.498874  \n",
       "2             394.304850  440.916888  508.883156  \n",
       "3             291.928392  492.578644  648.865244  \n",
       "4             -27.414708  252.617212  781.907177  \n",
       "5            -352.607309  -82.428841  742.469462  "
      ]
     },
     "execution_count": 144,
     "metadata": {},
     "output_type": "execute_result"
    }
   ],
   "source": [
    "model2_results_df.groupby(['scenario_num'])['profit'].describe()"
   ]
  },
  {
   "cell_type": "markdown",
   "metadata": {},
   "source": [
    "Lot's more to do, but let's stop here for this post. The basic design seems ok and we can build on this in future installments."
   ]
  },
  {
   "cell_type": "markdown",
   "metadata": {},
   "source": [
    "**PRACTICE**\n",
    "What if the standard deviation of demand was reduced from 40 to 20? How does that impact the simulation results found in the previous example?"
   ]
  },
  {
   "cell_type": "markdown",
   "metadata": {},
   "source": [
    "## Wrap up and next steps\n",
    "We have added a basic `simulate` function to our `data_table` and `goal_seek` functions. Python is proving to be quite nice for doing Excel-style \"what if?\" analysis. \n",
    "\n",
    "In Part 4 of this series, we'll make some improvements and do some clean-up on our classes and functions. We'll move everything into a single **whatif.py** module and learn how to create a Python package to make it easy to use and share our new functions. We'll try out our package on a new model and sketch out some ideas for future enhancements to the package. It's important we also start creating some basic documentation and a user guide."
   ]
  },
  {
   "cell_type": "markdown",
   "metadata": {},
   "source": [
    "**ANSWERS**"
   ]
  },
  {
   "cell_type": "code",
   "execution_count": null,
   "metadata": {},
   "outputs": [],
   "source": [
    "# Probability profit is between -200, 200\n",
    "print((stats.percentileofscore(profit_sim, 200) - stats.percentileofscore(profit_sim, -200)) / 100.0)"
   ]
  },
  {
   "cell_type": "code",
   "execution_count": null,
   "metadata": {},
   "outputs": [],
   "source": []
  },
  {
   "cell_type": "markdown",
   "metadata": {},
   "source": [
    "**PRACTICE**"
   ]
  },
  {
   "cell_type": "code",
   "execution_count": null,
   "metadata": {},
   "outputs": [],
   "source": [
    "# Create new random inputs dictionary with std dev of demand cut in half\n",
    "random_inputs_2b = {'demand': rg.normal(demand_mean, demand_sd / 2, num_reps),\n",
    "                'unit_cost': rg.uniform(7.0, 8.0, num_reps),\n",
    "                'unit_refund': rg.uniform(2.0, 3.0, num_reps)}\n",
    "\n",
    "# Rerun the simulation\n",
    "model2b_results = simulate(model2, random_inputs_2b, sim_outputs, scenario_inputs)\n",
    "\n",
    "# Gather results into dataframe\n",
    "model2b_results_df = get_sim_results_df(model2b_results)\n",
    "\n",
    "# Plot results\n",
    "profit_histo_g2b = sns.FacetGrid(model2b_results_df, col='order_quantity', sharey=True, col_wrap=3)\n",
    "profit_histo_g2b = profit_histo_g2b.map(plt.hist, \"profit\")\n",
    "\n"
   ]
  },
  {
   "cell_type": "code",
   "execution_count": null,
   "metadata": {},
   "outputs": [],
   "source": [
    "# Summary stats\n",
    "model2b_results_df.groupby(['scenario_num'])['profit'].describe()"
   ]
  },
  {
   "cell_type": "code",
   "execution_count": null,
   "metadata": {},
   "outputs": [],
   "source": [
    "model2_results_df.groupby(['scenario_num'])['profit'].describe()"
   ]
  },
  {
   "cell_type": "code",
   "execution_count": null,
   "metadata": {},
   "outputs": [],
   "source": []
  }
 ],
 "metadata": {
  "kernelspec": {
   "display_name": "Python 3",
   "language": "python",
   "name": "python3"
  },
  "language_info": {
   "codemirror_mode": {
    "name": "ipython",
    "version": 3
   },
   "file_extension": ".py",
   "mimetype": "text/x-python",
   "name": "python",
   "nbconvert_exporter": "python",
   "pygments_lexer": "ipython3",
   "version": "3.7.10"
  }
 },
 "nbformat": 4,
 "nbformat_minor": 4
}
